{
 "cells": [
  {
   "cell_type": "code",
   "execution_count": 1,
   "metadata": {},
   "outputs": [],
   "source": [
    "a = 0xF\n",
    "print(a)\n",
    "\n",
    "# 숫자 표현 4가지 : int float complex bool \n",
    "# int 표현법 4가지 : 10, 2, 8, 16진법\n",
    "# a = 0b1 : 2진법 \n",
    "# a = 0o6 : 8진법\n",
    "# a = 0xF : 16진법\n",
    "\n",
    "# 출력할때는 항상 10진법"
   ]
  },
  {
   "cell_type": "code",
   "execution_count": 2,
   "metadata": {},
   "outputs": [],
   "source": [
    "print(bin(0xF))\n",
    "\n",
    "# 임의의 진법을 2진법으로...\n",
    "# shift + tap + tap 자세하게 설명해주는 함수\n",
    "# esc누르면 꺼짐"
   ]
  },
  {
   "cell_type": "code",
   "execution_count": 3,
   "metadata": {},
   "outputs": [],
   "source": [
    "print(hex(10))\n",
    "\n",
    "# 임의의 진법을 16진법으로...\n",
    "# shift + tap + tap 자세하게 설명해주는 함수\n",
    "# esc누르면 꺼짐\n",
    "\n",
    "# python은 정수에 관해서는 overflow가 없다 "
   ]
  },
  {
   "cell_type": "code",
   "execution_count": 4,
   "metadata": {},
   "outputs": [],
   "source": [
    "import sys\n",
    "print(sys.int_info)\n",
    "\n",
    "# 내 system의 정수 시스템을 알고싶을 때 사용하는 함수"
   ]
  },
  {
   "cell_type": "markdown",
   "metadata": {},
   "source": [
    "``` C\n",
    "int a = 10, b = -3;\n",
    "printf(\"%d / %d = %d\\n\", a, b, a / b);\n",
    "printf(\"%d %c %d = %d\\n\", a, '%', b, a % b);\n",
    "```\n",
    "C언어에서는...\n",
    "\n",
    "10 / -3 = -3\n",
    "\n",
    "10 % -3 = 1\n",
    "\n",
    "즉, -(a / b) == (a / (-b))"
   ]
  },
  {
   "cell_type": "code",
   "execution_count": 5,
   "metadata": {},
   "outputs": [
    {
     "name": "stdout",
     "output_type": "stream",
     "text": [
      "-4\n",
      "-2\n",
      "-3.3333333333333335\n"
     ]
    }
   ],
   "source": [
    "print(10 // -3)\n",
    "print(10 % -3)\n",
    "print(10 / -3)"
   ]
  },
  {
   "cell_type": "markdown",
   "metadata": {},
   "source": [
    "x = 정수부 + 소수부 라고 할 때\n",
    "파이썬에서는 0 <= 소수부 < 1 로 정의하기로 함\n",
    "\n",
    "x == (x//y)*y + (x%y)"
   ]
  },
  {
   "cell_type": "code",
   "execution_count": 6,
   "metadata": {},
   "outputs": [
    {
     "data": {
      "text/plain": [
       "sys.float_info(max=1.7976931348623157e+308, max_exp=1024, max_10_exp=308, min=2.2250738585072014e-308, min_exp=-1021, min_10_exp=-307, dig=15, mant_dig=53, epsilon=2.220446049250313e-16, radix=2, rounds=1)"
      ]
     },
     "execution_count": 6,
     "metadata": {},
     "output_type": "execute_result"
    }
   ],
   "source": [
    "sys.float_info"
   ]
  },
  {
   "cell_type": "code",
   "execution_count": 7,
   "metadata": {},
   "outputs": [
    {
     "name": "stdout",
     "output_type": "stream",
     "text": [
      "2000.0 <class 'float'>\n"
     ]
    }
   ],
   "source": [
    "x = 2e3\n",
    "print(x, type(x))\n",
    "\n",
    "# . 이나 e를 literal이라고 함\n",
    "# == 소수로 예측할 수 있다."
   ]
  },
  {
   "cell_type": "code",
   "execution_count": 8,
   "metadata": {},
   "outputs": [
    {
     "data": {
      "text/plain": [
       "2.0"
      ]
     },
     "execution_count": 8,
     "metadata": {},
     "output_type": "execute_result"
    }
   ],
   "source": [
    "1 + 1."
   ]
  },
  {
   "cell_type": "code",
   "execution_count": 9,
   "metadata": {},
   "outputs": [
    {
     "data": {
      "text/plain": [
       "12.99603834169977"
      ]
     },
     "execution_count": 9,
     "metadata": {},
     "output_type": "execute_result"
    }
   ],
   "source": [
    "2.**3.7"
   ]
  },
  {
   "cell_type": "code",
   "execution_count": 10,
   "metadata": {},
   "outputs": [
    {
     "name": "stdout",
     "output_type": "stream",
     "text": [
      "True\n",
      "1\n",
      "0\n",
      "True\n"
     ]
    }
   ],
   "source": [
    "print(True < 1.3)\n",
    "print(int(True))\n",
    "print(int(False))\n",
    "a = True < 1.3\n",
    "print(a)\n",
    "\n",
    "# 부등호가 앞에 와야한다.\n",
    "# True는 1값이다.\n",
    "# False는 0값이다."
   ]
  },
  {
   "cell_type": "code",
   "execution_count": 11,
   "metadata": {},
   "outputs": [
    {
     "name": "stdout",
     "output_type": "stream",
     "text": [
      "True\n",
      "nan\n",
      "<class 'float'>\n"
     ]
    }
   ],
   "source": [
    "x = float('inf')\n",
    "\n",
    "print(x == x + 1)\n",
    "print(x - x)\n",
    "print(type(x - x))\n",
    "\n",
    "# 와우! 이건 놀라워\n",
    "# 무한대 - 무한대 == 부정형"
   ]
  },
  {
   "cell_type": "markdown",
   "metadata": {},
   "source": [
    "# [IEEE floating point operation on INF, Nan, zero](https://www.geeksforgeeks.org/ieee-standard-754-floating-point-numbers/)"
   ]
  },
  {
   "cell_type": "code",
   "execution_count": 12,
   "metadata": {},
   "outputs": [
    {
     "name": "stdout",
     "output_type": "stream",
     "text": [
      "True\n",
      "True\n"
     ]
    }
   ],
   "source": [
    "x = 1.7976931348623157e+308\n",
    "print(x == x + 1)\n",
    "print(x == x - 1)\n",
    "\n",
    "# 1을 더해도/빼도, shift 과정에서 무시당함"
   ]
  },
  {
   "cell_type": "code",
   "execution_count": 13,
   "metadata": {},
   "outputs": [
    {
     "name": "stdout",
     "output_type": "stream",
     "text": [
      "False\n"
     ]
    }
   ],
   "source": [
    "print(0.1 + 0.1 + 0.1 == 0.3)\n",
    "\n",
    "# Be careful when comparing floating point numbers\n",
    "# And floating point operations are not associative"
   ]
  },
  {
   "cell_type": "markdown",
   "metadata": {},
   "source": [
    "소수 계산 정확하게 해주는 lib == fraction division이라는 library가 있음\n",
    "\n",
    "대신 속도가 느림"
   ]
  },
  {
   "cell_type": "code",
   "execution_count": 14,
   "metadata": {},
   "outputs": [
    {
     "name": "stdout",
     "output_type": "stream",
     "text": [
      "하하하하하하하하하\n",
      "\n",
      "하하하하하하하하하\n"
     ]
    }
   ],
   "source": [
    "print('하하하' * 3)\n",
    "print('하하하' * -33)\n",
    "print('하하하' * 3)\n",
    "\n",
    "# 문자열끼리는 덧셈 가능\n",
    "# 문자열 곱하기 정수는 가능\n",
    "# 0 이하의 수를 곱하면 null string이 되어버린다.\n",
    "# data type에 따라서 지원하는 연산의 종류가 다르다\n",
    "# Container는 data원소의 개념"
   ]
  },
  {
   "cell_type": "code",
   "execution_count": 15,
   "metadata": {},
   "outputs": [
    {
     "name": "stdout",
     "output_type": "stream",
     "text": [
      "5 4\n"
     ]
    }
   ],
   "source": [
    "v = '히오스짱굿'\n",
    "c = 'wHat'\n",
    "print(len(v), len(c))\n",
    "\n",
    "# container에서\n",
    "# 순서가 중요할 때 sequence types : index, slice 지원"
   ]
  },
  {
   "cell_type": "code",
   "execution_count": 16,
   "metadata": {},
   "outputs": [
    {
     "name": "stdout",
     "output_type": "stream",
     "text": [
      "스\n"
     ]
    }
   ],
   "source": [
    "print(v[-3])\n",
    "\n",
    "# 뒤에서부터 -1 -2 -3\n",
    "# 아주 길 때 뒤에서부터 기준으로 세면 빠르니까 음수 index지원"
   ]
  },
  {
   "cell_type": "code",
   "execution_count": 17,
   "metadata": {},
   "outputs": [
    {
     "name": "stdout",
     "output_type": "stream",
     "text": [
      "히오스\n",
      "굿짱스오히\n"
     ]
    }
   ],
   "source": [
    "print(v[-5:-2])\n",
    "print(v[::-1])\n",
    "\n",
    "# 처음이 없으면 처음부터\n",
    "# 끝이 없으면 끝까지\n",
    "# 이상 미만 개념이다.\n",
    "# :: step을 음수로 하면 거꾸로\n",
    "# ::-1 처음부터 끝까지 거꾸로\n",
    "# slicing은 부분적으로 가지고 올 때 사용함"
   ]
  },
  {
   "cell_type": "code",
   "execution_count": 18,
   "metadata": {},
   "outputs": [
    {
     "data": {
      "text/plain": [
       "'히오스짱굿'"
      ]
     },
     "execution_count": 18,
     "metadata": {},
     "output_type": "execute_result"
    }
   ],
   "source": [
    "v[:70]\n",
    "\n",
    "# slicing은 index error가 안난다. 주의할 것!!!!"
   ]
  },
  {
   "cell_type": "code",
   "execution_count": 19,
   "metadata": {},
   "outputs": [
    {
     "name": "stdout",
     "output_type": "stream",
     "text": [
      "3\n",
      "[1, '2', 3]\n",
      "['In', 'Out', '_', '_18', '_6', '_8', '_9', '__', '___', '__builtin__', '__builtins__', '__doc__', '__loader__', '__name__', '__package__', '__spec__', '_dh', '_i', '_i1', '_i10', '_i11', '_i12', '_i13', '_i14', '_i15', '_i16', '_i17', '_i18', '_i19', '_i2', '_i3', '_i4', '_i5', '_i6', '_i7', '_i8', '_i9', '_ih', '_ii', '_iii', '_oh', 'a', 'b', 'c', 'exit', 'get_ipython', 'quit', 'sys', 'v', 'x']\n",
      "['__add__', '__class__', '__contains__', '__delattr__', '__delitem__', '__dir__', '__doc__', '__eq__', '__format__', '__ge__', '__getattribute__', '__getitem__', '__gt__', '__hash__', '__iadd__', '__imul__', '__init__', '__init_subclass__', '__iter__', '__le__', '__len__', '__lt__', '__mul__', '__ne__', '__new__', '__reduce__', '__reduce_ex__', '__repr__', '__reversed__', '__rmul__', '__setattr__', '__setitem__', '__sizeof__', '__str__', '__subclasshook__', 'append', 'clear', 'copy', 'count', 'extend', 'index', 'insert', 'pop', 'remove', 'reverse', 'sort']\n"
     ]
    }
   ],
   "source": [
    "a = [1, 2, 3]\n",
    "print(len(a))\n",
    "b = [1, '2', 3]\n",
    "print(b)\n",
    "\n",
    "# 문자열 3종류 : str, bytes, byte array\n",
    "# [1,3,4] : list를 나타내는 literal\n",
    "\n",
    "# container : 2종류 homo/hetero genous\n",
    "\n",
    "# string 계열은 같은 종류의 data만 담을 수 있음 : homogenous\n",
    "# list는 hetero-genous & sequence : index slice 매우 가능\n",
    "\n",
    "print(dir())\n",
    "print(dir(a)) \n",
    "# 함수에서 []는 parameter의 optional함을 의미한다.\n",
    "# attribute 를 반환함!\n",
    "# A value associated with an object which is referenced by name using dotted expressions."
   ]
  },
  {
   "cell_type": "code",
   "execution_count": 20,
   "metadata": {
    "scrolled": true
   },
   "outputs": [
    {
     "name": "stdout",
     "output_type": "stream",
     "text": [
      "[1, 2, 3, 1]\n"
     ]
    },
    {
     "data": {
      "text/plain": [
       "1"
      ]
     },
     "execution_count": 20,
     "metadata": {},
     "output_type": "execute_result"
    }
   ],
   "source": [
    "a.append(1)\n",
    "print(a)\n",
    "a.index(2)"
   ]
  },
  {
   "cell_type": "code",
   "execution_count": 21,
   "metadata": {},
   "outputs": [
    {
     "data": {
      "text/plain": [
       "2"
      ]
     },
     "execution_count": 21,
     "metadata": {},
     "output_type": "execute_result"
    }
   ],
   "source": [
    "a.count(1)"
   ]
  },
  {
   "cell_type": "code",
   "execution_count": 22,
   "metadata": {
    "scrolled": true
   },
   "outputs": [
    {
     "name": "stdout",
     "output_type": "stream",
     "text": [
      "['__add__', '__class__', '__contains__', '__delattr__', '__dir__', '__doc__', '__eq__', '__format__', '__ge__', '__getattribute__', '__getitem__', '__getnewargs__', '__gt__', '__hash__', '__init__', '__init_subclass__', '__iter__', '__le__', '__len__', '__lt__', '__mul__', '__ne__', '__new__', '__reduce__', '__reduce_ex__', '__repr__', '__rmul__', '__setattr__', '__sizeof__', '__str__', '__subclasshook__', 'count', 'index']\n",
      "3\n"
     ]
    }
   ],
   "source": [
    "b = (1, '2', [3,8])\n",
    "type(b)\n",
    "print(dir(b)) # 이 데이터에서 쓸 수 있는 method\n",
    "print(len(b))\n",
    "\n",
    "# container면 len을 쓸 수 있다.\n",
    "# sequence종류 : 문자열 3총사 + list + tuple\n",
    "# list : tuple은 수정 못하는데 list는 수정 가능하다.\n",
    "# tuple : list보다 빠르다."
   ]
  },
  {
   "cell_type": "code",
   "execution_count": 23,
   "metadata": {},
   "outputs": [
    {
     "name": "stdout",
     "output_type": "stream",
     "text": [
      "3\n",
      "['__and__', '__class__', '__contains__', '__delattr__', '__dir__', '__doc__', '__eq__', '__format__', '__ge__', '__getattribute__', '__gt__', '__hash__', '__iand__', '__init__', '__init_subclass__', '__ior__', '__isub__', '__iter__', '__ixor__', '__le__', '__len__', '__lt__', '__ne__', '__new__', '__or__', '__rand__', '__reduce__', '__reduce_ex__', '__repr__', '__ror__', '__rsub__', '__rxor__', '__setattr__', '__sizeof__', '__str__', '__sub__', '__subclasshook__', '__xor__', 'add', 'clear', 'copy', 'difference', 'difference_update', 'discard', 'intersection', 'intersection_update', 'isdisjoint', 'issubset', 'issuperset', 'pop', 'remove', 'symmetric_difference', 'symmetric_difference_update', 'union', 'update']\n"
     ]
    }
   ],
   "source": [
    "c = {1,'2',3} # heterogenous\n",
    "print(len(c)) # container 구나!\n",
    "\n",
    "print(dir(c))\n",
    "\n",
    "# set 특징 :\n",
    "# 중복이 없고 순서 없고\n",
    "# index slice 못해! sequence가 아님 associative임\n",
    "# hetero container\n",
    "# dir로 검색해서 변동하는 method가 있으면 mutable임"
   ]
  },
  {
   "cell_type": "code",
   "execution_count": 24,
   "metadata": {},
   "outputs": [
    {
     "name": "stdout",
     "output_type": "stream",
     "text": [
      "1\n",
      "['__class__', '__contains__', '__delattr__', '__delitem__', '__dir__', '__doc__', '__eq__', '__format__', '__ge__', '__getattribute__', '__getitem__', '__gt__', '__hash__', '__init__', '__init_subclass__', '__iter__', '__le__', '__len__', '__lt__', '__ne__', '__new__', '__reduce__', '__reduce_ex__', '__repr__', '__setattr__', '__setitem__', '__sizeof__', '__str__', '__subclasshook__', 'clear', 'copy', 'fromkeys', 'get', 'items', 'keys', 'pop', 'popitem', 'setdefault', 'update', 'values']\n"
     ]
    }
   ],
   "source": [
    "d = {'a' : 1, 'b' : '2'}\n",
    "print(d['a'])\n",
    "print(dir(d))\n",
    "\n",
    "# key value쌍으로 \n",
    "# hetero!\n",
    "# 순서가 없음 "
   ]
  },
  {
   "cell_type": "code",
   "execution_count": 25,
   "metadata": {},
   "outputs": [
    {
     "name": "stdout",
     "output_type": "stream",
     "text": [
      "['__and__', '__class__', '__contains__', '__delattr__', '__dir__', '__doc__', '__eq__', '__format__', '__ge__', '__getattribute__', '__gt__', '__hash__', '__init__', '__init_subclass__', '__iter__', '__le__', '__len__', '__lt__', '__ne__', '__new__', '__or__', '__rand__', '__reduce__', '__reduce_ex__', '__repr__', '__ror__', '__rsub__', '__rxor__', '__setattr__', '__sizeof__', '__str__', '__sub__', '__subclasshook__', '__xor__', 'copy', 'difference', 'intersection', 'isdisjoint', 'issubset', 'issuperset', 'symmetric_difference', 'union']\n"
     ]
    }
   ],
   "source": [
    "print(dir(frozenset))\n",
    "\n",
    "# immutable한 set\n",
    "# 실수로 수정해서 고칠까봐 immutable 쓰나보다"
   ]
  }
 ],
 "metadata": {
  "kernelspec": {
   "display_name": "Python 3",
   "language": "python",
   "name": "python3"
  },
  "language_info": {
   "codemirror_mode": {
    "name": "ipython",
    "version": 3
   },
   "file_extension": ".py",
   "mimetype": "text/x-python",
   "name": "python",
   "nbconvert_exporter": "python",
   "pygments_lexer": "ipython3",
   "version": "3.7.1"
  }
 },
 "nbformat": 4,
 "nbformat_minor": 2
}
