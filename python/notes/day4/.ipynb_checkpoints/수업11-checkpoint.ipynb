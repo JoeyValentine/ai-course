{
 "cells": [
  {
   "cell_type": "markdown",
   "metadata": {},
   "source": [
    "# First-class Function\n",
    "first-class function === 함수를 객체처럼 사용할 수 있음을 뜻함\n",
    "\n",
    "함수를 값처럼 쓸 수 있다\n",
    "\n",
    "함수를 \n",
    "1. 다른 함수의 인자로, \n",
    "2. 함수의 return 값으로, \n",
    "3. 다른 자료구조에 저장하거나, 변수에 할당이 가능하다\n",
    "\n",
    "A function is an object, so it has fields like name and length or methods like toString(), bind(), apply() and call().\n",
    "\n",
    "ex) a = [sum, len], b = print"
   ]
  },
  {
   "cell_type": "markdown",
   "metadata": {},
   "source": [
    "---\n",
    "# first class이면 higher order이다.\n",
    "# higher order function이라고 해서 꼭 first class가 아니다. (ex : java)\n",
    "[first class function](https://medium.freecodecamp.org/discover-the-power-of-first-class-functions-fd0d7b599b69)"
   ]
  },
  {
   "cell_type": "markdown",
   "metadata": {},
   "source": [
    "---\n",
    "# Higher-order Fucntion\n",
    "\n",
    "함수를 다른 함수의 인자로 또는 함수의 return 값으로 사용이 가능하면 Higher-order Fucntion이라고 한다."
   ]
  },
  {
   "cell_type": "code",
   "execution_count": 1,
   "metadata": {},
   "outputs": [],
   "source": [
    "a = [sum, len]"
   ]
  },
  {
   "cell_type": "code",
   "execution_count": 2,
   "metadata": {},
   "outputs": [
    {
     "data": {
      "text/plain": [
       "6"
      ]
     },
     "execution_count": 2,
     "metadata": {},
     "output_type": "execute_result"
    }
   ],
   "source": [
    "a[0]([1,2,3])"
   ]
  },
  {
   "cell_type": "code",
   "execution_count": 3,
   "metadata": {},
   "outputs": [
    {
     "data": {
      "text/plain": [
       "4"
      ]
     },
     "execution_count": 3,
     "metadata": {},
     "output_type": "execute_result"
    }
   ],
   "source": [
    "a[1]([1,2,3,4])"
   ]
  },
  {
   "cell_type": "code",
   "execution_count": 4,
   "metadata": {},
   "outputs": [],
   "source": [
    "def sun(f):\n",
    "    return f()"
   ]
  },
  {
   "cell_type": "code",
   "execution_count": 5,
   "metadata": {},
   "outputs": [
    {
     "name": "stdout",
     "output_type": "stream",
     "text": [
      "\n"
     ]
    }
   ],
   "source": [
    "sun(print)"
   ]
  },
  {
   "cell_type": "code",
   "execution_count": 8,
   "metadata": {
    "scrolled": false
   },
   "outputs": [
    {
     "name": "stdout",
     "output_type": "stream",
     "text": [
      "10 1\n",
      "11 2\n",
      "12 3\n",
      "13 4\n",
      "14 5\n",
      "15 6\n",
      "16 7\n",
      "17 8\n",
      "18 9\n"
     ]
    }
   ],
   "source": [
    "for i, j in enumerate([1,2,3,4,5,6,7,8,9], start = 10):\n",
    "    print(i, j)\n",
    "# 앞의 값이 몇 번째를 의미함\n",
    "# iterable : for loop에서 사용할 수 있음\n",
    "# index값을 알고 싶을 때 enumerate를 사용함"
   ]
  },
  {
   "cell_type": "markdown",
   "metadata": {},
   "source": [
    "함수에 함수를 넣으면, 원래 함수의 기능을 추가할 수 있음\n",
    "ex) map 함수"
   ]
  },
  {
   "cell_type": "code",
   "execution_count": 9,
   "metadata": {},
   "outputs": [
    {
     "data": {
      "text/plain": [
       "[2, 3, 4, 5, 6, 7]"
      ]
     },
     "execution_count": 9,
     "metadata": {},
     "output_type": "execute_result"
    }
   ],
   "source": [
    "def x(a):\n",
    "    return a + 1\n",
    "list(map(x, [1,2,3,4,5,6]))"
   ]
  }
 ],
 "metadata": {
  "kernelspec": {
   "display_name": "Python 3",
   "language": "python",
   "name": "python3"
  },
  "language_info": {
   "codemirror_mode": {
    "name": "ipython",
    "version": 3
   },
   "file_extension": ".py",
   "mimetype": "text/x-python",
   "name": "python",
   "nbconvert_exporter": "python",
   "pygments_lexer": "ipython3",
   "version": "3.7.1"
  }
 },
 "nbformat": 4,
 "nbformat_minor": 2
}
