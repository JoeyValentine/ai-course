{
 "cells": [
  {
   "cell_type": "markdown",
   "metadata": {},
   "source": [
    "iterable : 순회 가능한 객체"
   ]
  },
  {
   "cell_type": "code",
   "execution_count": 1,
   "metadata": {},
   "outputs": [],
   "source": [
    "a = [1, 2, 3]"
   ]
  },
  {
   "cell_type": "code",
   "execution_count": 2,
   "metadata": {},
   "outputs": [],
   "source": [
    "def x():\n",
    "    for i in a:\n",
    "        print(i)"
   ]
  },
  {
   "cell_type": "code",
   "execution_count": 3,
   "metadata": {},
   "outputs": [],
   "source": [
    "import dis"
   ]
  },
  {
   "cell_type": "code",
   "execution_count": 4,
   "metadata": {
    "scrolled": true
   },
   "outputs": [
    {
     "name": "stdout",
     "output_type": "stream",
     "text": [
      "  2           0 SETUP_LOOP              20 (to 22)\n",
      "              2 LOAD_GLOBAL              0 (a)\n",
      "              4 GET_ITER\n",
      "        >>    6 FOR_ITER                12 (to 20)\n",
      "              8 STORE_FAST               0 (i)\n",
      "\n",
      "  3          10 LOAD_GLOBAL              1 (print)\n",
      "             12 LOAD_FAST                0 (i)\n",
      "             14 CALL_FUNCTION            1\n",
      "             16 POP_TOP\n",
      "             18 JUMP_ABSOLUTE            6\n",
      "        >>   20 POP_BLOCK\n",
      "        >>   22 LOAD_CONST               0 (None)\n",
      "             24 RETURN_VALUE\n"
     ]
    }
   ],
   "source": [
    "dis.dis(x)\n",
    "# 기계어 코드\n",
    "# 함수가 어떤 기계어로 변하는가?\n",
    "# iterator가 될 수 있는 객체를 iterable한다.\n",
    "# 4 GET_ITER : (for in a)에서 a를 iterator 객체로 변화시켜서 반환\n",
    "# next로 원소 하나씩 뽑아서 준다."
   ]
  },
  {
   "cell_type": "markdown",
   "metadata": {},
   "source": [
    "iterator가 될 수 있는 객체가 iterable하다고 한다."
   ]
  },
  {
   "cell_type": "code",
   "execution_count": 5,
   "metadata": {},
   "outputs": [],
   "source": [
    "b = iter(a)"
   ]
  },
  {
   "cell_type": "code",
   "execution_count": 6,
   "metadata": {},
   "outputs": [
    {
     "name": "stdout",
     "output_type": "stream",
     "text": [
      "<list_iterator object at 0x0000021C603B67F0>\n"
     ]
    }
   ],
   "source": [
    "print(b)"
   ]
  },
  {
   "cell_type": "code",
   "execution_count": 7,
   "metadata": {},
   "outputs": [
    {
     "data": {
      "text/plain": [
       "1"
      ]
     },
     "execution_count": 7,
     "metadata": {},
     "output_type": "execute_result"
    }
   ],
   "source": [
    "next(b)\n",
    "# next()를 한 번 실행할 때마다 원소를 하나씩 반환함\n",
    "# iterator는 next()만 기억하면 된다."
   ]
  },
  {
   "cell_type": "markdown",
   "metadata": {},
   "source": [
    "iterator는 LAZY함\n",
    "LAZY : 실행할 때 초기화 하거나 값을 반환\n",
    "1개만 원소를 저장해서 쓰므로 속도가 빠르고 효율적이다.\n",
    "실행할 때 원소를 메모리에 올림, 하나만 올려서 빠름\n",
    "호출할때 원소를 반환함(미리 안함)\n",
    "\n",
    "for loop에서 모든 원소에 대해서 loop를 수행한다는 보장이 없다.\n",
    "\n",
    "모든 원소를 memory를 모두 올릴 필요가 없겠지??\n",
    "\n",
    "그래서 필요한 원소들만 그때그때 가져와서 실행한다.\n",
    "\n",
    "---"
   ]
  },
  {
   "cell_type": "markdown",
   "metadata": {},
   "source": [
    "하스켈같은 언어에서는 지원 안함\n",
    "원소를 하나 뽑을때만 메모리 할당 == 메모리 효율적으로 사용\n",
    "\n",
    "실행할 때 delay == 모든 데이터를 메모리에 올림\n",
    "\n",
    "동작 시킬 때 살짝 delay == 필요할 때마다 데이터를 메모리를 올림 --> python 반응이 느림\n",
    "\n",
    "원소가 너무 많으면 모든걸 다 올리는게 빠를수도..?\n",
    "\n",
    "# [iterator / generator](https://nvie.com/posts/iterators-vs-generators/)"
   ]
  },
  {
   "cell_type": "markdown",
   "metadata": {},
   "source": [
    "in 다음에 iterable을 넣으면, iterable이 iterator가 되어서 계속 원소 반환"
   ]
  },
  {
   "cell_type": "code",
   "execution_count": 8,
   "metadata": {},
   "outputs": [],
   "source": [
    "a = 'abc'\n",
    "b = iter(a)"
   ]
  },
  {
   "cell_type": "code",
   "execution_count": 9,
   "metadata": {},
   "outputs": [
    {
     "data": {
      "text/plain": [
       "'a'"
      ]
     },
     "execution_count": 9,
     "metadata": {},
     "output_type": "execute_result"
    }
   ],
   "source": [
    "next(b)"
   ]
  },
  {
   "cell_type": "markdown",
   "metadata": {},
   "source": [
    "for는 지저분...\n",
    "\n",
    "for, while 안쓰고 반복하는 기법은 무엇이 있을까\n",
    "1. iterator\n",
    "2. comprehension (for가 있긴 한데, 사실상 iterator를 사용함)\n",
    "3. map / filter / reduce\n",
    "4. 재귀함수 (느려서 python에서는 사용 잘 안함)"
   ]
  },
  {
   "cell_type": "code",
   "execution_count": 10,
   "metadata": {
    "scrolled": true
   },
   "outputs": [
    {
     "name": "stdout",
     "output_type": "stream",
     "text": [
      "816 ns ± 17.9 ns per loop (mean ± std. dev. of 7 runs, 1000000 loops each)\n"
     ]
    }
   ],
   "source": [
    "%%timeit\n",
    "temp = []\n",
    "for i in range(10):\n",
    "    temp.append(i)\n",
    "# 계속 append 함수 호출해서 속도가 훨씬 느리다.\n",
    "# comprehension은 한꺼번에 list item을 만들어서 속도가 빠르다."
   ]
  },
  {
   "cell_type": "markdown",
   "metadata": {},
   "source": [
    "# [comprehension](https://mingrammer.com/introduce-comprehension-of-python/)"
   ]
  },
  {
   "cell_type": "code",
   "execution_count": 11,
   "metadata": {},
   "outputs": [
    {
     "name": "stdout",
     "output_type": "stream",
     "text": [
      "544 ns ± 27.2 ns per loop (mean ± std. dev. of 7 runs, 1000000 loops each)\n"
     ]
    }
   ],
   "source": [
    "%%timeit\n",
    "temp = [x for x in range(10)]\n",
    "# container만드는 단축 기법!!! comprehension"
   ]
  },
  {
   "cell_type": "markdown",
   "metadata": {},
   "source": [
    "절차적 방식 : 객체지향\n",
    "\n",
    "vs\n",
    "\n",
    "선언적 방식 : 함수형 프로그래밍(모든 것을 함수로 만드는 방식) == 재사용성 업업\n",
    "\n",
    "수학적 함수 기반으로 함수 만들어서 프로그래밍 하는 방식\n",
    "\n",
    "수학적 함수처럼 정의역 모든 값이 들어가야하며, 하나의 x가 여러 대응되면 안됨!\n",
    "\n",
    "---"
   ]
  },
  {
   "cell_type": "markdown",
   "metadata": {},
   "source": [
    "[함수형 프로그래밍1](https://velog.io/@kyusung/%ED%95%A8%EC%88%98%ED%98%95-%ED%94%84%EB%A1%9C%EA%B7%B8%EB%9E%98%EB%B0%8D-%EC%9A%94%EC%95%BD#%ED%95%A8%EC%88%98%ED%98%95-%ED%94%84%EB%A1%9C%EA%B7%B8%EB%9E%98%EB%B0%8D%EC%97%90-%ED%95%84%EC%9A%94%ED%95%9C-%EA%B0%9C%EB%85%90)\n",
    "\n",
    "[함수형 프로그래밍2](http://ruaa.me/why-functional-matters/)\n",
    "\n",
    "단점 : 구현하기 어렵다.\n",
    "\n",
    "장점 : 형식적 증명 가능성 : 수학적 증명 가능함 === 디버깅 && 테스트 쉬움..!\n",
    "\n",
    "---"
   ]
  },
  {
   "cell_type": "markdown",
   "metadata": {},
   "source": [
    "f o g (x) = f(g(x)) : 결합성 : 합성함수를 사용한다.\n",
    "\n",
    "---"
   ]
  },
  {
   "cell_type": "markdown",
   "metadata": {},
   "source": [
    "절차적 프로그래밍 방식\n",
    "a = input()\n",
    "a = int(a)\n",
    "\n",
    "vs\n",
    "\n",
    "함수형 프로그래밍 방식(LISP) : 수학적으로 완벽한 함수를 사용\n",
    "\n",
    "x = int(input())\n",
    "\n",
    "input()에는 항상 결과가 return 되니까 == 함수의 정의에 따라서...\n",
    "\n",
    "그 결과를 int()함수에 대입\n",
    "\n",
    "for while 잘 안씀 (하스켈에서는 아예 안씀)\n",
    "\n",
    "대신에 iterator를 사용한다.\n",
    "\n",
    "comprehension도 함수형 패러다임에서 옴\n",
    "\n",
    "mutable type이 없음"
   ]
  },
  {
   "cell_type": "markdown",
   "metadata": {},
   "source": [
    "함수형 프로그래밍 방식 장점\n",
    "코어별로 함수를 실행시킴 == 겁나 빠름"
   ]
  },
  {
   "cell_type": "markdown",
   "metadata": {},
   "source": [
    "# lisp (list programming)"
   ]
  },
  {
   "cell_type": "markdown",
   "metadata": {},
   "source": [
    "comprehension에서 모양만 for를 쓰지만,,, 사실은 iterator를 사용함\n",
    "함수형 패러다임 언어에서 for while안쓰고 한꺼번에 data를 생성하기 위해서 사용한 것\n",
    "하스켈에서는 데이터 만들 때 씀\n",
    "\n",
    "역사적으로 한꺼번에 여러개를 효율적으로 만들라고 함수형 패러다임에서 사용함\n",
    "\n",
    "== comprehension"
   ]
  },
  {
   "cell_type": "markdown",
   "metadata": {},
   "source": [
    "temp = [AAA for x in range(10)]\n",
    "조건식 \n",
    "and/or식\n",
    "함수식 을 AAA에 넣을 수 있다."
   ]
  },
  {
   "cell_type": "code",
   "execution_count": 12,
   "metadata": {},
   "outputs": [
    {
     "name": "stdout",
     "output_type": "stream",
     "text": [
      "[4, 5, 6, 7, 8, 9]\n"
     ]
    }
   ],
   "source": [
    "temp = [x for x in range(10) if x > 3]\n",
    "print(temp)"
   ]
  },
  {
   "cell_type": "code",
   "execution_count": 13,
   "metadata": {},
   "outputs": [
    {
     "name": "stdout",
     "output_type": "stream",
     "text": [
      "[0, 1, 2, 3, 4, 5, 6, 7, 8, 9]\n"
     ]
    }
   ],
   "source": [
    "temp = [x for x in range(10)]\n",
    "print(temp)"
   ]
  },
  {
   "cell_type": "code",
   "execution_count": 14,
   "metadata": {},
   "outputs": [],
   "source": [
    "temp = {x:1 for x in range(10)}\n",
    "# dict도 가능하구나..!"
   ]
  },
  {
   "cell_type": "code",
   "execution_count": 15,
   "metadata": {},
   "outputs": [],
   "source": [
    "temp = {x for x in range(10)}\n",
    "# set도 가능하구나!"
   ]
  },
  {
   "cell_type": "markdown",
   "metadata": {},
   "source": [
    "comprehension 종류 3가지\n",
    "1. list comprehension\n",
    "2. set comprehension\n",
    "3. dict comprehension\n",
    "\n",
    "list, set, dict == mutable!!\n",
    "\n",
    "보통 append 하던 방식보다 빠르고 간결하다.\n",
    "\n",
    "함수형 프로그래밍은 mutable한게 없음\n",
    "\n",
    "tuple은 immutable함\n",
    "\n",
    "immutable은 generator를 만듦어줌\n",
    "tuple은 generator를 만듦\n",
    "\n",
    "iterator랑 개념은 같지만 만드는 방식이 다르다.\n",
    "\n",
    "tuple형태의 comprehension == generator 식\n",
    "\n",
    "generator랑 iterator랑 뭔차이지??????????????????????????"
   ]
  },
  {
   "cell_type": "markdown",
   "metadata": {},
   "source": [
    "참고 | 제너레이터 표현식\n",
    "리스트 표현식을 사용할 때 [ ](대괄호)를 사용했습니다. 같은 리스트 표현식을 ( )(괄호)로 묶으면 제너레이터 표현식이 됩니다. 리스트 표현식은 ***처음부터 리스트의 요소를 모두 만들어내지만*** 제너레이터 표현식은 ***필요할 때 요소를 만들어내므로*** 메모리를 절약할 수 있습니다.\n",
    "\n",
    "(식 for 변수 in 반복가능한객체)\n",
    "\n",
    "``` python\n",
    "[i for i in range(50) if i % 2 == 0]\n",
    ">>> [0, 2, 4, 6, 8, 10, 12, 14, 16, 18, 20, 22, 24, 26, 28, 30, 32, 34, 36, 38, 40, 42, 44, 46, 48]\n",
    "(i for i in range(50) if i % 2 == 0)\n",
    ">>> <generator object <genexpr> at 0x024F02A0>\n",
    "```"
   ]
  },
  {
   "cell_type": "code",
   "execution_count": 16,
   "metadata": {
    "scrolled": true
   },
   "outputs": [
    {
     "name": "stdout",
     "output_type": "stream",
     "text": [
      "<generator object <genexpr> at 0x0000021C603A3A98>\n"
     ]
    }
   ],
   "source": [
    "temp = (x for x in range(10))  \n",
    "# temp 자체를 generator식 이라고 한다. == 식이다 == 할당 가능하다.\n",
    "print(temp)\n",
    "# tuple은 예외로 generator가 나오는구나...!"
   ]
  },
  {
   "cell_type": "markdown",
   "metadata": {},
   "source": [
    "# generator expression 이라고 한다! (절대 tuple comprehension이 아니다)"
   ]
  },
  {
   "cell_type": "code",
   "execution_count": 17,
   "metadata": {},
   "outputs": [],
   "source": [
    "t = temp"
   ]
  },
  {
   "cell_type": "code",
   "execution_count": 18,
   "metadata": {},
   "outputs": [
    {
     "data": {
      "text/plain": [
       "0"
      ]
     },
     "execution_count": 18,
     "metadata": {},
     "output_type": "execute_result"
    }
   ],
   "source": [
    "next(t)"
   ]
  },
  {
   "cell_type": "markdown",
   "metadata": {},
   "source": [
    "조건식 : 5 if x > 0 else 2\n",
    "\n",
    "반복식 : x for x in range(1, 11)\n",
    "\n",
    "함수식 : lambda x, y : x + y"
   ]
  },
  {
   "cell_type": "code",
   "execution_count": 19,
   "metadata": {},
   "outputs": [
    {
     "name": "stdout",
     "output_type": "stream",
     "text": [
      "360 ns ± 7.52 ns per loop (mean ± std. dev. of 7 runs, 1000000 loops each)\n"
     ]
    }
   ],
   "source": [
    "%%timeit\n",
    "sum(range(1, 11))\n",
    "# range()만 써서 훨씬 빠름"
   ]
  },
  {
   "cell_type": "code",
   "execution_count": 20,
   "metadata": {},
   "outputs": [
    {
     "name": "stdout",
     "output_type": "stream",
     "text": [
      "728 ns ± 29.9 ns per loop (mean ± std. dev. of 7 runs, 1000000 loops each)\n"
     ]
    }
   ],
   "source": [
    "%%timeit\n",
    "sum([x for x in range(1, 11)])\n",
    "# list comprehension은 아주 많이 쓰는 기능이라 내부적으로 최적화 되어있다.\n",
    "# 반복식, generator식 보다 빠름"
   ]
  },
  {
   "cell_type": "code",
   "execution_count": 21,
   "metadata": {},
   "outputs": [
    {
     "name": "stdout",
     "output_type": "stream",
     "text": [
      "879 ns ± 35.5 ns per loop (mean ± std. dev. of 7 runs, 1000000 loops each)\n"
     ]
    }
   ],
   "source": [
    "%%timeit\n",
    "sum(x for x in range(1, 11))\n",
    "# x for x in range(1, 11) : 는 반복식이라 대입이 가능하다."
   ]
  },
  {
   "cell_type": "code",
   "execution_count": 22,
   "metadata": {},
   "outputs": [
    {
     "name": "stdout",
     "output_type": "stream",
     "text": [
      "903 ns ± 24.2 ns per loop (mean ± std. dev. of 7 runs, 1000000 loops each)\n"
     ]
    }
   ],
   "source": [
    "%%timeit\n",
    "sum((x for x in range(1, 11)))\n",
    "# 위와 같은 코드\n",
    "# (x for x in range(1, 11)) : generator식"
   ]
  },
  {
   "cell_type": "markdown",
   "metadata": {},
   "source": [
    "파이썬 파일은 iterator형태로 사용\n",
    "\n",
    "iterator 만드는 방식\n",
    "iterator는 iter()함수로 만듦\n",
    "\n",
    "generator 만드는 방식 2가지\n",
    "1. generator 식\n",
    "2. 함수에 yield\n",
    "\n",
    "iterator랑 generator같음 \n",
    "만드는 방식이 달라서 이름을 달리함"
   ]
  },
  {
   "cell_type": "code",
   "execution_count": 23,
   "metadata": {},
   "outputs": [],
   "source": [
    "def a():\n",
    "    yield from [1, 2]"
   ]
  },
  {
   "cell_type": "markdown",
   "metadata": {},
   "source": [
    "위의 코드는\n",
    "``` python\n",
    "def a():\n",
    "    yield 1\n",
    "    yield 2\n",
    "```\n",
    "\n",
    "``` python\n",
    "def a():\n",
    "    for i in range(1,3):\n",
    "        yield i\n",
    "```\n",
    "\n",
    "랑 같은 코드이다.\n",
    "\n",
    "[yield from](https://dojang.io/mod/page/view.php?id=2413)"
   ]
  },
  {
   "cell_type": "code",
   "execution_count": 24,
   "metadata": {},
   "outputs": [],
   "source": [
    "t = a()"
   ]
  },
  {
   "cell_type": "code",
   "execution_count": 27,
   "metadata": {
    "scrolled": true
   },
   "outputs": [
    {
     "ename": "StopIteration",
     "evalue": "",
     "output_type": "error",
     "traceback": [
      "\u001b[1;31m---------------------------------------------------------------------------\u001b[0m",
      "\u001b[1;31mStopIteration\u001b[0m                             Traceback (most recent call last)",
      "\u001b[1;32m<ipython-input-27-f843efe259be>\u001b[0m in \u001b[0;36m<module>\u001b[1;34m\u001b[0m\n\u001b[1;32m----> 1\u001b[1;33m \u001b[0mnext\u001b[0m\u001b[1;33m(\u001b[0m\u001b[0mt\u001b[0m\u001b[1;33m)\u001b[0m\u001b[1;33m\u001b[0m\u001b[1;33m\u001b[0m\u001b[0m\n\u001b[0m",
      "\u001b[1;31mStopIteration\u001b[0m: "
     ]
    }
   ],
   "source": [
    "next(t)"
   ]
  },
  {
   "cell_type": "code",
   "execution_count": 28,
   "metadata": {},
   "outputs": [],
   "source": [
    "def b():\n",
    "    while True:\n",
    "        yield from [1, 2]\n",
    "# 자동화 할 때 도움 많이 됨\n",
    "# stop iteration error 안남"
   ]
  },
  {
   "cell_type": "code",
   "execution_count": 29,
   "metadata": {},
   "outputs": [],
   "source": [
    "z = b()"
   ]
  },
  {
   "cell_type": "code",
   "execution_count": 33,
   "metadata": {},
   "outputs": [
    {
     "data": {
      "text/plain": [
       "2"
      ]
     },
     "execution_count": 33,
     "metadata": {},
     "output_type": "execute_result"
    }
   ],
   "source": [
    "next(z)"
   ]
  },
  {
   "cell_type": "code",
   "execution_count": 34,
   "metadata": {},
   "outputs": [],
   "source": [
    "from functools import reduce\n",
    "# pyhthon2에서는 기본 함수, python3에서는 어렵다고 기본함수에서 뺌"
   ]
  },
  {
   "cell_type": "code",
   "execution_count": 40,
   "metadata": {},
   "outputs": [
    {
     "name": "stdout",
     "output_type": "stream",
     "text": [
      "550 ns ± 19.6 ns per loop (mean ± std. dev. of 7 runs, 1000000 loops each)\n"
     ]
    }
   ],
   "source": [
    "%%timeit\n",
    "reduce(lambda x, y : x + y, [1,2,3,4,5])\n",
    "# == 원소를 줄이다 라는 의미\n",
    "# x = 1, y = 2, x + y = 3 결과를 다시\n",
    "# x = 3, y = 3, x + y = 6 (x는 이전에 결과값)\n",
    "# x = 6, y = 4, x + y = 10 (x는 이전에 결과값)"
   ]
  },
  {
   "cell_type": "markdown",
   "metadata": {},
   "source": [
    "``` python\n",
    "reduce(sum, [1, 2, 3, 4, 5]) \n",
    "sum(sum(sum(sum(1,2),3),4),5) = ((((1+2)+3)+4)+5) = 15\n",
    "```"
   ]
  },
  {
   "cell_type": "code",
   "execution_count": 41,
   "metadata": {},
   "outputs": [],
   "source": [
    "def fi(n):\n",
    "    if n == 0:\n",
    "        return 0\n",
    "    elif n == 1:\n",
    "        return 1\n",
    "    else:\n",
    "        return fi(n - 1) + fi(n - 2)\n",
    "    \n",
    "# 식으로 되어있어서 수학적으로 증명가능...!\n",
    "# 단점 : 속도 느려 \n",
    "# 꼬리 재귀 기법을 python에서 제공하지 않는다."
   ]
  }
 ],
 "metadata": {
  "kernelspec": {
   "display_name": "Python 3",
   "language": "python",
   "name": "python3"
  },
  "language_info": {
   "codemirror_mode": {
    "name": "ipython",
    "version": 3
   },
   "file_extension": ".py",
   "mimetype": "text/x-python",
   "name": "python",
   "nbconvert_exporter": "python",
   "pygments_lexer": "ipython3",
   "version": "3.7.2"
  }
 },
 "nbformat": 4,
 "nbformat_minor": 1
}
