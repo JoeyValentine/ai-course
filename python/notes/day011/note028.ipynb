{
 "cells": [
  {
   "cell_type": "code",
   "execution_count": 2,
   "metadata": {},
   "outputs": [],
   "source": [
    "class A: # default로 object class를 물려 받는다.\n",
    "    def x(self): # 이거 쓰고싶어! 새로 만들 필요 없다.\n",
    "        print('X')\n",
    "        \n",
    "    def y(self):\n",
    "        print('y') # 이건 바꿔쓰고 싶어"
   ]
  },
  {
   "cell_type": "code",
   "execution_count": 3,
   "metadata": {},
   "outputs": [],
   "source": [
    "# 첫번째 방법 : copy and paste \n",
    "# 코드 사이즈가 크면 비효율적이다.\n",
    "class A_:\n",
    "    def x(self):\n",
    "        print('X')\n",
    "    def y(self):\n",
    "        print('yy') "
   ]
  },
  {
   "cell_type": "code",
   "execution_count": 5,
   "metadata": {},
   "outputs": [],
   "source": [
    "# A에 있는 기능들 중, 수정하고 싶은 것 만 바꾸고 싶을 떄 A를 상속한다.\n",
    "# 전체 구현할 필요 없이, 수정하고 싶은 것 만 작성해서 코드의 양이 줄어든다.\n",
    "# 게다가 새로운 기능을 넣을 수 있다.\n",
    "class B(A): # 하나만 물려받으면 단일 상속, 여러개를 상속받으면 다중 상속\n",
    "    def y(self): # overriding\n",
    "        A.y(self) # 부모 함수를 호출해서 재활용성 올라감\n",
    "        print('yy') \n",
    "# 대부분의 언어는 다중 상속을 지원 안한다.(어렵기 때문에) 하지만 python은 다중 상속을 지원한다.\n",
    "\n",
    "# 만일, A를 수정해야하는 일이 생기면 copy&paste 의 경우에는 A와 A_ 둘 다 수정해야하는데,\n",
    "# B의 경우에는 A만 수정하면 된다.\n",
    "\n",
    "# 상속 장점 : 재사용성, 코드 관리보수\n",
    "# 상속 단점 : 다중 상속 위험하다.\n",
    "\n",
    "# java는 다중상속을 지원 안한다."
   ]
  },
  {
   "cell_type": "code",
   "execution_count": 6,
   "metadata": {
    "collapsed": true
   },
   "outputs": [
    {
     "data": {
      "text/plain": [
       "['__class__',\n",
       " '__delattr__',\n",
       " '__dict__',\n",
       " '__dir__',\n",
       " '__doc__',\n",
       " '__eq__',\n",
       " '__format__',\n",
       " '__ge__',\n",
       " '__getattribute__',\n",
       " '__gt__',\n",
       " '__hash__',\n",
       " '__init__',\n",
       " '__init_subclass__',\n",
       " '__le__',\n",
       " '__lt__',\n",
       " '__module__',\n",
       " '__ne__',\n",
       " '__new__',\n",
       " '__reduce__',\n",
       " '__reduce_ex__',\n",
       " '__repr__',\n",
       " '__setattr__',\n",
       " '__sizeof__',\n",
       " '__str__',\n",
       " '__subclasshook__',\n",
       " '__weakref__',\n",
       " 'x',\n",
       " 'y']"
      ]
     },
     "execution_count": 6,
     "metadata": {},
     "output_type": "execute_result"
    }
   ],
   "source": [
    "dir(B)"
   ]
  },
  {
   "cell_type": "code",
   "execution_count": 15,
   "metadata": {},
   "outputs": [],
   "source": [
    "a = A_()"
   ]
  },
  {
   "cell_type": "code",
   "execution_count": 16,
   "metadata": {
    "scrolled": true
   },
   "outputs": [
    {
     "name": "stdout",
     "output_type": "stream",
     "text": [
      "X\n"
     ]
    }
   ],
   "source": [
    "A.x(a)"
   ]
  },
  {
   "cell_type": "code",
   "execution_count": 17,
   "metadata": {},
   "outputs": [],
   "source": [
    "b = B()"
   ]
  },
  {
   "cell_type": "code",
   "execution_count": 18,
   "metadata": {},
   "outputs": [
    {
     "name": "stdout",
     "output_type": "stream",
     "text": [
      "X\n"
     ]
    }
   ],
   "source": [
    "b.x()"
   ]
  },
  {
   "cell_type": "code",
   "execution_count": 19,
   "metadata": {},
   "outputs": [
    {
     "name": "stdout",
     "output_type": "stream",
     "text": [
      "y\n"
     ]
    }
   ],
   "source": [
    "b.y()"
   ]
  },
  {
   "cell_type": "code",
   "execution_count": 20,
   "metadata": {},
   "outputs": [
    {
     "name": "stdout",
     "output_type": "stream",
     "text": [
      "X\n"
     ]
    }
   ],
   "source": [
    "a.x()"
   ]
  },
  {
   "cell_type": "code",
   "execution_count": 21,
   "metadata": {
    "scrolled": true
   },
   "outputs": [
    {
     "name": "stdout",
     "output_type": "stream",
     "text": [
      "yy\n"
     ]
    }
   ],
   "source": [
    "a.y()"
   ]
  },
  {
   "cell_type": "markdown",
   "metadata": {},
   "source": [
    "<code> A.y(self), B.y(self) </code>  \n",
    "\n",
    "부르는 함수의 이름이 같지만 하는 행동이 다르다. == 다형성    \n",
    "\n",
    "---"
   ]
  },
  {
   "cell_type": "markdown",
   "metadata": {},
   "source": [
    "남의 코드에서 내가 마음에 드는 부분 가져다가 고쳐서 쓰는 방법\n",
    "1. 데코레이터 \n",
    "2. 상속"
   ]
  },
  {
   "cell_type": "markdown",
   "metadata": {},
   "source": [
    "파이썬에서 해결하는 \n",
    "1. 자동화\n",
    "2. 웹\n",
    "3. 데이터사이언스"
   ]
  },
  {
   "cell_type": "code",
   "execution_count": 26,
   "metadata": {},
   "outputs": [],
   "source": [
    "import sys"
   ]
  },
  {
   "cell_type": "code",
   "execution_count": 27,
   "metadata": {},
   "outputs": [],
   "source": [
    "class A:\n",
    "    def x(self):\n",
    "        print('x')"
   ]
  },
  {
   "cell_type": "code",
   "execution_count": 28,
   "metadata": {},
   "outputs": [],
   "source": [
    "class B(A):\n",
    "    pass"
   ]
  },
  {
   "cell_type": "code",
   "execution_count": 29,
   "metadata": {},
   "outputs": [
    {
     "name": "stdout",
     "output_type": "stream",
     "text": [
      "56\n",
      "1056\n"
     ]
    }
   ],
   "source": [
    "a = A()\n",
    "print(sys.getsizeof(a))\n",
    "print(sys.getsizeof(A))"
   ]
  },
  {
   "cell_type": "code",
   "execution_count": 30,
   "metadata": {},
   "outputs": [
    {
     "data": {
      "text/plain": [
       "4443687792"
      ]
     },
     "execution_count": 30,
     "metadata": {},
     "output_type": "execute_result"
    }
   ],
   "source": [
    "id(A.x)"
   ]
  },
  {
   "cell_type": "code",
   "execution_count": 31,
   "metadata": {
    "scrolled": true
   },
   "outputs": [
    {
     "name": "stdout",
     "output_type": "stream",
     "text": [
      "56\n",
      "1056\n"
     ]
    }
   ],
   "source": [
    "b = B()\n",
    "print(sys.getsizeof(b))\n",
    "print(sys.getsizeof(B))"
   ]
  },
  {
   "cell_type": "code",
   "execution_count": 32,
   "metadata": {
    "scrolled": true
   },
   "outputs": [
    {
     "data": {
      "text/plain": [
       "4443687792"
      ]
     },
     "execution_count": 32,
     "metadata": {},
     "output_type": "execute_result"
    }
   ],
   "source": [
    "id(B.x) # A 클래스의 x함수를 호출한다. B에는 x함수가 없다. 즉 A.x를 호출한다."
   ]
  },
  {
   "cell_type": "markdown",
   "metadata": {},
   "source": [
    "python에서는 overriding하지 않는 이상은 새로운 함수가 생기지 않고 기존에 있는 함수를 가져다가 쓴다. (메모리 효율 좋다 & 상속을 자주한다.)  \n",
    "python은 차이만큼만 클래스가 커진다.  \n",
    "\n",
    "다른 언어에서는 상속하면 상속하는 함수를 위해서 새로 메모리를 할당시킨다. (상속한 만큼 메모리를 확보해야한다.) : 추가적인 확인이 필요하다..  \n",
    "부모클래스가 크면 자식도 크다!! 다른 언어에서는 상속을 많이 하면 메모리 효율이 안 좋을 수 있다.  \n",
    "상속을 받을수록 커진다..  "
   ]
  },
  {
   "cell_type": "markdown",
   "metadata": {},
   "source": [
    "``` python\n",
    "class A:\n",
    "    def x(self):\n",
    "        print('x')\n",
    "        \n",
    "class B(A):\n",
    "    def x(self):\n",
    "        print('x')        \n",
    "```\n",
    "\n",
    "기능이 같아도 overriding이다.  \n",
    "A.x와 B.x의 주소가 다르다."
   ]
  },
  {
   "cell_type": "code",
   "execution_count": 63,
   "metadata": {},
   "outputs": [],
   "source": [
    "class AA:\n",
    "    x = 1\n",
    "# vars : instance에 저장된 값을 보여준다."
   ]
  },
  {
   "cell_type": "code",
   "execution_count": 71,
   "metadata": {},
   "outputs": [],
   "source": [
    "a = AA()"
   ]
  },
  {
   "cell_type": "code",
   "execution_count": 72,
   "metadata": {},
   "outputs": [
    {
     "data": {
      "text/plain": [
       "{}"
      ]
     },
     "execution_count": 72,
     "metadata": {},
     "output_type": "execute_result"
    }
   ],
   "source": [
    "vars(a)\n",
    "# 클래스 변수는 없다!"
   ]
  },
  {
   "cell_type": "code",
   "execution_count": 73,
   "metadata": {},
   "outputs": [
    {
     "data": {
      "text/plain": [
       "1"
      ]
     },
     "execution_count": 73,
     "metadata": {},
     "output_type": "execute_result"
    }
   ],
   "source": [
    "a.x \n",
    "# 처음엔 인스턴스 변수에 x가 있는지 찾는다. \n",
    "# 없어서 클래스 변수의 x를 참조해서 1을 return"
   ]
  },
  {
   "cell_type": "code",
   "execution_count": 74,
   "metadata": {},
   "outputs": [],
   "source": [
    "a.x = 2\n",
    "# a인스턴스에 x 인스턴스 변수 생성한다."
   ]
  },
  {
   "cell_type": "code",
   "execution_count": 75,
   "metadata": {},
   "outputs": [
    {
     "data": {
      "text/plain": [
       "{'x': 2}"
      ]
     },
     "execution_count": 75,
     "metadata": {},
     "output_type": "execute_result"
    }
   ],
   "source": [
    "vars(a)\n",
    "# 처음엔 인스턴스 변수에 x가 있는지 찾는다. "
   ]
  },
  {
   "cell_type": "code",
   "execution_count": 78,
   "metadata": {},
   "outputs": [],
   "source": [
    "b = AA()"
   ]
  },
  {
   "cell_type": "code",
   "execution_count": 79,
   "metadata": {},
   "outputs": [
    {
     "data": {
      "text/plain": [
       "1"
      ]
     },
     "execution_count": 79,
     "metadata": {},
     "output_type": "execute_result"
    }
   ],
   "source": [
    "AA.x"
   ]
  },
  {
   "cell_type": "code",
   "execution_count": 81,
   "metadata": {},
   "outputs": [],
   "source": [
    "class AAAA:\n",
    "    x = 1\n",
    "    def y(self): # 이 함수를 실행시켜야 self.x가 생성됨\n",
    "        self.x = 3"
   ]
  },
  {
   "cell_type": "code",
   "execution_count": 82,
   "metadata": {},
   "outputs": [],
   "source": [
    "a = AAAA() # 아직 self.x는 없다."
   ]
  },
  {
   "cell_type": "code",
   "execution_count": 83,
   "metadata": {},
   "outputs": [],
   "source": [
    "a.y() # 인스턴스 변수 생성됨"
   ]
  },
  {
   "cell_type": "code",
   "execution_count": 84,
   "metadata": {},
   "outputs": [
    {
     "data": {
      "text/plain": [
       "3"
      ]
     },
     "execution_count": 84,
     "metadata": {},
     "output_type": "execute_result"
    }
   ],
   "source": [
    "a.x\n",
    "# 인스턴스 변수 생성됨"
   ]
  },
  {
   "cell_type": "markdown",
   "metadata": {},
   "source": [
    "# [classmethod](https://www.programiz.com/python-programming/methods/built-in/classmethod)의 기능\n",
    "1. 클래스가 function을 method 처럼 사용할 수 있다.\n",
    "2. 클래스 영역만 바꿀 수 있다.\n",
    "3. 인스턴스는 인스턴스 변수만 바꿀 수 있었는데, classmethod를 붙여서 class 변수를 바꿀 수 있다."
   ]
  },
  {
   "cell_type": "markdown",
   "metadata": {},
   "source": [
    "[class variable은 class name으로만 변경 가능하다](https://www.geeksforgeeks.org/g-fact-42-changing-class-members-python/)\n",
    "\n",
    "일반적으로는 인스턴스로는 class변수 수정이 불가능하다. 하지만, 클래스메소드로는 수정이 가능해진다.\n",
    "\n",
    "class가 함수를 호출하려면 function방식을 써야한다. self값을 넣어야 한다.\n",
    "\n",
    "하지만 @classmethod면 self에 안 넣어도 된다."
   ]
  },
  {
   "cell_type": "code",
   "execution_count": 34,
   "metadata": {},
   "outputs": [],
   "source": [
    "class BB:\n",
    "    x = 1\n",
    "    @classmethod\n",
    "    def y(self):\n",
    "        self.x = 3 \n",
    "        # 클래스의 입장에서 self는 class를 나타냄, 즉 클래스 변수를 바꿈\n",
    "        # 인스턴스가 호출해도 클래스 변수를 바꿈"
   ]
  },
  {
   "cell_type": "code",
   "execution_count": 36,
   "metadata": {},
   "outputs": [],
   "source": [
    "BB.y() "
   ]
  },
  {
   "cell_type": "code",
   "execution_count": 37,
   "metadata": {
    "scrolled": true
   },
   "outputs": [
    {
     "data": {
      "text/plain": [
       "3"
      ]
     },
     "execution_count": 37,
     "metadata": {},
     "output_type": "execute_result"
    }
   ],
   "source": [
    "BB.x "
   ]
  },
  {
   "cell_type": "code",
   "execution_count": 38,
   "metadata": {},
   "outputs": [],
   "source": [
    "b = BB()"
   ]
  },
  {
   "cell_type": "code",
   "execution_count": 39,
   "metadata": {
    "scrolled": true
   },
   "outputs": [
    {
     "data": {
      "text/plain": [
       "3"
      ]
     },
     "execution_count": 39,
     "metadata": {},
     "output_type": "execute_result"
    }
   ],
   "source": [
    "b.x # 인스턴스가 없어서 클래스 변수의 값을 참조한다."
   ]
  },
  {
   "cell_type": "code",
   "execution_count": 40,
   "metadata": {},
   "outputs": [],
   "source": [
    "b.x = 'ggkgk' # 인스턴스값 생성"
   ]
  },
  {
   "cell_type": "code",
   "execution_count": 41,
   "metadata": {},
   "outputs": [],
   "source": [
    "b.y() # 인스턴스가 호출해도 클래스변수의 값만을 바꾼다."
   ]
  },
  {
   "cell_type": "code",
   "execution_count": 42,
   "metadata": {
    "scrolled": false
   },
   "outputs": [
    {
     "data": {
      "text/plain": [
       "3"
      ]
     },
     "execution_count": 42,
     "metadata": {},
     "output_type": "execute_result"
    }
   ],
   "source": [
    "BB.x # 인스턴스 값이 바뀌지 않는다."
   ]
  },
  {
   "cell_type": "code",
   "execution_count": 43,
   "metadata": {},
   "outputs": [
    {
     "data": {
      "text/plain": [
       "'ggkgk'"
      ]
     },
     "execution_count": 43,
     "metadata": {},
     "output_type": "execute_result"
    }
   ],
   "source": [
    "b.x"
   ]
  },
  {
   "cell_type": "code",
   "execution_count": 44,
   "metadata": {},
   "outputs": [
    {
     "data": {
      "text/plain": [
       "{'x': 'ggkgk'}"
      ]
     },
     "execution_count": 44,
     "metadata": {},
     "output_type": "execute_result"
    }
   ],
   "source": [
    "vars(b) # b에 대한 인스턴스가 생기지 않는다."
   ]
  },
  {
   "cell_type": "code",
   "execution_count": 56,
   "metadata": {},
   "outputs": [],
   "source": [
    "class BB:\n",
    "    x = 1\n",
    "    @classmethod\n",
    "    def y(cls): # cls, self 뭐든 클래스 변수만 변한다.\n",
    "        cls.x = 3 # 관례상 cls로 쓰도록 약속한다. PEP8\n",
    "        # 클래스 변수가 변한다는 사실이 더욱 명확하게 보인다."
   ]
  }
 ],
 "metadata": {
  "kernelspec": {
   "display_name": "Python 3",
   "language": "python",
   "name": "python3"
  },
  "language_info": {
   "codemirror_mode": {
    "name": "ipython",
    "version": 3
   },
   "file_extension": ".py",
   "mimetype": "text/x-python",
   "name": "python",
   "nbconvert_exporter": "python",
   "pygments_lexer": "ipython3",
   "version": "3.7.2"
  }
 },
 "nbformat": 4,
 "nbformat_minor": 2
}
