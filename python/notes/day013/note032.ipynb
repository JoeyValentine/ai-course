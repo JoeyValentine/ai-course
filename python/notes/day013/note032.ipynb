{
 "cells": [
  {
   "cell_type": "markdown",
   "metadata": {},
   "source": [
    "줄 맨끝에 space bar를 2회 이상 입력하면, \\n을 입력하는 것과 같다.  "
   ]
  },
  {
   "cell_type": "markdown",
   "metadata": {},
   "source": [
    "# [Monkey patching](https://www.geeksforgeeks.org/monkey-patching-in-python-dynamic-behavior/)\n",
    "\n",
    "The term monkey patch only refers to dynamic modifications of a class or module at runtime.\n",
    "\n",
    "anti-pattern"
   ]
  },
  {
   "cell_type": "code",
   "execution_count": 1,
   "metadata": {
    "scrolled": true
   },
   "outputs": [],
   "source": [
    "import matplotlib"
   ]
  },
  {
   "cell_type": "code",
   "execution_count": 2,
   "metadata": {
    "scrolled": true
   },
   "outputs": [
    {
     "data": {
      "text/plain": [
       "109"
      ]
     },
     "execution_count": 2,
     "metadata": {},
     "output_type": "execute_result"
    }
   ],
   "source": [
    "len(dir(matplotlib))"
   ]
  },
  {
   "cell_type": "code",
   "execution_count": 3,
   "metadata": {},
   "outputs": [],
   "source": [
    "import matplotlib.pyplot as plt"
   ]
  },
  {
   "cell_type": "code",
   "execution_count": 5,
   "metadata": {},
   "outputs": [
    {
     "data": {
      "text/plain": [
       "172"
      ]
     },
     "execution_count": 5,
     "metadata": {},
     "output_type": "execute_result"
    }
   ],
   "source": [
    "# monkey patching == 개릴라 patching == 고릴라 \n",
    "# 동적으로 사용 가능한 것이 늘어난다. (import)\n",
    "# runtime때 추가할 수 있음\n",
    "# 난 한 적 없는데, 뜬금없이 값이 추가가 되어 있음 == monkey patching때문에 새로운 기능이 추가되었구냐!\n",
    "\n",
    "len(dir(matplotlib)) # 수가 늘어남..!"
   ]
  },
  {
   "cell_type": "markdown",
   "metadata": {},
   "source": [
    "# Type"
   ]
  },
  {
   "cell_type": "code",
   "execution_count": 6,
   "metadata": {},
   "outputs": [],
   "source": [
    "a = 1"
   ]
  },
  {
   "cell_type": "code",
   "execution_count": 7,
   "metadata": {},
   "outputs": [
    {
     "data": {
      "text/plain": [
       "int"
      ]
     },
     "execution_count": 7,
     "metadata": {},
     "output_type": "execute_result"
    }
   ],
   "source": [
    "type(a)"
   ]
  },
  {
   "cell_type": "code",
   "execution_count": 8,
   "metadata": {},
   "outputs": [
    {
     "data": {
      "text/plain": [
       "type"
      ]
     },
     "execution_count": 8,
     "metadata": {},
     "output_type": "execute_result"
    }
   ],
   "source": [
    "type(int)"
   ]
  },
  {
   "cell_type": "code",
   "execution_count": 9,
   "metadata": {
    "scrolled": true
   },
   "outputs": [
    {
     "name": "stdout",
     "output_type": "stream",
     "text": [
      "Help on class type in module builtins:\n",
      "\n",
      "class type(object)\n",
      " |  type(object_or_name, bases, dict)\n",
      " |  type(object) -> the object's type\n",
      " |  type(name, bases, dict) -> a new type\n",
      " |  \n",
      " |  Methods defined here:\n",
      " |  \n",
      " |  __call__(self, /, *args, **kwargs)\n",
      " |      Call self as a function.\n",
      " |  \n",
      " |  __delattr__(self, name, /)\n",
      " |      Implement delattr(self, name).\n",
      " |  \n",
      " |  __dir__(self, /)\n",
      " |      Specialized __dir__ implementation for types.\n",
      " |  \n",
      " |  __getattribute__(self, name, /)\n",
      " |      Return getattr(self, name).\n",
      " |  \n",
      " |  __init__(self, /, *args, **kwargs)\n",
      " |      Initialize self.  See help(type(self)) for accurate signature.\n",
      " |  \n",
      " |  __instancecheck__(self, instance, /)\n",
      " |      Check if an object is an instance.\n",
      " |  \n",
      " |  __repr__(self, /)\n",
      " |      Return repr(self).\n",
      " |  \n",
      " |  __setattr__(self, name, value, /)\n",
      " |      Implement setattr(self, name, value).\n",
      " |  \n",
      " |  __sizeof__(self, /)\n",
      " |      Return memory consumption of the type object.\n",
      " |  \n",
      " |  __subclasscheck__(self, subclass, /)\n",
      " |      Check if a class is a subclass.\n",
      " |  \n",
      " |  __subclasses__(self, /)\n",
      " |      Return a list of immediate subclasses.\n",
      " |  \n",
      " |  mro(self, /)\n",
      " |      Return a type's method resolution order.\n",
      " |  \n",
      " |  ----------------------------------------------------------------------\n",
      " |  Class methods defined here:\n",
      " |  \n",
      " |  __prepare__(...)\n",
      " |      __prepare__() -> dict\n",
      " |      used to create the namespace for the class statement\n",
      " |  \n",
      " |  ----------------------------------------------------------------------\n",
      " |  Static methods defined here:\n",
      " |  \n",
      " |  __new__(*args, **kwargs)\n",
      " |      Create and return a new object.  See help(type) for accurate signature.\n",
      " |  \n",
      " |  ----------------------------------------------------------------------\n",
      " |  Data descriptors defined here:\n",
      " |  \n",
      " |  __abstractmethods__\n",
      " |  \n",
      " |  __dict__\n",
      " |  \n",
      " |  __text_signature__\n",
      " |  \n",
      " |  ----------------------------------------------------------------------\n",
      " |  Data and other attributes defined here:\n",
      " |  \n",
      " |  __base__ = <class 'object'>\n",
      " |      The most base type\n",
      " |  \n",
      " |  __bases__ = (<class 'object'>,)\n",
      " |  \n",
      " |  __basicsize__ = 864\n",
      " |  \n",
      " |  __dictoffset__ = 264\n",
      " |  \n",
      " |  __flags__ = 2148291584\n",
      " |  \n",
      " |  __itemsize__ = 40\n",
      " |  \n",
      " |  __mro__ = (<class 'type'>, <class 'object'>)\n",
      " |  \n",
      " |  __weakrefoffset__ = 368\n",
      "\n"
     ]
    }
   ],
   "source": [
    "help(type)"
   ]
  },
  {
   "cell_type": "code",
   "execution_count": 10,
   "metadata": {},
   "outputs": [],
   "source": [
    "a = type('moon', (object,), {'a':1})\n",
    "# type(class)을 만들어주니까 metaclass라고 부른다.\n",
    "# 사용자에게 입력받아서 동적으로 type을 만들 수 있다.\n",
    "# type은 새로운 객체 생성 가능\n",
    "# type(name, bases, dict) -> a new type\n",
    "# metaclass입장에서는 class는 객체이다. == 모든게 객체이다."
   ]
  },
  {
   "cell_type": "markdown",
   "metadata": {},
   "source": [
    "``` python\n",
    "class moon:\n",
    "    a = 1\n",
    "a = moon\n",
    "```\n",
    "와 같은 행위이다."
   ]
  },
  {
   "cell_type": "code",
   "execution_count": 12,
   "metadata": {
    "scrolled": true
   },
   "outputs": [
    {
     "data": {
      "text/plain": [
       "True"
      ]
     },
     "execution_count": 12,
     "metadata": {},
     "output_type": "execute_result"
    }
   ],
   "source": [
    "callable(a)\n",
    "# 함수랑 클랙스는 callable"
   ]
  },
  {
   "cell_type": "markdown",
   "metadata": {},
   "source": [
    "# metaclass 사용 용례"
   ]
  },
  {
   "cell_type": "markdown",
   "metadata": {},
   "source": [
    "# 1. singleton\n",
    "\n",
    "metaclass로 class의 기능을 수정해서 __인스턴스를 하나만 만들 수 있도록__ 수정하면 된다."
   ]
  },
  {
   "cell_type": "code",
   "execution_count": 25,
   "metadata": {},
   "outputs": [],
   "source": [
    "class Y:\n",
    "    def __init__(self):\n",
    "        print('a')\n",
    "    def __call__(self):\n",
    "        print('b')"
   ]
  },
  {
   "cell_type": "code",
   "execution_count": 26,
   "metadata": {
    "scrolled": true
   },
   "outputs": [
    {
     "name": "stdout",
     "output_type": "stream",
     "text": [
      "a\n"
     ]
    }
   ],
   "source": [
    "y = Y()"
   ]
  },
  {
   "cell_type": "code",
   "execution_count": 27,
   "metadata": {
    "scrolled": false
   },
   "outputs": [
    {
     "name": "stdout",
     "output_type": "stream",
     "text": [
      "b\n"
     ]
    }
   ],
   "source": [
    "y()\n",
    "# 인스턴스를 call 했을 때 사용하는 함수 __call__"
   ]
  },
  {
   "cell_type": "markdown",
   "metadata": {},
   "source": [
    "# 2. abstract class\n",
    "\n",
    "자손클래스에서 __추상 method의 구현을 강제하기 위해서__  \n",
    "설계는 미리 다하고, 상속 받은놈이 구현해라, 구현 안하면 에러남"
   ]
  },
  {
   "cell_type": "code",
   "execution_count": 1,
   "metadata": {},
   "outputs": [],
   "source": [
    "class Z:\n",
    "    a = 1\n",
    "    def __len__(self):\n",
    "        print('i don\\t know')\n",
    "    def __getitem__(self,x):\n",
    "        print(x)"
   ]
  },
  {
   "cell_type": "code",
   "execution_count": 31,
   "metadata": {},
   "outputs": [],
   "source": [
    "z = Z()"
   ]
  },
  {
   "cell_type": "code",
   "execution_count": 34,
   "metadata": {
    "scrolled": true
   },
   "outputs": [
    {
     "name": "stdout",
     "output_type": "stream",
     "text": [
      "3\n"
     ]
    }
   ],
   "source": [
    "z[3]\n",
    "# duck typing : 상속 안받아도 sequence타입처럼 사용 가능"
   ]
  },
  {
   "cell_type": "code",
   "execution_count": 39,
   "metadata": {},
   "outputs": [],
   "source": [
    "from abc import abstractmethod, ABCMeta # metaclass"
   ]
  },
  {
   "cell_type": "code",
   "execution_count": 40,
   "metadata": {},
   "outputs": [],
   "source": [
    "class X(metaclass=ABCMeta):\n",
    "    @abstractmethod\n",
    "    def y(self):\n",
    "        pass    "
   ]
  },
  {
   "cell_type": "code",
   "execution_count": 41,
   "metadata": {},
   "outputs": [],
   "source": [
    "class Y(X):\n",
    "    pass\n",
    "# 추상함수를 그대로 상속받아서 Y클래스가 아직도 추상클래스이다.\n",
    "# 따로 overriding안해주면 인스턴스화를 할 수 없다."
   ]
  },
  {
   "cell_type": "code",
   "execution_count": 42,
   "metadata": {
    "scrolled": false
   },
   "outputs": [
    {
     "ename": "TypeError",
     "evalue": "Can't instantiate abstract class Y with abstract methods y",
     "output_type": "error",
     "traceback": [
      "\u001b[0;31m---------------------------------------------------------------------------\u001b[0m",
      "\u001b[0;31mTypeError\u001b[0m                                 Traceback (most recent call last)",
      "\u001b[0;32m<ipython-input-42-d71813e7581e>\u001b[0m in \u001b[0;36m<module>\u001b[0;34m\u001b[0m\n\u001b[0;32m----> 1\u001b[0;31m \u001b[0mtt\u001b[0m \u001b[0;34m=\u001b[0m \u001b[0mY\u001b[0m\u001b[0;34m(\u001b[0m\u001b[0;34m)\u001b[0m\u001b[0;34m\u001b[0m\u001b[0;34m\u001b[0m\u001b[0m\n\u001b[0m",
      "\u001b[0;31mTypeError\u001b[0m: Can't instantiate abstract class Y with abstract methods y"
     ]
    }
   ],
   "source": [
    "tt = Y()\n",
    "# 재정의 안하면 초기화 못 함"
   ]
  },
  {
   "cell_type": "code",
   "execution_count": 44,
   "metadata": {},
   "outputs": [],
   "source": [
    "class Y(X):\n",
    "    def y(self):\n",
    "        pass"
   ]
  },
  {
   "cell_type": "code",
   "execution_count": 46,
   "metadata": {},
   "outputs": [],
   "source": [
    "tt = Y()\n",
    "# 재정의해서 성공!"
   ]
  },
  {
   "cell_type": "code",
   "execution_count": 43,
   "metadata": {},
   "outputs": [
    {
     "data": {
      "text/plain": [
       "abc.ABCMeta"
      ]
     },
     "execution_count": 43,
     "metadata": {},
     "output_type": "execute_result"
    }
   ],
   "source": [
    "type(X)"
   ]
  },
  {
   "cell_type": "code",
   "execution_count": 49,
   "metadata": {},
   "outputs": [],
   "source": [
    "from sklearn.neighbors import KNeighborsClassifier"
   ]
  },
  {
   "cell_type": "code",
   "execution_count": 50,
   "metadata": {},
   "outputs": [
    {
     "data": {
      "text/plain": [
       "abc.ABCMeta"
      ]
     },
     "execution_count": 50,
     "metadata": {},
     "output_type": "execute_result"
    }
   ],
   "source": [
    "type(KNeighborsClassifier) # 추상클래스 이므로 특정 메소드는 내가 직접 구현해야 함을 의미한다.\n",
    "# 추상 클래스..! == 사용자 개인 알고리즘을 허용해줌\n",
    "# 나만의 KNN만들기 위해서 상속할 때 필수적인 것 구현 안하면 에러가 난다."
   ]
  },
  {
   "cell_type": "code",
   "execution_count": 51,
   "metadata": {},
   "outputs": [],
   "source": [
    "import inspect"
   ]
  },
  {
   "cell_type": "code",
   "execution_count": 53,
   "metadata": {
    "collapsed": true
   },
   "outputs": [
    {
     "name": "stdout",
     "output_type": "stream",
     "text": [
      "class KNeighborsClassifier(NeighborsBase, KNeighborsMixin,\n",
      "                           SupervisedIntegerMixin, ClassifierMixin):\n",
      "    \"\"\"Classifier implementing the k-nearest neighbors vote.\n",
      "\n",
      "    Read more in the :ref:`User Guide <classification>`.\n",
      "\n",
      "    Parameters\n",
      "    ----------\n",
      "    n_neighbors : int, optional (default = 5)\n",
      "        Number of neighbors to use by default for :meth:`kneighbors` queries.\n",
      "\n",
      "    weights : str or callable, optional (default = 'uniform')\n",
      "        weight function used in prediction.  Possible values:\n",
      "\n",
      "        - 'uniform' : uniform weights.  All points in each neighborhood\n",
      "          are weighted equally.\n",
      "        - 'distance' : weight points by the inverse of their distance.\n",
      "          in this case, closer neighbors of a query point will have a\n",
      "          greater influence than neighbors which are further away.\n",
      "        - [callable] : a user-defined function which accepts an\n",
      "          array of distances, and returns an array of the same shape\n",
      "          containing the weights.\n",
      "\n",
      "    algorithm : {'auto', 'ball_tree', 'kd_tree', 'brute'}, optional\n",
      "        Algorithm used to compute the nearest neighbors:\n",
      "\n",
      "        - 'ball_tree' will use :class:`BallTree`\n",
      "        - 'kd_tree' will use :class:`KDTree`\n",
      "        - 'brute' will use a brute-force search.\n",
      "        - 'auto' will attempt to decide the most appropriate algorithm\n",
      "          based on the values passed to :meth:`fit` method.\n",
      "\n",
      "        Note: fitting on sparse input will override the setting of\n",
      "        this parameter, using brute force.\n",
      "\n",
      "    leaf_size : int, optional (default = 30)\n",
      "        Leaf size passed to BallTree or KDTree.  This can affect the\n",
      "        speed of the construction and query, as well as the memory\n",
      "        required to store the tree.  The optimal value depends on the\n",
      "        nature of the problem.\n",
      "\n",
      "    p : integer, optional (default = 2)\n",
      "        Power parameter for the Minkowski metric. When p = 1, this is\n",
      "        equivalent to using manhattan_distance (l1), and euclidean_distance\n",
      "        (l2) for p = 2. For arbitrary p, minkowski_distance (l_p) is used.\n",
      "\n",
      "    metric : string or callable, default 'minkowski'\n",
      "        the distance metric to use for the tree.  The default metric is\n",
      "        minkowski, and with p=2 is equivalent to the standard Euclidean\n",
      "        metric. See the documentation of the DistanceMetric class for a\n",
      "        list of available metrics.\n",
      "\n",
      "    metric_params : dict, optional (default = None)\n",
      "        Additional keyword arguments for the metric function.\n",
      "\n",
      "    n_jobs : int or None, optional (default=None)\n",
      "        The number of parallel jobs to run for neighbors search.\n",
      "        ``None`` means 1 unless in a :obj:`joblib.parallel_backend` context.\n",
      "        ``-1`` means using all processors. See :term:`Glossary <n_jobs>`\n",
      "        for more details.\n",
      "        Doesn't affect :meth:`fit` method.\n",
      "\n",
      "    Examples\n",
      "    --------\n",
      "    >>> X = [[0], [1], [2], [3]]\n",
      "    >>> y = [0, 0, 1, 1]\n",
      "    >>> from sklearn.neighbors import KNeighborsClassifier\n",
      "    >>> neigh = KNeighborsClassifier(n_neighbors=3)\n",
      "    >>> neigh.fit(X, y) # doctest: +ELLIPSIS\n",
      "    KNeighborsClassifier(...)\n",
      "    >>> print(neigh.predict([[1.1]]))\n",
      "    [0]\n",
      "    >>> print(neigh.predict_proba([[0.9]]))\n",
      "    [[0.66666667 0.33333333]]\n",
      "\n",
      "    See also\n",
      "    --------\n",
      "    RadiusNeighborsClassifier\n",
      "    KNeighborsRegressor\n",
      "    RadiusNeighborsRegressor\n",
      "    NearestNeighbors\n",
      "\n",
      "    Notes\n",
      "    -----\n",
      "    See :ref:`Nearest Neighbors <neighbors>` in the online documentation\n",
      "    for a discussion of the choice of ``algorithm`` and ``leaf_size``.\n",
      "\n",
      "    .. warning::\n",
      "\n",
      "       Regarding the Nearest Neighbors algorithms, if it is found that two\n",
      "       neighbors, neighbor `k+1` and `k`, have identical distances\n",
      "       but different labels, the results will depend on the ordering of the\n",
      "       training data.\n",
      "\n",
      "    https://en.wikipedia.org/wiki/K-nearest_neighbor_algorithm\n",
      "    \"\"\"\n",
      "\n",
      "    def __init__(self, n_neighbors=5,\n",
      "                 weights='uniform', algorithm='auto', leaf_size=30,\n",
      "                 p=2, metric='minkowski', metric_params=None, n_jobs=None,\n",
      "                 **kwargs):\n",
      "\n",
      "        super().__init__(\n",
      "            n_neighbors=n_neighbors,\n",
      "            algorithm=algorithm,\n",
      "            leaf_size=leaf_size, metric=metric, p=p,\n",
      "            metric_params=metric_params,\n",
      "            n_jobs=n_jobs, **kwargs)\n",
      "        self.weights = _check_weights(weights)\n",
      "\n",
      "    def predict(self, X):\n",
      "        \"\"\"Predict the class labels for the provided data\n",
      "\n",
      "        Parameters\n",
      "        ----------\n",
      "        X : array-like, shape (n_query, n_features), \\\n",
      "                or (n_query, n_indexed) if metric == 'precomputed'\n",
      "            Test samples.\n",
      "\n",
      "        Returns\n",
      "        -------\n",
      "        y : array of shape [n_samples] or [n_samples, n_outputs]\n",
      "            Class labels for each data sample.\n",
      "        \"\"\"\n",
      "        X = check_array(X, accept_sparse='csr')\n",
      "\n",
      "        neigh_dist, neigh_ind = self.kneighbors(X)\n",
      "        classes_ = self.classes_\n",
      "        _y = self._y\n",
      "        if not self.outputs_2d_:\n",
      "            _y = self._y.reshape((-1, 1))\n",
      "            classes_ = [self.classes_]\n",
      "\n",
      "        n_outputs = len(classes_)\n",
      "        n_samples = X.shape[0]\n",
      "        weights = _get_weights(neigh_dist, self.weights)\n",
      "\n",
      "        y_pred = np.empty((n_samples, n_outputs), dtype=classes_[0].dtype)\n",
      "        for k, classes_k in enumerate(classes_):\n",
      "            if weights is None:\n",
      "                mode, _ = stats.mode(_y[neigh_ind, k], axis=1)\n",
      "            else:\n",
      "                mode, _ = weighted_mode(_y[neigh_ind, k], weights, axis=1)\n",
      "\n",
      "            mode = np.asarray(mode.ravel(), dtype=np.intp)\n",
      "            y_pred[:, k] = classes_k.take(mode)\n",
      "\n",
      "        if not self.outputs_2d_:\n",
      "            y_pred = y_pred.ravel()\n",
      "\n",
      "        return y_pred\n",
      "\n",
      "    def predict_proba(self, X):\n",
      "        \"\"\"Return probability estimates for the test data X.\n",
      "\n",
      "        Parameters\n",
      "        ----------\n",
      "        X : array-like, shape (n_query, n_features), \\\n",
      "                or (n_query, n_indexed) if metric == 'precomputed'\n",
      "            Test samples.\n",
      "\n",
      "        Returns\n",
      "        -------\n",
      "        p : array of shape = [n_samples, n_classes], or a list of n_outputs\n",
      "            of such arrays if n_outputs > 1.\n",
      "            The class probabilities of the input samples. Classes are ordered\n",
      "            by lexicographic order.\n",
      "        \"\"\"\n",
      "        X = check_array(X, accept_sparse='csr')\n",
      "\n",
      "        neigh_dist, neigh_ind = self.kneighbors(X)\n",
      "\n",
      "        classes_ = self.classes_\n",
      "        _y = self._y\n",
      "        if not self.outputs_2d_:\n",
      "            _y = self._y.reshape((-1, 1))\n",
      "            classes_ = [self.classes_]\n",
      "\n",
      "        n_samples = X.shape[0]\n",
      "\n",
      "        weights = _get_weights(neigh_dist, self.weights)\n",
      "        if weights is None:\n",
      "            weights = np.ones_like(neigh_ind)\n",
      "\n",
      "        all_rows = np.arange(X.shape[0])\n",
      "        probabilities = []\n",
      "        for k, classes_k in enumerate(classes_):\n",
      "            pred_labels = _y[:, k][neigh_ind]\n",
      "            proba_k = np.zeros((n_samples, classes_k.size))\n",
      "\n",
      "            # a simple ':' index doesn't work right\n",
      "            for i, idx in enumerate(pred_labels.T):  # loop is O(n_neighbors)\n",
      "                proba_k[all_rows, idx] += weights[:, i]\n",
      "\n",
      "            # normalize 'votes' into real [0,1] probabilities\n",
      "            normalizer = proba_k.sum(axis=1)[:, np.newaxis]\n",
      "            normalizer[normalizer == 0.0] = 1.0\n",
      "            proba_k /= normalizer\n",
      "\n",
      "            probabilities.append(proba_k)\n",
      "\n",
      "        if not self.outputs_2d_:\n",
      "            probabilities = probabilities[0]\n",
      "\n",
      "        return probabilities\n",
      "\n"
     ]
    }
   ],
   "source": [
    "print(inspect.getsource(KNeighborsClassifier))\n",
    "# source코드를 보여줌\n",
    "# 소스 보고 나만의 알고리즘을 만들 수 있다."
   ]
  },
  {
   "cell_type": "markdown",
   "metadata": {},
   "source": [
    "# 새로운 기능 추가할 때 compositon, 상속, decorator 사용"
   ]
  },
  {
   "cell_type": "markdown",
   "metadata": {},
   "source": [
    "# 막기 위해서 사용할 수 있는 방식, 접근 제한하기 위해 사용\n",
    "\n",
    "encapsulation : \n",
    "다른 언어는 다 막아놓고(private), accessor(interface)를 만듦  \n",
    "python은 다 오픈하고(public) 막는다. python 철학  \n",
    "\n",
    "\n",
    "# [descripter](https://docs.python.org/3/howto/descriptor.html#descriptor-howto-guide) 방식 3가지\n",
    "\n",
    "컴포지션 방식으로 만듦  \n",
    "근데 좀 귀찮음"
   ]
  },
  {
   "cell_type": "markdown",
   "metadata": {},
   "source": [
    "> Descriptor Protocol\n",
    "descr.__get__(self, obj, type=None) -> value  \n",
    "descr.__set__(self, obj, value) -> None  \n",
    "descr.__delete__(self, obj) -> None  "
   ]
  },
  {
   "cell_type": "code",
   "execution_count": 68,
   "metadata": {},
   "outputs": [],
   "source": [
    "class A:\n",
    "    def __init__(self, x):\n",
    "        self.x = x\n",
    "        \n",
    "    def __get__(self, x, y):\n",
    "        print('GET')"
   ]
  },
  {
   "cell_type": "code",
   "execution_count": 69,
   "metadata": {},
   "outputs": [],
   "source": [
    "class B:\n",
    "    x = A(3) # 다른 클래스에 클래스를 삽입 : composition방식으로 만듦"
   ]
  },
  {
   "cell_type": "code",
   "execution_count": 70,
   "metadata": {},
   "outputs": [],
   "source": [
    "b = B()"
   ]
  },
  {
   "cell_type": "code",
   "execution_count": 67,
   "metadata": {},
   "outputs": [
    {
     "name": "stdout",
     "output_type": "stream",
     "text": [
      "GET\n"
     ]
    }
   ],
   "source": [
    "b.x\n",
    "# . 수행시,\n",
    "# __getattribute__ 실행\n",
    "# method가 아니면, __get__ 호출\n",
    "# 외부에서 접근하는 것을 막을 수 있다.\n",
    "\n",
    "# 호출 순서 확인하기"
   ]
  },
  {
   "cell_type": "code",
   "execution_count": null,
   "metadata": {},
   "outputs": [],
   "source": [
    "b.x = 7\n",
    "# __set__ 이 수행됨"
   ]
  },
  {
   "cell_type": "markdown",
   "metadata": {},
   "source": [
    "# property 방식"
   ]
  },
  {
   "cell_type": "code",
   "execution_count": 2,
   "metadata": {},
   "outputs": [],
   "source": [
    "class C(object):\n",
    "    def getx(self): return self.__x\n",
    "    def setx(self, value): self.__x = value\n",
    "    def delx(self): del self.__x\n",
    "    x = property(getx, setx, delx, \"I'm the 'x' property.\")"
   ]
  },
  {
   "cell_type": "markdown",
   "metadata": {},
   "source": [
    "# Decorator 방식"
   ]
  },
  {
   "cell_type": "markdown",
   "metadata": {},
   "source": [
    "1. property없을 때, shape접근하려면 inst.shape()써야 한다.\n",
    "2. 메소드로 구현되어 있는데, 값처럼 접근할 수 있도록 만드는 기법 == descriptor\n",
    "3. descriptor쓰면 괄호 안써도 된다... == 객체처럼 접근할 수 있다. == 함수 이름으로 접근하게 함."
   ]
  },
  {
   "cell_type": "code",
   "execution_count": 84,
   "metadata": {},
   "outputs": [],
   "source": [
    "class K:\n",
    "    def __init__(self, x):\n",
    "        self.__x = x\n",
    "    \n",
    "    # 이름은 같은데 decorator가 다른 메모리영역에 함수를 만들어서 겹치지 않는다.\n",
    "    \n",
    "    @property\n",
    "    def x(self):\n",
    "        return self.__x\n",
    "    \n",
    "    @x.setter\n",
    "    def x(self, y):\n",
    "        self.__x = y"
   ]
  },
  {
   "cell_type": "code",
   "execution_count": 85,
   "metadata": {},
   "outputs": [],
   "source": [
    "a = K(1)"
   ]
  },
  {
   "cell_type": "code",
   "execution_count": 86,
   "metadata": {
    "scrolled": true
   },
   "outputs": [
    {
     "ename": "TypeError",
     "evalue": "'int' object is not callable",
     "output_type": "error",
     "traceback": [
      "\u001b[0;31m---------------------------------------------------------------------------\u001b[0m",
      "\u001b[0;31mTypeError\u001b[0m                                 Traceback (most recent call last)",
      "\u001b[0;32m<ipython-input-86-10f03724441a>\u001b[0m in \u001b[0;36m<module>\u001b[0;34m\u001b[0m\n\u001b[0;32m----> 1\u001b[0;31m \u001b[0ma\u001b[0m\u001b[0;34m.\u001b[0m\u001b[0mx\u001b[0m\u001b[0;34m(\u001b[0m\u001b[0;34m)\u001b[0m\u001b[0;34m\u001b[0m\u001b[0;34m\u001b[0m\u001b[0m\n\u001b[0m\u001b[1;32m      2\u001b[0m \u001b[0;31m# property는 괄호로 쓰면 안된다.\u001b[0m\u001b[0;34m\u001b[0m\u001b[0;34m\u001b[0m\u001b[0;34m\u001b[0m\u001b[0m\n",
      "\u001b[0;31mTypeError\u001b[0m: 'int' object is not callable"
     ]
    }
   ],
   "source": [
    "a.x()\n",
    "# @property는 괄호로 안쓴다. method인지 value인지"
   ]
  },
  {
   "cell_type": "code",
   "execution_count": 87,
   "metadata": {},
   "outputs": [
    {
     "data": {
      "text/plain": [
       "1"
      ]
     },
     "execution_count": 87,
     "metadata": {},
     "output_type": "execute_result"
    }
   ],
   "source": [
    "a.x # method인데 값처럼 사용가능해짐..!\n",
    "# 실제 값을 숨겨놓고, 함수를 겉으로 드러낸다. == 값을 맘대로 못 바꾼다."
   ]
  },
  {
   "cell_type": "code",
   "execution_count": 88,
   "metadata": {},
   "outputs": [
    {
     "name": "stdout",
     "output_type": "stream",
     "text": [
      "4\n"
     ]
    }
   ],
   "source": [
    "a.x = 4 \n",
    "print(a.x)"
   ]
  },
  {
   "cell_type": "markdown",
   "metadata": {},
   "source": [
    "# Polymorphism\n",
    "\n",
    "### [generic 함수](https://en.wikipedia.org/wiki/Generic_programming)\n",
    "\n",
    "len() : list, set, tuple다 됨..! type이 달라고 실행 시켜줌  \n",
    "들어오는 type에 따라서 다른 행동을 하는 함수  \n",
    "decorator로 구현함  \n",
    "\n",
    "Glossary  \n",
    "A function composed of multiple functions implementing the same operation for different types. Which implementation should be used during a call is determined by the dispatch algorithm.  \n",
    "See also the single dispatch glossary entry, the functools.singledispatch() decorator, and PEP 443.  \n",
    "\n",
    "### [single dispatch](https://docs.python.org/3/library/functools.html#functools.singledispatch)\n",
    "A form of generic function dispatch where the implementation is chosen based on the type of a single argument.\n",
    "\n",
    "### [single/multiple dispatch wiki](https://en.wikipedia.org/wiki/Dynamic_dispatch)"
   ]
  },
  {
   "cell_type": "markdown",
   "metadata": {},
   "source": [
    "# [abstract](https://docs.python.org/ko/3/library/abc.html)\n",
    "\n",
    "@abc.abstractmethod   \n",
    "@abc.abstractclassmethod\n",
    "@abc.abstractstaticmethod  \n",
    "등등 구현을 강제화하는 기법들\n",
    "\n",
    "property : method를 변수처럼 쓸 수있다.\n",
    "더 숨길 수 있다."
   ]
  },
  {
   "cell_type": "markdown",
   "metadata": {},
   "source": [
    "# 연산자 overriding"
   ]
  },
  {
   "cell_type": "code",
   "execution_count": 89,
   "metadata": {},
   "outputs": [],
   "source": [
    "class int2(int):\n",
    "    def __add__(self, x):\n",
    "        print('안 해줌')"
   ]
  },
  {
   "cell_type": "code",
   "execution_count": 91,
   "metadata": {},
   "outputs": [],
   "source": [
    "a = int2(4)"
   ]
  },
  {
   "cell_type": "code",
   "execution_count": 93,
   "metadata": {},
   "outputs": [],
   "source": [
    "b = int2(2)"
   ]
  },
  {
   "cell_type": "code",
   "execution_count": 94,
   "metadata": {
    "scrolled": true
   },
   "outputs": [
    {
     "name": "stdout",
     "output_type": "stream",
     "text": [
      "안 해줌\n"
     ]
    }
   ],
   "source": [
    "a + b"
   ]
  }
 ],
 "metadata": {
  "kernelspec": {
   "display_name": "Python 3",
   "language": "python",
   "name": "python3"
  },
  "language_info": {
   "codemirror_mode": {
    "name": "ipython",
    "version": 3
   },
   "file_extension": ".py",
   "mimetype": "text/x-python",
   "name": "python",
   "nbconvert_exporter": "python",
   "pygments_lexer": "ipython3",
   "version": "3.7.2"
  }
 },
 "nbformat": 4,
 "nbformat_minor": 2
}
