{
 "cells": [
  {
   "cell_type": "markdown",
   "metadata": {},
   "source": [
    "# pandas 주요 기능  \n",
    "기초통계분석 && 전처리"
   ]
  },
  {
   "cell_type": "markdown",
   "metadata": {},
   "source": [
    "# numpy기반으로도 새로운 타입을 만들 수 있다."
   ]
  },
  {
   "cell_type": "markdown",
   "metadata": {},
   "source": [
    "공통점 : 2차원의 표 data를 만들 수 있다.  \n",
    "차이점 : \n",
    "structured array - dict방식으로 접근, numpy방식이라 다르다, pandas주요 자료구조  \n",
    "namedtuple - attribute방식으로 접근\n",
    "\n",
    "데이터 타입을 각각 다르게 지정할 수 있다.\n",
    "\n",
    "numpy의 structured array에서는 dict만 가능  \n",
    "data frame은 dict, attribute둘 다 가능"
   ]
  },
  {
   "cell_type": "markdown",
   "metadata": {},
   "source": [
    "# [structured array](https://www.numpy.org/devdocs/user/basics.rec.html#structured-arrays) == 2차원 표라고 생각하면 된다."
   ]
  },
  {
   "cell_type": "code",
   "execution_count": 17,
   "metadata": {},
   "outputs": [],
   "source": [
    "import numpy as np\n",
    "#각각의 원소 타입을 정할 수 있다.\n",
    "x = np.array([('Rex', 9, 81.), ('Fido', 3, 27.)],\n",
    "      dtype=[('name', 'U10'), ('age', '<i4'), ('weight', '<f4')])\n",
    "\n",
    "# homogenous하지 않은 data type을 생성할 수 있다.\n",
    "# name : unicode 80bit짜리 이름\n",
    "# i4 : 32bit "
   ]
  },
  {
   "cell_type": "markdown",
   "metadata": {},
   "source": [
    "나만의 data type을 만들어서 관리할 수 있다."
   ]
  },
  {
   "cell_type": "code",
   "execution_count": 3,
   "metadata": {},
   "outputs": [
    {
     "data": {
      "text/plain": [
       "'Rex'"
      ]
     },
     "execution_count": 3,
     "metadata": {},
     "output_type": "execute_result"
    }
   ],
   "source": [
    "x[0]['name']"
   ]
  },
  {
   "cell_type": "markdown",
   "metadata": {},
   "source": [
    "python에서 클래스를 만드는 방법\n",
    "1. metaclass로부터\n",
    "2. type함수\n",
    "3. namedtuple함수"
   ]
  },
  {
   "cell_type": "code",
   "execution_count": 7,
   "metadata": {},
   "outputs": [],
   "source": [
    "from collections import namedtuple"
   ]
  },
  {
   "cell_type": "code",
   "execution_count": 12,
   "metadata": {
    "scrolled": true
   },
   "outputs": [],
   "source": [
    "y = namedtuple('Address', ['name','age','weight'])"
   ]
  },
  {
   "cell_type": "code",
   "execution_count": 13,
   "metadata": {},
   "outputs": [],
   "source": [
    "z = y('haha',12,90)"
   ]
  },
  {
   "cell_type": "code",
   "execution_count": 15,
   "metadata": {},
   "outputs": [
    {
     "data": {
      "text/plain": [
       "'haha'"
      ]
     },
     "execution_count": 15,
     "metadata": {},
     "output_type": "execute_result"
    }
   ],
   "source": [
    "z[0]"
   ]
  },
  {
   "cell_type": "code",
   "execution_count": 14,
   "metadata": {},
   "outputs": [
    {
     "data": {
      "text/plain": [
       "'haha'"
      ]
     },
     "execution_count": 14,
     "metadata": {},
     "output_type": "execute_result"
    }
   ],
   "source": [
    "z.name"
   ]
  }
 ],
 "metadata": {
  "kernelspec": {
   "display_name": "Python 3",
   "language": "python",
   "name": "python3"
  },
  "language_info": {
   "codemirror_mode": {
    "name": "ipython",
    "version": 3
   },
   "file_extension": ".py",
   "mimetype": "text/x-python",
   "name": "python",
   "nbconvert_exporter": "python",
   "pygments_lexer": "ipython3",
   "version": "3.7.2"
  }
 },
 "nbformat": 4,
 "nbformat_minor": 2
}
