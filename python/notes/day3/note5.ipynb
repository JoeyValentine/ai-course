{
 "cells": [
  {
   "cell_type": "code",
   "execution_count": 1,
   "metadata": {},
   "outputs": [
    {
     "name": "stdout",
     "output_type": "stream",
     "text": [
      "T\n",
      "A\n"
     ]
    }
   ],
   "source": [
    "a = 10\n",
    "if a > 0:\n",
    "    print('T')\n",
    "    print('A')\n",
    "elif a > 5:\n",
    "    print('Z')\n",
    "else:\n",
    "    print('haha')\n",
    "# 하나의 결과값을 축약할 수 있는 것을 '식'이라고 한다.\n",
    "# colon이후에 indent 줄맞춤 잘하자, space-bar 4칸이 기본..!\n",
    "# if elif else 중에서 하나만 실행된다.\n",
    "# if, else는 1개씩만 사용 가능, elif는 여러개 사용 가능"
   ]
  },
  {
   "cell_type": "markdown",
   "metadata": {},
   "source": [
    "# else의 3가지 종류\n",
    "if else\n",
    "반복문 else\n",
    "예외 처리 else"
   ]
  },
  {
   "cell_type": "code",
   "execution_count": 2,
   "metadata": {},
   "outputs": [
    {
     "name": "stdout",
     "output_type": "stream",
     "text": [
      "T\n",
      "A\n"
     ]
    }
   ],
   "source": [
    "a = 10\n",
    "if a > 0:\n",
    "  print('T')\n",
    "  print('A')\n",
    "elif a > 5:\n",
    "    print('Z')\n",
    "else:\n",
    "    print('haha')\n",
    "\n",
    "# : 구문 내부에만 indent 맞추면 가능해서\n",
    "# 2칸 뛰어도 괜찮다. 4칸권장!"
   ]
  },
  {
   "cell_type": "code",
   "execution_count": 3,
   "metadata": {},
   "outputs": [
    {
     "name": "stdout",
     "output_type": "stream",
     "text": [
      "a\n"
     ]
    }
   ],
   "source": [
    "if -2 :\n",
    "    print('a')\n",
    "# 0만 아니면 모든 정수는 참이다.\n",
    "# if의 조건문은 존재론적으로 생각해야 한다."
   ]
  },
  {
   "cell_type": "code",
   "execution_count": 4,
   "metadata": {},
   "outputs": [
    {
     "name": "stdout",
     "output_type": "stream",
     "text": [
      "WOW\n"
     ]
    }
   ],
   "source": [
    "if [2]:\n",
    "    print(\"WOW\")\n",
    "# if의 조건문은 존재론적으로 생각해야 한다.\n",
    "# 존재하면 TRUE 존재하지 않으면 FALSE"
   ]
  },
  {
   "cell_type": "code",
   "execution_count": 5,
   "metadata": {},
   "outputs": [
    {
     "name": "stdout",
     "output_type": "stream",
     "text": [
      "ddd\n"
     ]
    }
   ],
   "source": [
    "if []:\n",
    "    print(\"WOWOWOWO\")\n",
    "else:\n",
    "    print(\"ddd\")\n",
    "# list의 입장에서는 없는 것이나 다름없다. \n",
    "# [], {}를 false로 간주"
   ]
  },
  {
   "cell_type": "code",
   "execution_count": 6,
   "metadata": {},
   "outputs": [
    {
     "name": "stdout",
     "output_type": "stream",
     "text": [
      "WOWOWOWO\n"
     ]
    }
   ],
   "source": [
    "if ['']:\n",
    "    print(\"WOWOWOWO\")\n",
    "else:\n",
    "    print(\"ddd\")\n",
    "# 빈 문자열을 원소로 가지고 있음"
   ]
  },
  {
   "cell_type": "code",
   "execution_count": 7,
   "metadata": {},
   "outputs": [
    {
     "name": "stdout",
     "output_type": "stream",
     "text": [
      "ddd\n"
     ]
    }
   ],
   "source": [
    "if '':\n",
    "    print(\"WOWOWOWO\")\n",
    "else:\n",
    "    print(\"ddd\")\n",
    "# 빈 문자열 == false"
   ]
  },
  {
   "cell_type": "code",
   "execution_count": 8,
   "metadata": {},
   "outputs": [
    {
     "name": "stdout",
     "output_type": "stream",
     "text": [
      "WOWOWOWO\n"
     ]
    }
   ],
   "source": [
    "if ' ':\n",
    "    print(\"WOWOWOWO\")\n",
    "else:\n",
    "    print(\"ddd\")\n",
    "# 스페이스바를 가지고 있다."
   ]
  },
  {
   "cell_type": "code",
   "execution_count": 9,
   "metadata": {},
   "outputs": [
    {
     "name": "stdout",
     "output_type": "stream",
     "text": [
      "ddd\n"
     ]
    }
   ],
   "source": [
    "if None:\n",
    "    print(\"WOWOWOWO\")\n",
    "else:\n",
    "    print(\"ddd\")\n",
    "# None은 객체가 없으므로 if에서는 False로 간주"
   ]
  },
  {
   "cell_type": "code",
   "execution_count": 10,
   "metadata": {},
   "outputs": [
    {
     "name": "stdout",
     "output_type": "stream",
     "text": [
      "ddd\n",
      "False\n"
     ]
    }
   ],
   "source": [
    "if None == False:\n",
    "    print(\"WOWOWOWO\")\n",
    "else:\n",
    "    print(\"ddd\")\n",
    "# False는 0값을 가짐\n",
    "# None은 객체가 없음 비교 불가\n",
    "print(None == False)"
   ]
  },
  {
   "cell_type": "code",
   "execution_count": 11,
   "metadata": {},
   "outputs": [
    {
     "name": "stdout",
     "output_type": "stream",
     "text": [
      "a\n"
     ]
    }
   ],
   "source": [
    "a = 3\n",
    "if 1 < a < 5 :\n",
    "    print('a')\n",
    "else:\n",
    "    print('b')"
   ]
  },
  {
   "cell_type": "markdown",
   "metadata": {},
   "source": [
    "# python의 bit operator and, or는 각각 &, | 이다.\n",
    "# 여기서 and, or는 logical operator이다.\n",
    "---"
   ]
  },
  {
   "cell_type": "code",
   "execution_count": 12,
   "metadata": {},
   "outputs": [
    {
     "data": {
      "text/plain": [
       "2"
      ]
     },
     "execution_count": 12,
     "metadata": {},
     "output_type": "execute_result"
    }
   ],
   "source": [
    "3 and 2\n",
    "# 앞이 TRUE면 뒤의 값을 RETURN 함\n",
    "# python은 TRUE, FALSE가 return 되지 않고 TRUE나 FALSE가 되는 값을 돌려줌"
   ]
  },
  {
   "cell_type": "code",
   "execution_count": 13,
   "metadata": {},
   "outputs": [
    {
     "data": {
      "text/plain": [
       "[]"
      ]
     },
     "execution_count": 13,
     "metadata": {},
     "output_type": "execute_result"
    }
   ],
   "source": [
    "[] and 2\n",
    "# python은 TRUE, FALSE가 return 되지 않고 TRUE나 FALSE가 되는 값을 돌려줌"
   ]
  },
  {
   "cell_type": "code",
   "execution_count": 14,
   "metadata": {},
   "outputs": [
    {
     "data": {
      "text/plain": [
       "4"
      ]
     },
     "execution_count": 14,
     "metadata": {},
     "output_type": "execute_result"
    }
   ],
   "source": [
    "4 or 2\n",
    "# 앞에 것이 TRUE면 뒤에 안보고 return 함"
   ]
  },
  {
   "cell_type": "code",
   "execution_count": 15,
   "metadata": {},
   "outputs": [
    {
     "data": {
      "text/plain": [
       "2"
      ]
     },
     "execution_count": 15,
     "metadata": {},
     "output_type": "execute_result"
    }
   ],
   "source": [
    "[] or 2\n",
    "# memory 할당 되었으면 TRUE로 간주\n",
    "# 앞에 것이 FALSE"
   ]
  },
  {
   "cell_type": "code",
   "execution_count": 16,
   "metadata": {
    "scrolled": true
   },
   "outputs": [
    {
     "data": {
      "text/plain": [
       "()"
      ]
     },
     "execution_count": 16,
     "metadata": {},
     "output_type": "execute_result"
    }
   ],
   "source": [
    "[] or ()"
   ]
  },
  {
   "cell_type": "code",
   "execution_count": 17,
   "metadata": {},
   "outputs": [
    {
     "ename": "ZeroDivisionError",
     "evalue": "division by zero",
     "output_type": "error",
     "traceback": [
      "\u001b[1;31m---------------------------------------------------------------------------\u001b[0m",
      "\u001b[1;31mZeroDivisionError\u001b[0m                         Traceback (most recent call last)",
      "\u001b[1;32m<ipython-input-17-bc757c3fda29>\u001b[0m in \u001b[0;36m<module>\u001b[1;34m\u001b[0m\n\u001b[1;32m----> 1\u001b[1;33m \u001b[1;36m1\u001b[0m \u001b[1;33m/\u001b[0m \u001b[1;36m0\u001b[0m\u001b[1;33m\u001b[0m\u001b[1;33m\u001b[0m\u001b[0m\n\u001b[0m",
      "\u001b[1;31mZeroDivisionError\u001b[0m: division by zero"
     ]
    }
   ],
   "source": [
    "1 / 0"
   ]
  },
  {
   "cell_type": "code",
   "execution_count": 18,
   "metadata": {},
   "outputs": [
    {
     "data": {
      "text/plain": [
       "3"
      ]
     },
     "execution_count": 18,
     "metadata": {},
     "output_type": "execute_result"
    }
   ],
   "source": [
    "3 or 1/0\n",
    "# 뒤의 error를 무시함 우와!!\n",
    "# 앞에 결정되면 뒤를 고려 안함 == short circuit"
   ]
  },
  {
   "cell_type": "code",
   "execution_count": 19,
   "metadata": {},
   "outputs": [
    {
     "ename": "ZeroDivisionError",
     "evalue": "division by zero",
     "output_type": "error",
     "traceback": [
      "\u001b[1;31m---------------------------------------------------------------------------\u001b[0m",
      "\u001b[1;31mZeroDivisionError\u001b[0m                         Traceback (most recent call last)",
      "\u001b[1;32m<ipython-input-19-2452608b73f6>\u001b[0m in \u001b[0;36m<module>\u001b[1;34m\u001b[0m\n\u001b[1;32m----> 1\u001b[1;33m \u001b[1;36m3\u001b[0m \u001b[1;32mand\u001b[0m \u001b[1;36m1\u001b[0m\u001b[1;33m/\u001b[0m\u001b[1;36m0\u001b[0m\u001b[1;33m\u001b[0m\u001b[1;33m\u001b[0m\u001b[0m\n\u001b[0m\u001b[0;32m      2\u001b[0m \u001b[1;31m# 뒤의 error를 확인함\u001b[0m\u001b[1;33m\u001b[0m\u001b[1;33m\u001b[0m\u001b[1;33m\u001b[0m\u001b[0m\n",
      "\u001b[1;31mZeroDivisionError\u001b[0m: division by zero"
     ]
    }
   ],
   "source": [
    "3 and 1/0\n",
    "# 뒤의 error를 확인함"
   ]
  },
  {
   "cell_type": "markdown",
   "metadata": {},
   "source": [
    "python의 TRUE FALSE보다 의미가 크다.\n",
    "\n",
    "이러한 방식으로 객체지향을 이용해서 편리하게 if문 사용 가능\n",
    "\n",
    "# [and / or](https://docs.python.org/3/reference/expressions.html#boolean-operations)\n",
    "---"
   ]
  },
  {
   "cell_type": "markdown",
   "metadata": {},
   "source": [
    "if문 복잡해지는 것들\n",
    "elif , and/or , nested if\n",
    "\n",
    "---"
   ]
  },
  {
   "cell_type": "markdown",
   "metadata": {},
   "source": [
    "and/or : 하나의 결과물로 축약해주는 것을 식이라 해 and/or도 식이야!\n",
    "\n",
    "---"
   ]
  },
  {
   "cell_type": "markdown",
   "metadata": {},
   "source": [
    "# [python 조건식](https://docs.python.org/2.5/whatsnew/pep-308.html)\n",
    "---"
   ]
  },
  {
   "cell_type": "code",
   "execution_count": 20,
   "metadata": {},
   "outputs": [
    {
     "name": "stdout",
     "output_type": "stream",
     "text": [
      "3\n"
     ]
    }
   ],
   "source": [
    "a = 3\n",
    "b = 3 if a > 0 else 8\n",
    "# 참이면 3을 대입, 거짓이면 8대입\n",
    "# 조건식 반복식 함수식\n",
    "print(b)"
   ]
  },
  {
   "cell_type": "code",
   "execution_count": 21,
   "metadata": {},
   "outputs": [
    {
     "name": "stdout",
     "output_type": "stream",
     "text": [
      "([1, 2, 3], [5, 6, 7]) 2168710857288 2168710857288\n",
      "([1, 2, 3], [5, 6, 7]) 140726891033424 2168710857288\n"
     ]
    }
   ],
   "source": [
    "a = [1,2,3]\n",
    "b = [5,6,7]\n",
    "c = (a,b)\n",
    "print(c, id(a), id(c[0]))\n",
    "a = 1\n",
    "print(c, id(a), id(c[0]))"
   ]
  },
  {
   "cell_type": "code",
   "execution_count": null,
   "metadata": {},
   "outputs": [],
   "source": []
  }
 ],
 "metadata": {
  "kernelspec": {
   "display_name": "Python 3",
   "language": "python",
   "name": "python3"
  },
  "language_info": {
   "codemirror_mode": {
    "name": "ipython",
    "version": 3
   },
   "file_extension": ".py",
   "mimetype": "text/x-python",
   "name": "python",
   "nbconvert_exporter": "python",
   "pygments_lexer": "ipython3",
   "version": "3.7.1"
  }
 },
 "nbformat": 4,
 "nbformat_minor": 1
}
