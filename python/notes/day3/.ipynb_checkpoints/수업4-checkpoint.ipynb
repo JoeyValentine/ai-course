{
 "cells": [
  {
   "cell_type": "code",
   "execution_count": 1,
   "metadata": {},
   "outputs": [],
   "source": [
    "a = 1\n",
    "# 할당 방법1"
   ]
  },
  {
   "cell_type": "code",
   "execution_count": 2,
   "metadata": {},
   "outputs": [
    {
     "name": "stdout",
     "output_type": "stream",
     "text": [
      "2581394961200 2581394961200 2581394961200\n"
     ]
    }
   ],
   "source": [
    "a = b = c = 500\n",
    "print(id(a), id(b), id(c))\n",
    "# 할당 방법2\n",
    "# 다 같은 주소를 할당받는다."
   ]
  },
  {
   "cell_type": "code",
   "execution_count": 3,
   "metadata": {},
   "outputs": [
    {
     "name": "stdout",
     "output_type": "stream",
     "text": [
      "140726891036592 140726891036592 140726891036592\n"
     ]
    }
   ],
   "source": [
    "a = 100\n",
    "b = 100\n",
    "c = 100\n",
    "print(id(a), id(b), id(c))\n",
    "# 위에 것이 더욱 보기 좋다.\n",
    "# 숫자가 작아서 같은 객체를 가리키고 있다."
   ]
  },
  {
   "cell_type": "code",
   "execution_count": 4,
   "metadata": {},
   "outputs": [
    {
     "name": "stdout",
     "output_type": "stream",
     "text": [
      "2581394960944 2581394961232 2581394961200\n"
     ]
    }
   ],
   "source": [
    "a = 500\n",
    "b = 500\n",
    "c = 500\n",
    "print(id(a), id(b), id(c))\n",
    "\n",
    "# 숫자가 커서 다른 객체들을 가리키고 있다."
   ]
  },
  {
   "cell_type": "code",
   "execution_count": 5,
   "metadata": {
    "scrolled": true
   },
   "outputs": [
    {
     "name": "stdout",
     "output_type": "stream",
     "text": [
      "2581394956232 2581384289224 2581394177416\n"
     ]
    }
   ],
   "source": [
    "aList = []\n",
    "bList = []\n",
    "cList = []\n",
    "print(id(aList), id(bList), id(cList))\n",
    "# mutable 객체는 다른 객체를 가리킴"
   ]
  },
  {
   "cell_type": "code",
   "execution_count": 6,
   "metadata": {},
   "outputs": [
    {
     "name": "stdout",
     "output_type": "stream",
     "text": [
      "2581394954440 2581394954440 2581394954440\n"
     ]
    }
   ],
   "source": [
    "aList = bList = cList = []\n",
    "print(id(aList), id(bList), id(cList))\n",
    "# 다 같은 객체를 가리킴"
   ]
  },
  {
   "cell_type": "code",
   "execution_count": 7,
   "metadata": {},
   "outputs": [
    {
     "name": "stdout",
     "output_type": "stream",
     "text": [
      "140726891033424 140726891033488\n"
     ]
    }
   ],
   "source": [
    "a = b = 1\n",
    "b = 3\n",
    "print(id(a), id(b))\n",
    "# 다른 객체를 할당해서 주솟값이 달라진다."
   ]
  },
  {
   "cell_type": "code",
   "execution_count": 8,
   "metadata": {},
   "outputs": [
    {
     "name": "stdout",
     "output_type": "stream",
     "text": [
      "2581395141256 2581395141256 2581395141256\n"
     ]
    }
   ],
   "source": [
    "x = y = z = [1, 2]\n",
    "# x, y, z는 [1,2]를 주소로 갖는다.\n",
    "print(id(x), id(y), id(z))"
   ]
  },
  {
   "cell_type": "code",
   "execution_count": 9,
   "metadata": {},
   "outputs": [
    {
     "name": "stdout",
     "output_type": "stream",
     "text": [
      "2581395141256 2581395141256\n",
      "[1, 2, 3] [1, 2, 3] [1, 2, 3]\n"
     ]
    }
   ],
   "source": [
    "y.append(3)\n",
    "# 주소를 안바꿈!\n",
    "print(id(x), id(y))\n",
    "# 재할당이 안일어남\n",
    "\n",
    "print(x, y, z)\n",
    "# 나는 y만 바꿀 생각이었는데, 다 같이 바뀌는구나!?\n",
    "# mutable일때는 chain assignment 조심하기..!"
   ]
  },
  {
   "cell_type": "code",
   "execution_count": 10,
   "metadata": {},
   "outputs": [
    {
     "name": "stdout",
     "output_type": "stream",
     "text": [
      "[1, 2, 3] [3, 4] [1, 2, 3]\n",
      "2581395141256 2581394174984 2581395141256\n"
     ]
    }
   ],
   "source": [
    "# chain assignment할 때 mutable 객체의 경우에는 조심해야한다.\n",
    "# mutable한 객체 byteArray list set dict\n",
    "y = [3, 4]\n",
    "print(x, y, z)\n",
    "print(id(x), id(y), id(z))\n",
    "# y name에 새로운 "
   ]
  },
  {
   "cell_type": "code",
   "execution_count": 11,
   "metadata": {},
   "outputs": [],
   "source": [
    "a += 1 \n",
    "# 할당 방법3"
   ]
  },
  {
   "cell_type": "code",
   "execution_count": 12,
   "metadata": {},
   "outputs": [
    {
     "data": {
      "text/plain": [
       "2"
      ]
     },
     "execution_count": 12,
     "metadata": {},
     "output_type": "execute_result"
    }
   ],
   "source": [
    "++a\n",
    "# python에서는 '+'기호로 인식\n",
    "# +(+a)\n",
    "# C처럼 ++operator는 없다."
   ]
  },
  {
   "cell_type": "code",
   "execution_count": 13,
   "metadata": {},
   "outputs": [
    {
     "ename": "SyntaxError",
     "evalue": "invalid syntax (<ipython-input-13-0eb07cc662fd>, line 1)",
     "output_type": "error",
     "traceback": [
      "\u001b[1;36m  File \u001b[1;32m\"<ipython-input-13-0eb07cc662fd>\"\u001b[1;36m, line \u001b[1;32m1\u001b[0m\n\u001b[1;33m    a++\u001b[0m\n\u001b[1;37m       ^\u001b[0m\n\u001b[1;31mSyntaxError\u001b[0m\u001b[1;31m:\u001b[0m invalid syntax\n"
     ]
    }
   ],
   "source": [
    "a++\n",
    "# python에 ++a, a++가 없음"
   ]
  },
  {
   "cell_type": "code",
   "execution_count": 14,
   "metadata": {},
   "outputs": [
    {
     "name": "stdout",
     "output_type": "stream",
     "text": [
      "1 2\n",
      "1 2\n",
      "1 2\n"
     ]
    }
   ],
   "source": [
    "a, b, = 1, 2,\n",
    "print(a, b)\n",
    "a, b = 1, 2,\n",
    "print(a, b)\n",
    "a, b = 1, 2\n",
    "print(a, b)\n",
    "\n",
    "# 할당 방법4 실수가 잦은 방식\n",
    "# 모든 container는 이러한 할당 방식이 가능하다.\n",
    "# lhs, rhs 수가 맞야아 한다."
   ]
  },
  {
   "cell_type": "code",
   "execution_count": 15,
   "metadata": {
    "scrolled": true
   },
   "outputs": [
    {
     "ename": "ValueError",
     "evalue": "too many values to unpack (expected 2)",
     "output_type": "error",
     "traceback": [
      "\u001b[1;31m---------------------------------------------------------------------------\u001b[0m",
      "\u001b[1;31mValueError\u001b[0m                                Traceback (most recent call last)",
      "\u001b[1;32m<ipython-input-15-c080a23b01cf>\u001b[0m in \u001b[0;36m<module>\u001b[1;34m\u001b[0m\n\u001b[1;32m----> 1\u001b[1;33m \u001b[0ma\u001b[0m\u001b[1;33m,\u001b[0m \u001b[0mb\u001b[0m \u001b[1;33m=\u001b[0m \u001b[1;36m1\u001b[0m\u001b[1;33m,\u001b[0m \u001b[1;36m2\u001b[0m\u001b[1;33m,\u001b[0m \u001b[1;36m3\u001b[0m\u001b[1;33m\u001b[0m\u001b[1;33m\u001b[0m\u001b[0m\n\u001b[0m\u001b[0;32m      2\u001b[0m \u001b[1;31m# 왼쪽2개, 오른쪽3개\u001b[0m\u001b[1;33m\u001b[0m\u001b[1;33m\u001b[0m\u001b[1;33m\u001b[0m\u001b[0m\n",
      "\u001b[1;31mValueError\u001b[0m: too many values to unpack (expected 2)"
     ]
    }
   ],
   "source": [
    "a, b = 1, 2, 3\n",
    "# 왼쪽2개, 오른쪽3개"
   ]
  },
  {
   "cell_type": "code",
   "execution_count": 16,
   "metadata": {},
   "outputs": [
    {
     "ename": "ValueError",
     "evalue": "too many values to unpack (expected 1)",
     "output_type": "error",
     "traceback": [
      "\u001b[1;31m---------------------------------------------------------------------------\u001b[0m",
      "\u001b[1;31mValueError\u001b[0m                                Traceback (most recent call last)",
      "\u001b[1;32m<ipython-input-16-4dbd563ca253>\u001b[0m in \u001b[0;36m<module>\u001b[1;34m\u001b[0m\n\u001b[1;32m----> 1\u001b[1;33m \u001b[0ma\u001b[0m\u001b[1;33m,\u001b[0m \u001b[1;33m=\u001b[0m \u001b[1;36m1\u001b[0m\u001b[1;33m,\u001b[0m \u001b[1;36m2\u001b[0m\u001b[1;33m,\u001b[0m \u001b[1;36m3\u001b[0m\u001b[1;33m\u001b[0m\u001b[1;33m\u001b[0m\u001b[0m\n\u001b[0m\u001b[0;32m      2\u001b[0m \u001b[1;31m# 왼쪽1개, 오른쪽3개\u001b[0m\u001b[1;33m\u001b[0m\u001b[1;33m\u001b[0m\u001b[1;33m\u001b[0m\u001b[0m\n",
      "\u001b[1;31mValueError\u001b[0m: too many values to unpack (expected 1)"
     ]
    }
   ],
   "source": [
    "a, = 1, 2, 3\n",
    "# 왼쪽1개, 오른쪽3개"
   ]
  },
  {
   "cell_type": "code",
   "execution_count": 17,
   "metadata": {},
   "outputs": [
    {
     "name": "stdout",
     "output_type": "stream",
     "text": [
      "(1, 2, 3)\n"
     ]
    }
   ],
   "source": [
    "a = 1, 2, 3\n",
    "print(a)\n",
    "# a는 tuple이 된다!!\n",
    "# 갯수가 안맞으면 error가 나야하는데,\n",
    "# identifier가 1개일때만 tuple이 된다."
   ]
  },
  {
   "cell_type": "code",
   "execution_count": 18,
   "metadata": {},
   "outputs": [
    {
     "name": "stdout",
     "output_type": "stream",
     "text": [
      "1 <class 'int'>\n",
      "(1,) <class 'tuple'>\n"
     ]
    }
   ],
   "source": [
    "a, = 1,\n",
    "print(a, type(a))\n",
    "# 갯수가 맞아서 성립..! unpacking!!\n",
    "b = 1,\n",
    "print(b, type(b))"
   ]
  },
  {
   "cell_type": "code",
   "execution_count": 19,
   "metadata": {},
   "outputs": [
    {
     "name": "stdout",
     "output_type": "stream",
     "text": [
      "1 2\n"
     ]
    }
   ],
   "source": [
    "a, b = [1, 2]\n",
    "print(a, b)"
   ]
  },
  {
   "cell_type": "code",
   "execution_count": 20,
   "metadata": {},
   "outputs": [
    {
     "name": "stdout",
     "output_type": "stream",
     "text": [
      "1 2 3\n"
     ]
    }
   ],
   "source": [
    "a, b, c = {1, 2, 3}\n",
    "print(a, b, c)"
   ]
  },
  {
   "cell_type": "code",
   "execution_count": 21,
   "metadata": {},
   "outputs": [
    {
     "name": "stdout",
     "output_type": "stream",
     "text": [
      "{1, 2, 3}\n"
     ]
    }
   ],
   "source": [
    "s = {3, 3, 1, 2, 1, 1, 2}\n",
    "print(s)\n",
    "# python은 set을 red-black tree방식으로 보관한다. 따라서 정렬되어있다."
   ]
  },
  {
   "cell_type": "code",
   "execution_count": 22,
   "metadata": {},
   "outputs": [
    {
     "name": "stdout",
     "output_type": "stream",
     "text": [
      "아 이 린\n"
     ]
    }
   ],
   "source": [
    "a, b, c = '아이린'\n",
    "print(a, b, c)\n",
    "# string도 가능!"
   ]
  },
  {
   "cell_type": "code",
   "execution_count": 23,
   "metadata": {},
   "outputs": [
    {
     "name": "stdout",
     "output_type": "stream",
     "text": [
      "1 [2, 3, 4, 5]\n"
     ]
    }
   ],
   "source": [
    "a, *b = 1, 2, 3, 4, 5\n",
    "# 할당 방법5 == 나머지를 list의 형태로...\n",
    "print(a, b)\n",
    "# *은 나머지를 의미한다."
   ]
  },
  {
   "cell_type": "code",
   "execution_count": 24,
   "metadata": {},
   "outputs": [
    {
     "name": "stdout",
     "output_type": "stream",
     "text": [
      "[1, 2, 3] 4 5\n"
     ]
    }
   ],
   "source": [
    "*a, b, c = 1, 2, 3, 4, 5\n",
    "print(a, b, c)\n",
    "# 확정적인 것 맞추고 나머지를 다 *로 이동\n",
    "# 확정적인 것을 제외한 나머지는 크기가 가변적이라서 list를 return\n",
    "# python 입장에선 몇개가 들어올지 모름"
   ]
  },
  {
   "cell_type": "code",
   "execution_count": 25,
   "metadata": {},
   "outputs": [
    {
     "name": "stdout",
     "output_type": "stream",
     "text": [
      "['아', '이', '린', ' ', '예'] 뻐 요\n"
     ]
    }
   ],
   "source": [
    "*a, b, c = '아이린 예뻐요'\n",
    "print(a, b, c)\n",
    "# python은 문자열을 무조건 2byte 취급"
   ]
  },
  {
   "cell_type": "markdown",
   "metadata": {},
   "source": [
    "1. 그냥 할당 a = 1  \n",
    "2. chain 할당 a = b = c = 1  \n",
    "3. augmented operator a += 1\n",
    "4. a, b = 1, 2 tuple 형태 할당\n",
    "5. a, *b = 1, 2, 3, 4, 5 *할당"
   ]
  }
 ],
 "metadata": {
  "kernelspec": {
   "display_name": "Python 3",
   "language": "python",
   "name": "python3"
  },
  "language_info": {
   "codemirror_mode": {
    "name": "ipython",
    "version": 3
   },
   "file_extension": ".py",
   "mimetype": "text/x-python",
   "name": "python",
   "nbconvert_exporter": "python",
   "pygments_lexer": "ipython3",
   "version": "3.7.1"
  }
 },
 "nbformat": 4,
 "nbformat_minor": 2
}
