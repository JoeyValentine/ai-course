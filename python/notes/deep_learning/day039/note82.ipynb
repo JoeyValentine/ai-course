{
 "cells": [
  {
   "cell_type": "markdown",
   "metadata": {},
   "source": [
    "tensor board"
   ]
  },
  {
   "cell_type": "code",
   "execution_count": null,
   "metadata": {},
   "outputs": [],
   "source": [
    "feature dimension : X를 의미"
   ]
  },
  {
   "cell_type": "markdown",
   "metadata": {},
   "source": [
    "# [구글 머신러닝](https://developers.google.com/machine-learning/crash-course/framing/check-your-understanding)"
   ]
  },
  {
   "cell_type": "markdown",
   "metadata": {},
   "source": [
    "# 객관화할 수 없는 정보는 유용한 정보가 아니다. == 사람에 대한 데이터는 객관적이지 않다.\n",
    "== review데이터는 주관이 많이 들어간 데이터 == 따라서 추천시스템은 정확성이 높을 수 없다.  \n",
    "== 사람이 포함된 데이터(의도/생각)는 부정확한 경우가 많다.  "
   ]
  },
  {
   "cell_type": "code",
   "execution_count": null,
   "metadata": {},
   "outputs": [],
   "source": [
    "한 온라인 신발가게에서 사용자에게 맞춤형 신발을 추천하는 지도 ML 모델을 만들려고 합니다. 즉 이 모델에서는 철수에게 특정 신발을 추천하고 영희에게는 다른 신발을 추천합니다. 다음 중 참인 내용은 무엇일까요?\n",
    "사용자가 아주 좋아하는 신발은 유용한 라벨입니다.\n",
    "\n",
    "좋아함은 관찰 가능하고 수량화 가능한 측정항목이 아닙니다. 최선의 방법은 좋아함 대신 관찰 가능한 대리 측정항목을 검색하는 것입니다."
   ]
  },
  {
   "cell_type": "markdown",
   "metadata": {},
   "source": [
    "[편향성](https://developers.google.com/machine-learning/crash-course/fairness/video-lecture)"
   ]
  },
  {
   "cell_type": "code",
   "execution_count": null,
   "metadata": {},
   "outputs": [],
   "source": [
    "사람들이 만드는 편향  \n",
    "보고 편향\n",
    "보고 편향은 데이터 세트에 수집된 이벤트, 속성 및 결과의 빈도가 실제 빈도를 정확하게 반영하지 않을 때 나타납니다. 이 편향은 사람들이 '말할 필요도 없다고 느끼는' 일반적인 상황은 언급하지 않고 특별히 기억할 만하거나 특이한 상황만을 기록하려는 경향이 있기 때문에 발생합니다.\n",
    "\n",
    "train test split할 때 데이터가 적어서 data leakage가 일어남  \n",
    "train에서 없던 test데이터가 있음"
   ]
  },
  {
   "cell_type": "markdown",
   "metadata": {},
   "source": [
    "[생각에 관한 생각](http://book.interpark.com/product/BookDisplay.do?_method=detail&sc.saNo=001&sc.prdNo=282309161&gclid=EAIaIQobChMIl762xb6J4wIVUz5gCh3gJAb-EAYYASABEgKOzPD_BwE&product2017=true)  == 사람에 대한 데이터가 정확하지 않음  \n",
    "대니얼 카너먼 저  \n",
    "인지편향사전"
   ]
  },
  {
   "cell_type": "code",
   "execution_count": null,
   "metadata": {},
   "outputs": [],
   "source": [
    "데이터가 많으면 사기 데이터 거를 수 있다.  \n"
   ]
  },
  {
   "cell_type": "code",
   "execution_count": null,
   "metadata": {},
   "outputs": [],
   "source": [
    "정밀도 : 실제 정답중에 몇 개 맞추었나..?"
   ]
  },
  {
   "cell_type": "markdown",
   "metadata": {},
   "source": [
    "[공정성: 편향 평가](https://developers.google.com/machine-learning/crash-course/fairness/evaluating-for-bias)  \n",
    "사람의 편향을 의미 : 통계적 편향이 아님  \n",
    "\n",
    "내가 원하는 시스템에 따라서 평가 척도를 달리한다.  \n",
    "겉으로 보기에는 남자환자나 여자 환자에 대한 정보가 비슷한데 숫자가 차이 크게난다.  \n",
    "여자, 남자 비율 : 498/500, 492/500 인데, recall precision값으로 보니 차이가 심하다."
   ]
  },
  {
   "cell_type": "code",
   "execution_count": null,
   "metadata": {},
   "outputs": [],
   "source": [
    "feature layer : "
   ]
  },
  {
   "cell_type": "code",
   "execution_count": null,
   "metadata": {},
   "outputs": [],
   "source": [
    "loss최소화 시키기 위해서... == optimizer"
   ]
  },
  {
   "cell_type": "markdown",
   "metadata": {},
   "source": [
    "최적의 모델 == 일반화된 모델 + metric을 만족시킴"
   ]
  },
  {
   "cell_type": "markdown",
   "metadata": {},
   "source": [
    "최솟값으로 가는 방법 == optimizer  \n",
    "손실 줄이기: 경사하강법"
   ]
  },
  {
   "cell_type": "code",
   "execution_count": 6,
   "metadata": {},
   "outputs": [
    {
     "ename": "SyntaxError",
     "evalue": "invalid syntax (<ipython-input-6-82c9ef48f0e7>, line 1)",
     "output_type": "error",
     "traceback": [
      "\u001b[0;36m  File \u001b[0;32m\"<ipython-input-6-82c9ef48f0e7>\"\u001b[0;36m, line \u001b[0;32m1\u001b[0m\n\u001b[0;31m    Colab : 학습속도는 빠르다 but 반응속도가 조금 느림\u001b[0m\n\u001b[0m                    ^\u001b[0m\n\u001b[0;31mSyntaxError\u001b[0m\u001b[0;31m:\u001b[0m invalid syntax\n"
     ]
    }
   ],
   "source": [
    "Colab : 학습속도는 빠르다 but 반응속도가 조금 느림  "
   ]
  },
  {
   "cell_type": "markdown",
   "metadata": {},
   "source": [
    "데이터 형태에 따라서 얼마만큼 학습시킬지 감잡기 위해서 사용\n",
    "[play ground](https://playground.tensorflow.org/#activation=tanh&batchSize=10&dataset=circle&regDataset=reg-plane&learningRate=0.03&regularizationRate=0&noise=0&networkShape=4,2&seed=0.04620&showTestData=false&discretize=false&percTrainData=50&x=true&y=true&xTimesY=false&xSquared=false&ySquared=false&cosX=false&sinX=false&cosY=false&sinY=false&collectStats=false&problem=classification&initZero=false&hideText=false)"
   ]
  }
 ],
 "metadata": {
  "kernelspec": {
   "display_name": "Python 3",
   "language": "python",
   "name": "python3"
  },
  "language_info": {
   "codemirror_mode": {
    "name": "ipython",
    "version": 3
   },
   "file_extension": ".py",
   "mimetype": "text/x-python",
   "name": "python",
   "nbconvert_exporter": "python",
   "pygments_lexer": "ipython3",
   "version": "3.7.3"
  }
 },
 "nbformat": 4,
 "nbformat_minor": 2
}
