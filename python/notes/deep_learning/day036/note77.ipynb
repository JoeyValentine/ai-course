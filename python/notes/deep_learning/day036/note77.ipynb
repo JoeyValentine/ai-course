{
 "cells": [
  {
   "cell_type": "markdown",
   "metadata": {},
   "source": [
    "numpy + gpu + mlp == tensorflow  \n",
    "numpy == gpu못씀 ㄸㄹㄹ  \n",
    "\n",
    "tensor자체가 numpy기반...!\n",
    "\n",
    "tensorflow로는 기계학습 가능  "
   ]
  },
  {
   "cell_type": "markdown",
   "metadata": {},
   "source": [
    "bias 작다 == train data 랑 같다 == overfitting\n",
    "overfitting 줄이는 방법 : learning curve , validation curve, cross validation, regularization, 앙상블"
   ]
  },
  {
   "cell_type": "markdown",
   "metadata": {},
   "source": [
    "layer가 많을수록, 학습을 많이할수록 성능이 좋이지지만 overfitting문제가 일어날 수 있음  \n",
    "하지만 일부러 overfitting시키는 경우도 있음 == 서울에서만 다니는 자동차(서울만 학습)\n",
    "== 데이터 set이 변하지 않는 곳에서 사용가능"
   ]
  },
  {
   "cell_type": "markdown",
   "metadata": {},
   "source": [
    "import keras vs import tensorflow차이점\n",
    "import keras : tiano cntk, == 여러 백앤드 사용가능\n",
    "import tensorflow 에서 keras는 무조건 keras만 사용가능"
   ]
  },
  {
   "cell_type": "code",
   "execution_count": 11,
   "metadata": {},
   "outputs": [],
   "source": [
    "import tensorflow as tf"
   ]
  },
  {
   "cell_type": "markdown",
   "metadata": {},
   "source": [
    "10개의 item을 구분하는 데이터"
   ]
  },
  {
   "cell_type": "code",
   "execution_count": 12,
   "metadata": {},
   "outputs": [],
   "source": [
    "(X_train, y_train), (X_test, y_test) = tf.keras.datasets.fashion_mnist.load_data()\n",
    "# load patch make계열"
   ]
  },
  {
   "cell_type": "code",
   "execution_count": 13,
   "metadata": {
    "scrolled": true
   },
   "outputs": [
    {
     "data": {
      "text/plain": [
       "numpy.ndarray"
      ]
     },
     "execution_count": 13,
     "metadata": {},
     "output_type": "execute_result"
    }
   ],
   "source": [
    "type(X_train)"
   ]
  },
  {
   "cell_type": "code",
   "execution_count": null,
   "metadata": {},
   "outputs": [],
   "source": [
    "numpy에서 중요한 2개 shape, dtype"
   ]
  },
  {
   "cell_type": "code",
   "execution_count": 14,
   "metadata": {},
   "outputs": [
    {
     "data": {
      "text/plain": [
       "(60000, 28, 28)"
      ]
     },
     "execution_count": 14,
     "metadata": {},
     "output_type": "execute_result"
    }
   ],
   "source": [
    "X_train.shape"
   ]
  },
  {
   "cell_type": "code",
   "execution_count": 15,
   "metadata": {
    "scrolled": true
   },
   "outputs": [
    {
     "data": {
      "text/plain": [
       "dtype('uint8')"
      ]
     },
     "execution_count": 15,
     "metadata": {},
     "output_type": "execute_result"
    }
   ],
   "source": [
    "X_train.dtype"
   ]
  },
  {
   "cell_type": "code",
   "execution_count": 16,
   "metadata": {},
   "outputs": [],
   "source": [
    "import matplotlib.pyplot as plt"
   ]
  },
  {
   "cell_type": "code",
   "execution_count": 54,
   "metadata": {},
   "outputs": [
    {
     "data": {
      "text/plain": [
       "<matplotlib.image.AxesImage at 0x14af8bef0>"
      ]
     },
     "execution_count": 54,
     "metadata": {},
     "output_type": "execute_result"
    },
    {
     "data": {
      "image/png": "[encoded data removed]",
      "text/plain": [
       "<Figure size 432x288 with 1 Axes>"
      ]
     },
     "metadata": {
      "needs_background": "light"
     },
     "output_type": "display_data"
    }
   ],
   "source": [
    "plt.imshow(X_train[0][::-1,:], cmap='gray')\n",
    "# 비트맵그림은 행렬 연산으로 처리함"
   ]
  },
  {
   "cell_type": "code",
   "execution_count": 53,
   "metadata": {},
   "outputs": [
    {
     "data": {
      "text/plain": [
       "<matplotlib.image.AxesImage at 0x146e20780>"
      ]
     },
     "execution_count": 53,
     "metadata": {},
     "output_type": "execute_result"
    },
    {
     "data": {
      "image/png": "[encoded data removed]",
      "text/plain": [
       "<Figure size 432x288 with 1 Axes>"
      ]
     },
     "metadata": {
      "needs_background": "light"
     },
     "output_type": "display_data"
    }
   ],
   "source": [
    "plt.imshow(X_train[0][:,::-1], cmap='gray')"
   ]
  },
  {
   "cell_type": "code",
   "execution_count": 18,
   "metadata": {},
   "outputs": [
    {
     "data": {
      "text/plain": [
       "<matplotlib.image.AxesImage at 0x13d93f7f0>"
      ]
     },
     "execution_count": 18,
     "metadata": {},
     "output_type": "execute_result"
    },
    {
     "data": {
      "image/png": "[encoded data removed]",
      "text/plain": [
       "<Figure size 432x288 with 1 Axes>"
      ]
     },
     "metadata": {
      "needs_background": "light"
     },
     "output_type": "display_data"
    }
   ],
   "source": [
    "plt.imshow(X_train[0], cmap='gray')"
   ]
  },
  {
   "cell_type": "code",
   "execution_count": 19,
   "metadata": {},
   "outputs": [
    {
     "data": {
      "text/plain": [
       "<matplotlib.image.AxesImage at 0x122a008d0>"
      ]
     },
     "execution_count": 19,
     "metadata": {},
     "output_type": "execute_result"
    },
    {
     "data": {
      "image/png": "[encoded data removed]",
      "text/plain": [
       "<Figure size 432x288 with 1 Axes>"
      ]
     },
     "metadata": {
      "needs_background": "light"
     },
     "output_type": "display_data"
    }
   ],
   "source": [
    "plt.imshow(X_train[1], cmap='gray')"
   ]
  },
  {
   "cell_type": "markdown",
   "metadata": {},
   "source": [
    "# tensorflow에서 model불러오는 방식"
   ]
  },
  {
   "cell_type": "markdown",
   "metadata": {},
   "source": [
    "품질 향상 : 학습많이하거나 layer를 더 쌓는다.  \n",
    "    \n",
    "모델이 복잡할수록(layer가 많을수록) : 데이터 많이 필요하고 overfitting이 잘 일어남, 학습속도 느려짐   \n",
    "예측 : 행렬곱하기로 예측을 빨리한다.(학습은 느리지만 예측이 빠르다)  \n",
    "\n",
    "속도가 느리다 == optimizer를 바꾼다.  \n",
    "성능이 안좋다(안 정확하다) == normalize시킨다."
   ]
  },
  {
   "cell_type": "code",
   "execution_count": 43,
   "metadata": {},
   "outputs": [],
   "source": [
    "X_train, X_test = X_train/255., X_test/255.\n",
    "# normalize로 성능향상 가능하다.\n",
    "# 딥뉴런은 0과 1사이로 만들면 성능이 좋아진다.\n",
    "# & predict할 때도 데이터 normalize해줘야 한다.\n",
    "\n",
    "# 안하고 학습하면 성능 안좋아.."
   ]
  },
  {
   "cell_type": "code",
   "execution_count": 44,
   "metadata": {},
   "outputs": [],
   "source": [
    "model = tf.keras.models.Sequential()\n",
    "\n",
    "# scikit과 달리 import할 게 적다."
   ]
  },
  {
   "cell_type": "code",
   "execution_count": 45,
   "metadata": {
    "scrolled": true
   },
   "outputs": [
    {
     "data": {
      "text/plain": [
       "(60000, 784)"
      ]
     },
     "execution_count": 45,
     "metadata": {},
     "output_type": "execute_result"
    }
   ],
   "source": [
    "X_train.reshape(60000, -1).shape\n",
    "\n",
    "# 1차원 만드는 numpy\n",
    "# flatten : copy\n",
    "# label : view == 볼레로"
   ]
  },
  {
   "cell_type": "code",
   "execution_count": 46,
   "metadata": {},
   "outputs": [],
   "source": [
    "# scikit방식\n",
    "from tensorflow.keras.models import Sequential \n",
    "\n",
    "# 모델 만들기\n",
    "model = Sequential([\n",
    "    # input을 변형하고 싶을때만 input layer사용, 변형 안해도 되면 input layer그냥 넣는다.\n",
    "    tf.keras.layers.Flatten(input_shape=(28,28)), # 2차원 데이터 학습 못시켜서 1차원으로 만들어줌\n",
    "    tf.keras.layers.Dense(128, activation=tf.nn.relu),  # 노드 수, activation을 넣어줘야 함    \n",
    "    # 객체를 직접 전달해서 나중에 수정 가능 & 객체 타입 상속받아서 나만의 activation 만들 수 있다.\n",
    "    # activation='relu'처럼 전달 가능\n",
    "    \n",
    "    tf.keras.layers.Dense(64, activation=tf.nn.relu),  # 노드 수, activation을 넣어줘야 함    \n",
    "\n",
    "    # tf.nn.relu : gradient vanishing문제를 해결해줌\n",
    "    tf.keras.layers.Dense(10, activation=tf.nn.softmax)  # output의 수와 같게 만든다.\n",
    "])\n",
    "# layers=None : *가 아니므로, 여러개 넣어줘야 해서 list로 넣음 == layer\"s\""
   ]
  },
  {
   "cell_type": "code",
   "execution_count": 47,
   "metadata": {},
   "outputs": [],
   "source": [
    "# 전략\n",
    "model.compile(optimizer='adam', # adam default객체를 넘김 , loss를 최적화시키는 함수...?\n",
    "              loss='sparse_categorical_crossentropy',  # classification 이냐 regression이냐에 따라서 다름\n",
    "              metrics=['accuracy'])  # metrics여러개 쓸 수 있다. == S\n",
    "# loss : 실제값 예측값에 관한 함수 : "
   ]
  },
  {
   "cell_type": "code",
   "execution_count": 48,
   "metadata": {
    "scrolled": true
   },
   "outputs": [
    {
     "name": "stdout",
     "output_type": "stream",
     "text": [
      "Train on 60000 samples\n",
      "Epoch 1/100\n",
      "60000/60000 [==============================] - 3s 49us/sample - loss: 0.9005 - accuracy: 0.6710\n",
      "Epoch 2/100\n",
      "60000/60000 [==============================] - 3s 47us/sample - loss: 0.5793 - accuracy: 0.7886\n",
      "Epoch 3/100\n",
      "60000/60000 [==============================] - 3s 47us/sample - loss: 0.5210 - accuracy: 0.8127\n",
      "Epoch 4/100\n",
      "60000/60000 [==============================] - 3s 48us/sample - loss: 0.4814 - accuracy: 0.8271\n",
      "Epoch 5/100\n",
      "60000/60000 [==============================] - 3s 48us/sample - loss: 0.4551 - accuracy: 0.8371\n",
      "Epoch 6/100\n",
      "60000/60000 [==============================] - 3s 47us/sample - loss: 0.4331 - accuracy: 0.8447\n",
      "Epoch 7/100\n",
      "60000/60000 [==============================] - 3s 48us/sample - loss: 0.4174 - accuracy: 0.8495\n",
      "Epoch 8/100\n",
      "60000/60000 [==============================] - 3s 48us/sample - loss: 0.4046 - accuracy: 0.8543\n",
      "Epoch 9/100\n",
      "60000/60000 [==============================] - 3s 48us/sample - loss: 0.3941 - accuracy: 0.8590\n",
      "Epoch 10/100\n",
      "60000/60000 [==============================] - 3s 52us/sample - loss: 0.3828 - accuracy: 0.8619\n",
      "Epoch 11/100\n",
      "60000/60000 [==============================] - 3s 52us/sample - loss: 0.3743 - accuracy: 0.8652\n",
      "Epoch 12/100\n",
      "60000/60000 [==============================] - 3s 50us/sample - loss: 0.3661 - accuracy: 0.8679\n",
      "Epoch 13/100\n",
      "60000/60000 [==============================] - 3s 56us/sample - loss: 0.3589 - accuracy: 0.8702\n",
      "Epoch 14/100\n",
      "60000/60000 [==============================] - 3s 53us/sample - loss: 0.3520 - accuracy: 0.8728\n",
      "Epoch 15/100\n",
      "60000/60000 [==============================] - 3s 51us/sample - loss: 0.3451 - accuracy: 0.8759\n",
      "Epoch 16/100\n",
      "60000/60000 [==============================] - 3s 51us/sample - loss: 0.3393 - accuracy: 0.8769\n",
      "Epoch 17/100\n",
      "60000/60000 [==============================] - 3s 51us/sample - loss: 0.3341 - accuracy: 0.8783\n",
      "Epoch 18/100\n",
      "60000/60000 [==============================] - 3s 51us/sample - loss: 0.3284 - accuracy: 0.8804\n",
      "Epoch 19/100\n",
      "60000/60000 [==============================] - 3s 51us/sample - loss: 0.3241 - accuracy: 0.8821\n",
      "Epoch 20/100\n",
      "60000/60000 [==============================] - 3s 51us/sample - loss: 0.3184 - accuracy: 0.8846\n",
      "Epoch 21/100\n",
      "60000/60000 [==============================] - 3s 51us/sample - loss: 0.3136 - accuracy: 0.8859\n",
      "Epoch 22/100\n",
      "60000/60000 [==============================] - 3s 51us/sample - loss: 0.3082 - accuracy: 0.8884\n",
      "Epoch 23/100\n",
      "60000/60000 [==============================] - 3s 52us/sample - loss: 0.3058 - accuracy: 0.8887\n",
      "Epoch 24/100\n",
      "60000/60000 [==============================] - 3s 56us/sample - loss: 0.3012 - accuracy: 0.8898\n",
      "Epoch 25/100\n",
      "60000/60000 [==============================] - 3s 56us/sample - loss: 0.2962 - accuracy: 0.8910\n",
      "Epoch 26/100\n",
      "60000/60000 [==============================] - 3s 51us/sample - loss: 0.2923 - accuracy: 0.8928\n",
      "Epoch 27/100\n",
      "60000/60000 [==============================] - 3s 52us/sample - loss: 0.2891 - accuracy: 0.8943\n",
      "Epoch 28/100\n",
      "60000/60000 [==============================] - 3s 52us/sample - loss: 0.2851 - accuracy: 0.8951\n",
      "Epoch 29/100\n",
      "60000/60000 [==============================] - 3s 51us/sample - loss: 0.2821 - accuracy: 0.8963\n",
      "Epoch 30/100\n",
      "60000/60000 [==============================] - 3s 51us/sample - loss: 0.2786 - accuracy: 0.8974\n",
      "Epoch 31/100\n",
      "60000/60000 [==============================] - 3s 52us/sample - loss: 0.2754 - accuracy: 0.8982\n",
      "Epoch 32/100\n",
      "60000/60000 [==============================] - 3s 52us/sample - loss: 0.2725 - accuracy: 0.8988\n",
      "Epoch 33/100\n",
      "60000/60000 [==============================] - 3s 54us/sample - loss: 0.2693 - accuracy: 0.9007\n",
      "Epoch 34/100\n",
      "60000/60000 [==============================] - 3s 53us/sample - loss: 0.2664 - accuracy: 0.9021\n",
      "Epoch 35/100\n",
      "60000/60000 [==============================] - 3s 52us/sample - loss: 0.2631 - accuracy: 0.9018\n",
      "Epoch 36/100\n",
      "60000/60000 [==============================] - 3s 51us/sample - loss: 0.2614 - accuracy: 0.9037\n",
      "Epoch 37/100\n",
      "60000/60000 [==============================] - 3s 52us/sample - loss: 0.2575 - accuracy: 0.9045\n",
      "Epoch 38/100\n",
      "60000/60000 [==============================] - 3s 52us/sample - loss: 0.2558 - accuracy: 0.9053\n",
      "Epoch 39/100\n",
      "60000/60000 [==============================] - 3s 52us/sample - loss: 0.2527 - accuracy: 0.9063\n",
      "Epoch 40/100\n",
      "60000/60000 [==============================] - 3s 53us/sample - loss: 0.2507 - accuracy: 0.9075\n",
      "Epoch 41/100\n",
      "60000/60000 [==============================] - 3s 53us/sample - loss: 0.2483 - accuracy: 0.9081\n",
      "Epoch 42/100\n",
      "60000/60000 [==============================] - 3s 53us/sample - loss: 0.2461 - accuracy: 0.9083\n",
      "Epoch 43/100\n",
      "60000/60000 [==============================] - 3s 53us/sample - loss: 0.2436 - accuracy: 0.9093\n",
      "Epoch 44/100\n",
      "60000/60000 [==============================] - 3s 53us/sample - loss: 0.2403 - accuracy: 0.9113\n",
      "Epoch 45/100\n",
      "60000/60000 [==============================] - 3s 52us/sample - loss: 0.2389 - accuracy: 0.9118\n",
      "Epoch 46/100\n",
      "60000/60000 [==============================] - 3s 57us/sample - loss: 0.2359 - accuracy: 0.9120\n",
      "Epoch 47/100\n",
      "60000/60000 [==============================] - 3s 54us/sample - loss: 0.2333 - accuracy: 0.9135\n",
      "Epoch 48/100\n",
      "60000/60000 [==============================] - 3s 53us/sample - loss: 0.2315 - accuracy: 0.9140\n",
      "Epoch 49/100\n",
      "60000/60000 [==============================] - 3s 55us/sample - loss: 0.2294 - accuracy: 0.9158\n",
      "Epoch 50/100\n",
      "60000/60000 [==============================] - 3s 52us/sample - loss: 0.2276 - accuracy: 0.9164\n",
      "Epoch 51/100\n",
      "60000/60000 [==============================] - 3s 51us/sample - loss: 0.2249 - accuracy: 0.9177\n",
      "Epoch 52/100\n",
      "60000/60000 [==============================] - 3s 51us/sample - loss: 0.2234 - accuracy: 0.9166\n",
      "Epoch 53/100\n",
      "60000/60000 [==============================] - 3s 51us/sample - loss: 0.2220 - accuracy: 0.9176\n",
      "Epoch 54/100\n",
      "60000/60000 [==============================] - 3s 51us/sample - loss: 0.2196 - accuracy: 0.9186\n",
      "Epoch 55/100\n",
      "60000/60000 [==============================] - 3s 56us/sample - loss: 0.2175 - accuracy: 0.9193\n",
      "Epoch 56/100\n",
      "60000/60000 [==============================] - 3s 55us/sample - loss: 0.2158 - accuracy: 0.9192\n",
      "Epoch 57/100\n",
      "60000/60000 [==============================] - 3s 54us/sample - loss: 0.2124 - accuracy: 0.9210\n",
      "Epoch 58/100\n",
      "60000/60000 [==============================] - 3s 55us/sample - loss: 0.2117 - accuracy: 0.9214\n",
      "Epoch 59/100\n",
      "60000/60000 [==============================] - 3s 52us/sample - loss: 0.2099 - accuracy: 0.9224\n",
      "Epoch 60/100\n",
      "60000/60000 [==============================] - 3s 52us/sample - loss: 0.2089 - accuracy: 0.9227\n",
      "Epoch 61/100\n",
      "60000/60000 [==============================] - 3s 52us/sample - loss: 0.2070 - accuracy: 0.9225\n",
      "Epoch 62/100\n",
      "60000/60000 [==============================] - 3s 52us/sample - loss: 0.2048 - accuracy: 0.9242\n",
      "Epoch 63/100\n",
      "60000/60000 [==============================] - 3s 52us/sample - loss: 0.2026 - accuracy: 0.9251\n",
      "Epoch 64/100\n",
      "60000/60000 [==============================] - 3s 54us/sample - loss: 0.2013 - accuracy: 0.9255\n",
      "Epoch 65/100\n",
      "60000/60000 [==============================] - 3s 54us/sample - loss: 0.2002 - accuracy: 0.9242\n",
      "Epoch 66/100\n",
      "60000/60000 [==============================] - 3s 52us/sample - loss: 0.1986 - accuracy: 0.9263\n",
      "Epoch 67/100\n",
      "60000/60000 [==============================] - 3s 54us/sample - loss: 0.1962 - accuracy: 0.9277\n",
      "Epoch 68/100\n",
      "60000/60000 [==============================] - 3s 53us/sample - loss: 0.1952 - accuracy: 0.9287\n",
      "Epoch 69/100\n",
      "60000/60000 [==============================] - 3s 57us/sample - loss: 0.1929 - accuracy: 0.9283\n",
      "Epoch 70/100\n",
      "60000/60000 [==============================] - 4s 59us/sample - loss: 0.1915 - accuracy: 0.9282\n",
      "Epoch 71/100\n",
      "60000/60000 [==============================] - 3s 56us/sample - loss: 0.1900 - accuracy: 0.9293\n",
      "Epoch 72/100\n",
      "60000/60000 [==============================] - 3s 57us/sample - loss: 0.1897 - accuracy: 0.9291\n",
      "Epoch 73/100\n",
      "60000/60000 [==============================] - 3s 58us/sample - loss: 0.1860 - accuracy: 0.9314\n",
      "Epoch 74/100\n",
      "60000/60000 [==============================] - 3s 56us/sample - loss: 0.1861 - accuracy: 0.9309\n",
      "Epoch 75/100\n",
      "60000/60000 [==============================] - 3s 57us/sample - loss: 0.1830 - accuracy: 0.9320\n",
      "Epoch 76/100\n"
     ]
    },
    {
     "name": "stdout",
     "output_type": "stream",
     "text": [
      "60000/60000 [==============================] - 3s 56us/sample - loss: 0.1824 - accuracy: 0.9326\n",
      "Epoch 77/100\n",
      "60000/60000 [==============================] - 3s 49us/sample - loss: 0.1813 - accuracy: 0.9320\n",
      "Epoch 78/100\n",
      "60000/60000 [==============================] - 3s 50us/sample - loss: 0.1786 - accuracy: 0.9335\n",
      "Epoch 79/100\n",
      "60000/60000 [==============================] - 3s 50us/sample - loss: 0.1794 - accuracy: 0.9335\n",
      "Epoch 80/100\n",
      "60000/60000 [==============================] - 3s 50us/sample - loss: 0.1767 - accuracy: 0.9341\n",
      "Epoch 81/100\n",
      "60000/60000 [==============================] - 3s 53us/sample - loss: 0.1748 - accuracy: 0.9354\n",
      "Epoch 82/100\n",
      "60000/60000 [==============================] - 3s 50us/sample - loss: 0.1744 - accuracy: 0.9354\n",
      "Epoch 83/100\n",
      "60000/60000 [==============================] - 3s 50us/sample - loss: 0.1741 - accuracy: 0.9355\n",
      "Epoch 84/100\n",
      "60000/60000 [==============================] - 3s 51us/sample - loss: 0.1717 - accuracy: 0.9359\n",
      "Epoch 85/100\n",
      "60000/60000 [==============================] - 3s 50us/sample - loss: 0.1710 - accuracy: 0.9362\n",
      "Epoch 86/100\n",
      "60000/60000 [==============================] - 3s 50us/sample - loss: 0.1695 - accuracy: 0.9376\n",
      "Epoch 87/100\n",
      "60000/60000 [==============================] - 3s 50us/sample - loss: 0.1676 - accuracy: 0.9380\n",
      "Epoch 88/100\n",
      "60000/60000 [==============================] - 3s 50us/sample - loss: 0.1664 - accuracy: 0.9379\n",
      "Epoch 89/100\n",
      "60000/60000 [==============================] - 3s 51us/sample - loss: 0.1648 - accuracy: 0.9389\n",
      "Epoch 90/100\n",
      "60000/60000 [==============================] - 3s 51us/sample - loss: 0.1630 - accuracy: 0.9387\n",
      "Epoch 91/100\n",
      "60000/60000 [==============================] - 3s 52us/sample - loss: 0.1623 - accuracy: 0.9391\n",
      "Epoch 92/100\n",
      "60000/60000 [==============================] - 3s 52us/sample - loss: 0.1621 - accuracy: 0.9402\n",
      "Epoch 93/100\n",
      "60000/60000 [==============================] - 3s 52us/sample - loss: 0.1597 - accuracy: 0.9406\n",
      "Epoch 94/100\n",
      "60000/60000 [==============================] - 3s 53us/sample - loss: 0.1584 - accuracy: 0.9417\n",
      "Epoch 95/100\n",
      "60000/60000 [==============================] - 3s 51us/sample - loss: 0.1583 - accuracy: 0.9415\n",
      "Epoch 96/100\n",
      "60000/60000 [==============================] - 3s 50us/sample - loss: 0.1569 - accuracy: 0.9419\n",
      "Epoch 97/100\n",
      "60000/60000 [==============================] - 3s 51us/sample - loss: 0.1536 - accuracy: 0.9430\n",
      "Epoch 98/100\n",
      "60000/60000 [==============================] - 3s 54us/sample - loss: 0.1543 - accuracy: 0.9431\n",
      "Epoch 99/100\n",
      "60000/60000 [==============================] - 3s 54us/sample - loss: 0.1535 - accuracy: 0.9423\n",
      "Epoch 100/100\n",
      "60000/60000 [==============================] - 3s 53us/sample - loss: 0.1524 - accuracy: 0.9439\n"
     ]
    },
    {
     "data": {
      "text/plain": [
       "<tensorflow.python.keras.callbacks.History at 0x147e2d400>"
      ]
     },
     "execution_count": 48,
     "metadata": {},
     "output_type": "execute_result"
    }
   ],
   "source": [
    "model.fit(X_train, y_train, epochs=100)\n",
    "# 학습 속도가 느리면 optimizer를 바꾼다.\n",
    "\n",
    "# overfitting기준이 뭐가될까...?"
   ]
  },
  {
   "cell_type": "code",
   "execution_count": 49,
   "metadata": {
    "scrolled": true
   },
   "outputs": [
    {
     "name": "stdout",
     "output_type": "stream",
     "text": [
      "10000/10000 [==============================] - 0s 33us/sample - loss: 0.3875 - accuracy: 0.8817\n"
     ]
    }
   ],
   "source": [
    "loss, acc = model.evaluate(X_test, y_test)"
   ]
  },
  {
   "cell_type": "code",
   "execution_count": 51,
   "metadata": {},
   "outputs": [
    {
     "data": {
      "text/plain": [
       "(0.38753121821880343, 0.8817)"
      ]
     },
     "execution_count": 51,
     "metadata": {},
     "output_type": "execute_result"
    }
   ],
   "source": [
    "loss, acc"
   ]
  },
  {
   "cell_type": "code",
   "execution_count": 41,
   "metadata": {},
   "outputs": [
    {
     "name": "stdout",
     "output_type": "stream",
     "text": [
      "Model: \"sequential_4\"\n",
      "_________________________________________________________________\n",
      "Layer (type)                 Output Shape              Param #   \n",
      "=================================================================\n",
      "flatten_2 (Flatten)          (None, 784)               0         \n",
      "_________________________________________________________________\n",
      "dense_4 (Dense)              (None, 128)               100480    \n",
      "_________________________________________________________________\n",
      "dense_5 (Dense)              (None, 10)                1290      \n",
      "=================================================================\n",
      "Total params: 101,770\n",
      "Trainable params: 101,770\n",
      "Non-trainable params: 0\n",
      "_________________________________________________________________\n"
     ]
    }
   ],
   "source": [
    "model.summary()"
   ]
  }
 ],
 "metadata": {
  "kernelspec": {
   "display_name": "Python 3",
   "language": "python",
   "name": "python3"
  },
  "language_info": {
   "codemirror_mode": {
    "name": "ipython",
    "version": 3
   },
   "file_extension": ".py",
   "mimetype": "text/x-python",
   "name": "python",
   "nbconvert_exporter": "python",
   "pygments_lexer": "ipython3",
   "version": "3.7.3"
  }
 },
 "nbformat": 4,
 "nbformat_minor": 2
}
