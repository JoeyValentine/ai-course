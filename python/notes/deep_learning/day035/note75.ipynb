{
 "cells": [
  {
   "cell_type": "markdown",
   "metadata": {},
   "source": [
    "기존에 neural network layer가 많은게 deep nueral  \n",
    "\n",
    "딥러닝은 인공지능의 일부이다.  \n",
    "인공지능 >= 머신러닝 >= 딥러닝 (집합관계)"
   ]
  },
  {
   "cell_type": "markdown",
   "metadata": {},
   "source": [
    "데이터를 machine learning보다 덜 가공해도 된다. 대신 학습시간이 오래 걸린다...!     \n",
    "비정형 데이터 & 숫자 데이터에 대해서는 딥러닝이 약하다. == 머신러닝이 낫다.  \n",
    "딥러닝이 모든 것에 좋은게 아니다. == no free lunch  \n",
    "\n",
    "이미지는 데이터 수집하기 어렵다. 자연어는 수집하기 쉽다..!(이미지 == 저작권문제가 많음)"
   ]
  },
  {
   "cell_type": "markdown",
   "metadata": {},
   "source": [
    "deep learning은 데이터가 많아지면 성능이 좋아진다.  == but, 데이터 확보가 어렵다 & 학습 속도가 느리다.  \n",
    "[Why deep learning](https://machinelearningmastery.com/what-is-deep-learning/)"
   ]
  },
  {
   "cell_type": "markdown",
   "metadata": {},
   "source": [
    "but machine learning == 중복 데이터는 학습효과 낮다. 없애는 기법 사용하기도 함   \n",
    "하지만 반복된 데이터는 데이터가 정답임을 알 수도 있다.  \n",
    "[duplicates](https://stackoverflow.com/questions/34935940/are-duplicates-useful-in-data-sets)  반복된 데이터는 데이터의 분포를 나타낸다. 따라서 데이터를 없애지 말자  \n",
    "[imbalanced data](https://www.svds.com/learning-imbalanced-classes/)"
   ]
  },
  {
   "cell_type": "markdown",
   "metadata": {},
   "source": [
    "perceptron 뇌를 흉내냄  "
   ]
  },
  {
   "cell_type": "markdown",
   "metadata": {
    "scrolled": true
   },
   "source": [
    "특정 값이 넘어가면 값을 전달  \n",
    "임의로 계수를 정함 == 데이터가 많으면 미세조정 가능하다  \n",
    "초기값, \n",
    "and or gate를 모방함  "
   ]
  },
  {
   "cell_type": "markdown",
   "metadata": {},
   "source": [
    "배운 것 중에서 linear는 perceptron, logisticRegression만 linear"
   ]
  },
  {
   "cell_type": "markdown",
   "metadata": {},
   "source": [
    "perceptron는 linear만 == non linear  \n",
    "multi layer perceptron == deep learning  \n",
    "과거에는 overfitting잘 일어남, 학습속도 떨어짐"
   ]
  },
  {
   "cell_type": "code",
   "execution_count": 3,
   "metadata": {
    "scrolled": true
   },
   "outputs": [],
   "source": [
    "import seaborn as sns"
   ]
  },
  {
   "cell_type": "code",
   "execution_count": 4,
   "metadata": {},
   "outputs": [],
   "source": [
    "iris = sns.load_dataset('iris')"
   ]
  },
  {
   "cell_type": "code",
   "execution_count": 5,
   "metadata": {},
   "outputs": [],
   "source": [
    "from sklearn.linear_model import Perceptron"
   ]
  },
  {
   "cell_type": "code",
   "execution_count": 6,
   "metadata": {},
   "outputs": [],
   "source": [
    "p = Perceptron()"
   ]
  },
  {
   "cell_type": "code",
   "execution_count": 7,
   "metadata": {
    "scrolled": true
   },
   "outputs": [
    {
     "data": {
      "text/plain": [
       "Perceptron(alpha=0.0001, class_weight=None, early_stopping=False, eta0=1.0,\n",
       "           fit_intercept=True, max_iter=1000, n_iter_no_change=5, n_jobs=None,\n",
       "           penalty=None, random_state=0, shuffle=True, tol=0.001,\n",
       "           validation_fraction=0.1, verbose=0, warm_start=False)"
      ]
     },
     "execution_count": 7,
     "metadata": {},
     "output_type": "execute_result"
    }
   ],
   "source": [
    "p.fit(iris.iloc[:,:-1], iris.iloc[:,-1])\n",
    "# 데이터가 많거나 iter많이 하면 정답률 증가...!\n",
    "# 근데 overfitting 가능성이 있어서 early_stopping한다. and 학습하기 어렵다. == 속도가 느리다"
   ]
  },
  {
   "cell_type": "code",
   "execution_count": 8,
   "metadata": {
    "scrolled": true
   },
   "outputs": [
    {
     "data": {
      "text/plain": [
       "{'loss': 'perceptron',\n",
       " 'penalty': None,\n",
       " 'learning_rate': 'constant',\n",
       " 'epsilon': 0.1,\n",
       " 'alpha': 0.0001,\n",
       " 'C': 1.0,\n",
       " 'l1_ratio': 0,\n",
       " 'fit_intercept': True,\n",
       " 'shuffle': True,\n",
       " 'random_state': 0,\n",
       " 'verbose': 0,\n",
       " 'eta0': 1.0,\n",
       " 'power_t': 0.5,\n",
       " 'early_stopping': False,\n",
       " 'validation_fraction': 0.1,\n",
       " 'n_iter_no_change': 5,\n",
       " 'warm_start': False,\n",
       " 'average': False,\n",
       " 'max_iter': 1000,\n",
       " 'tol': 0.001,\n",
       " 'class_weight': None,\n",
       " 'n_jobs': None,\n",
       " 'coef_': array([[  1.9,   6. ,  -8.8,  -3.9],\n",
       "        [ 18.7, -27.6,  11.2, -24.1],\n",
       "        [-37.4, -29.2,  52.6,  54.5]]),\n",
       " 'intercept_': array([  1.,  16., -22.]),\n",
       " 't_': 2551.0,\n",
       " 'classes_': array(['setosa', 'versicolor', 'virginica'], dtype='<U10'),\n",
       " '_expanded_class_weight': array([1., 1., 1.]),\n",
       " 'loss_function_': <sklearn.linear_model.sgd_fast.Hinge at 0x1292f9a10>,\n",
       " 'n_iter_': 17}"
      ]
     },
     "execution_count": 8,
     "metadata": {},
     "output_type": "execute_result"
    }
   ],
   "source": [
    "vars(p)\n",
    "# loss함수를 최소화하는게 목적 == linear algorithm\n",
    "\n",
    "# non linear가 더 많다...!"
   ]
  },
  {
   "cell_type": "markdown",
   "metadata": {},
   "source": [
    "linear 2층 쌓아서 non linear가 됨...!"
   ]
  },
  {
   "cell_type": "markdown",
   "metadata": {},
   "source": [
    "뉴럴 network는 4가지 회로를 모방 가능해서  \n",
    "컴퓨터를 모방할 수 있다."
   ]
  },
  {
   "cell_type": "markdown",
   "metadata": {},
   "source": [
    "model을 node와 edge로 표현하는 방식 == graphical model"
   ]
  },
  {
   "cell_type": "markdown",
   "metadata": {},
   "source": [
    "node수와 layer를 어떻게 배치하느냐에 따라서 성능이 바뀐다."
   ]
  },
  {
   "cell_type": "markdown",
   "metadata": {},
   "source": [
    "input layer빼고 표현하는 방식이 있다.  \n",
    "hidden layer수로 표현하는"
   ]
  },
  {
   "cell_type": "markdown",
   "metadata": {},
   "source": [
    "feed forward nueral network  \n",
    "activation때문에 nonlinear됨  \n",
    "gradient descent방식으로 값을 구하는게 학습한다고 한다.  "
   ]
  },
  {
   "cell_type": "markdown",
   "metadata": {},
   "source": [
    "공식 tensorflow사이트  \n",
    "tutorial : 기본기  \n",
    "guide  : 상세설명"
   ]
  },
  {
   "cell_type": "code",
   "execution_count": null,
   "metadata": {},
   "outputs": [],
   "source": [
    "!pip3 install tensorflow\n",
    "# default로 최신버전 설치 : 알파베타버전 말고 최신버전을 설치해준다."
   ]
  },
  {
   "cell_type": "code",
   "execution_count": 5,
   "metadata": {
    "scrolled": true
   },
   "outputs": [
    {
     "name": "stdout",
     "output_type": "stream",
     "text": [
      "Collecting tensorflow==2\n",
      "\u001b[31m  ERROR: Could not find a version that satisfies the requirement tensorflow==2 (from versions: 1.13.0rc1, 1.13.0rc2, 1.13.1, 1.14.0rc0, 1.14.0rc1, 1.14.0, 2.0.0a0, 2.0.0b0, 2.0.0b1)\u001b[0m\n",
      "\u001b[31mERROR: No matching distribution found for tensorflow==2\u001b[0m\n"
     ]
    }
   ],
   "source": [
    "!pip3 install tensorflow==2  # cpu 사용한다. gpu버전은 tensorflow-gpu으로 설치해야한다.\n",
    "# pip기능 : == 특정 버전 설치 가능\n",
    "\n",
    "# 버전을 명확히 명시해줘야 한다."
   ]
  },
  {
   "cell_type": "code",
   "execution_count": null,
   "metadata": {},
   "outputs": [],
   "source": [
    "!pip3 install tensorflow==2.0.0b1"
   ]
  },
  {
   "cell_type": "markdown",
   "metadata": {},
   "source": [
    "gpu버전은 nvidia 그래픽카드만 가능"
   ]
  },
  {
   "cell_type": "code",
   "execution_count": null,
   "metadata": {},
   "outputs": [],
   "source": [
    "nueral network중에서 깊은거를 deep neural"
   ]
  }
 ],
 "metadata": {
  "kernelspec": {
   "display_name": "Python 3",
   "language": "python",
   "name": "python3"
  },
  "language_info": {
   "codemirror_mode": {
    "name": "ipython",
    "version": 3
   },
   "file_extension": ".py",
   "mimetype": "text/x-python",
   "name": "python",
   "nbconvert_exporter": "python",
   "pygments_lexer": "ipython3",
   "version": "3.7.3"
  }
 },
 "nbformat": 4,
 "nbformat_minor": 2
}
