{
 "cells": [
  {
   "cell_type": "markdown",
   "metadata": {},
   "source": [
    "# Analysis of the KNNBasic algorithm\n",
    "\n",
    "In this notebook, we will run a basic neighborhood algorithm on the movielens dataset, dump the results, and use pandas to make some data analysis."
   ]
  },
  {
   "cell_type": "markdown",
   "metadata": {},
   "source": [
    "1. 데이터 불러옴\n",
    "2. train test split, 근데 surprise엔 없어서 fold써야 함\n",
    "3. 알고리즘 import, 인스턴스화\n",
    "4. fit / test "
   ]
  },
  {
   "cell_type": "code",
   "execution_count": 2,
   "metadata": {},
   "outputs": [],
   "source": [
    "# from __future == python2에서만 사용\n",
    "import pickle  # 모델 저장 안하면 매 번 학습해야 한다. vars에 저장된 값을 저장시킴\n",
    "\n",
    "import pandas as pd\n",
    "\n",
    "from surprise import KNNBasic\n",
    "from surprise import Dataset                                                     \n",
    "from surprise import dump\n",
    "from surprise.accuracy import rmse"
   ]
  },
  {
   "cell_type": "code",
   "execution_count": 3,
   "metadata": {
    "scrolled": true
   },
   "outputs": [
    {
     "name": "stdout",
     "output_type": "stream",
     "text": [
      "Dataset ml-100k could not be found. Do you want to download it? [Y/n] Y\n",
      "Trying to download dataset from http://files.grouplens.org/datasets/movielens/ml-100k.zip...\n",
      "Done! Dataset ml-100k has been saved to /Users/joey/.surprise_data/ml-100k\n"
     ]
    }
   ],
   "source": [
    "# 파일읽기 pandas로만..!\n",
    "\n",
    "# data불러오기\n",
    "data = Dataset.load_builtin('ml-100k')\n",
    "# 보통 tidy data와 형태가 다르다.\n",
    "\n",
    "# pandas data-frame으로부터 읽기\n",
    "# data = Dataset.load_from_df()"
   ]
  },
  {
   "cell_type": "code",
   "execution_count": 4,
   "metadata": {
    "scrolled": true
   },
   "outputs": [
    {
     "data": {
      "text/plain": [
       "<generator object Dataset.folds at 0x11ba09390>"
      ]
     },
     "execution_count": 4,
     "metadata": {},
     "output_type": "execute_result"
    }
   ],
   "source": [
    "data.folds()\n",
    "# scikit에서 train test split와 같은 역할\n",
    "# train data, test data로 쪼개짐\n",
    "# 큰 데이터에서 효율적으로 사용 가능하므로 generator사용함\n",
    "\n",
    "# option이 없음..! 알아서 split해줌"
   ]
  },
  {
   "cell_type": "code",
   "execution_count": 5,
   "metadata": {
    "scrolled": true
   },
   "outputs": [
    {
     "name": "stderr",
     "output_type": "stream",
     "text": [
      "/Library/Frameworks/Python.framework/Versions/3.7/lib/python3.7/site-packages/surprise/dataset.py:193: UserWarning: Using data.split() or using load_from_folds() without using a CV iterator is now deprecated. \n",
      "  UserWarning)\n"
     ]
    },
    {
     "name": "stdout",
     "output_type": "stream",
     "text": [
      "<surprise.trainset.Trainset object at 0x10ec304e0>\n",
      "<surprise.trainset.Trainset object at 0x10ec30828>\n",
      "<surprise.trainset.Trainset object at 0x10ec304e0>\n",
      "<surprise.trainset.Trainset object at 0x11d45c9e8>\n",
      "<surprise.trainset.Trainset object at 0x10bae7588>\n"
     ]
    }
   ],
   "source": [
    "for train, test in data.folds():\n",
    "    print(train)\n",
    "# 5조각으로 나눔"
   ]
  },
  {
   "cell_type": "code",
   "execution_count": 16,
   "metadata": {},
   "outputs": [],
   "source": [
    "from surprise import KNNBasic  # collaborative filter : 나하고 가장 가까운 사람의 과거와 나의 과거를 통해서 추천해주는 알고리즘\n",
    "from surprise import SVD"
   ]
  },
  {
   "cell_type": "code",
   "execution_count": 17,
   "metadata": {},
   "outputs": [],
   "source": [
    "algo = KNNBasic()\n",
    "svd = SVD()  # netflix에서 쓰는 알고리즘 : 성능 좋다."
   ]
  },
  {
   "cell_type": "code",
   "execution_count": 14,
   "metadata": {},
   "outputs": [],
   "source": [
    "from surprise.accuracy import rmse  # root mean square error"
   ]
  },
  {
   "cell_type": "code",
   "execution_count": 19,
   "metadata": {
    "scrolled": false
   },
   "outputs": [
    {
     "name": "stdout",
     "output_type": "stream",
     "text": [
      "Computing the msd similarity matrix...\n",
      "Done computing similarity matrix.\n",
      "RMSE: 0.9752\n",
      "RMSE: 0.9354\n",
      "Computing the msd similarity matrix...\n",
      "Done computing similarity matrix.\n",
      "RMSE: 0.9734\n",
      "RMSE: 0.9279\n",
      "Computing the msd similarity matrix...\n",
      "Done computing similarity matrix.\n",
      "RMSE: 0.9843\n",
      "RMSE: 0.9414\n",
      "Computing the msd similarity matrix...\n",
      "Done computing similarity matrix.\n",
      "RMSE: 0.9769\n",
      "RMSE: 0.9321\n",
      "Computing the msd similarity matrix...\n",
      "Done computing similarity matrix.\n",
      "RMSE: 0.9845\n",
      "RMSE: 0.9425\n"
     ]
    }
   ],
   "source": [
    "for train, test in data.folds():\n",
    "    algo.fit(train) \n",
    "    svd.fit(train)\n",
    "    test_ = algo.test(test)  # surprise에는 score가 없지만 test가 있다.\n",
    "    test_svd = svd.test(test)\n",
    "    rmse(test_)  # 작으면 작을수록 좋다. 정확도랑 다른 것 같다.\n",
    "    rmse(test_svd)\n",
    "    # rmse옵션에서 : verboase : 밑에 로그를 보여주는 옵션\n",
    "    \n",
    "# 학습시키는 데이터가 많을수록 좋다. 하지만 overfitting의 문제가 있을수도 있다. learning curve확인해보기\n",
    "# 하나의 모델에 데이터 계속 넣어서 계속 학습시킴 == 모델이 하나임\n",
    "# 다시 처음부터 학습시킬 필요가 없다.\n",
    "\n",
    "# 학습시키는 방식\n",
    "# batch방식 : 일정량 쌓이면 학습시킴\n",
    "# online방식 : 데이터 들어올 때마다 학습    \n",
    "    \n",
    "# model은 현실에 대한 단순화하기 위해서 가정을 해야 한다.\n",
    "# 모델에 대한 정확도는 assumption에 예민함... 오차율 영향이 많음  == 불확실성이 커짐 \n",
    "# == 가정이 틀릴 가능성이 있다, 불확실성을 처리하기 위해서 데이터를 가공한다. == outlier 제거 & normalization해줘야 함\n",
    "# 데이터가 정답이라는 가정이 있음 하지만 rating데이터는 정답이 없다(게다가 주관적). == overfitting 사실을 확인하기 어렵다.\n",
    "# rating 데이터가 정확하다는 가정 하에 모델을 만듦 : 사실은 주관적이지만... (모델은 가정하에 만든다.)\n",
    "# uncertainty principle : 불확정성 원리\n",
    "# 불확정성 원리를 최소화하기 위해서 확률을 사용함\n",
    "\n",
    "# 데이터가 그나마 객관적이라는 증거를 보여줘야 함 == pandas로 기초통계분석을 통해서...  \n",
    "# 일부러 평점테러하는 사람 & 평점 짜게주는 사람이 있어서 outlier 제거 & normalization해줘야 함\n",
    "\n",
    "# 의료예측과 달리 추천 시스템은 틀려도 괜찮음..! == 정확도를 안따짐 == 애초에 정확도가 높을 수가 없다.\n",
    "\n",
    "# 데이터에 외부 영향이 많을 때 예측하는 거 어려움...! \n",
    "# iris data는 외부 영향을 덜 받아서 예측 잘됨 & 객관적인 데이터\n",
    "# 외부 영향을 줄이기 위해서 데이터를 많이 모음\n",
    "\n",
    "# 데이터의 불확실성이 크기 때문에 정확도만 높다고 알고리즘을 선택하면 안된다. svd정확도가 높구만..!\n",
    "# 정확도를 객관화 할 수 없기 때문이다.\n",
    "\n",
    "# 불확실성이 크기 때문에 hyper-parameter를 정하는 결정권자가 있어야 한다.\n",
    "\n",
    "# 불확실한 데이터는 예측할 가능성이 낮다.\n",
    "# 영상 데이터는 덜 불확실한데, labeling이 불확실한 요인"
   ]
  },
  {
   "cell_type": "code",
   "execution_count": null,
   "metadata": {},
   "outputs": [],
   "source": [
    "# dump사용해서 알고리즘하고 모델을 저장한다."
   ]
  },
  {
   "cell_type": "code",
   "execution_count": 8,
   "metadata": {},
   "outputs": [
    {
     "name": "stdout",
     "output_type": "stream",
     "text": [
      "Computing the msd similarity matrix...\n",
      "Done computing similarity matrix.\n",
      "RMSE: 0.9889\n"
     ]
    }
   ],
   "source": [
    "# 데이터 불러온 다음에 train test split해야 함\n",
    "\n",
    "# We'll use a basic nearest neighbor approach, where similarities are computed\n",
    "# between users.\n",
    "algo = KNNBasic()                                                       \n",
    "\n",
    "for trainset, testset in data.folds(): \n",
    "    algo.train(trainset)                             \n",
    "    predictions = algo.test(testset)\n",
    "    rmse(predictions)\n",
    "                                                                               \n",
    "    dump.dump('./dump_file', predictions, algo)"
   ]
  },
  {
   "cell_type": "code",
   "execution_count": 10,
   "metadata": {},
   "outputs": [],
   "source": [
    "# The dump has been saved and we can now use it whenever we want.\n",
    "# Let's load it and see what we can do\n",
    "predictions, algo = dump.load('./dump_file')"
   ]
  },
  {
   "cell_type": "code",
   "execution_count": 12,
   "metadata": {},
   "outputs": [
    {
     "name": "stdout",
     "output_type": "stream",
     "text": [
      "algo: KNNBasic, k = 40, min_k = 1\n"
     ]
    }
   ],
   "source": [
    "trainset = algo.trainset\n",
    "print('algo: {0}, k = {1}, min_k = {2}'.format(algo.__class__.__name__, algo.k, algo.min_k))"
   ]
  },
  {
   "cell_type": "code",
   "execution_count": 13,
   "metadata": {},
   "outputs": [],
   "source": [
    "# Let's build a pandas dataframe with all the predictions\n",
    "\n",
    "def get_Iu(uid):\n",
    "    \"\"\"Return the number of items rated by given user\n",
    "    \n",
    "    Args:\n",
    "        uid: The raw id of the user.\n",
    "    Returns:\n",
    "        The number of items rated by the user.\n",
    "    \"\"\"\n",
    "    \n",
    "    try:\n",
    "        return len(trainset.ur[trainset.to_inner_uid(uid)])\n",
    "    except ValueError:  # user was not part of the trainset\n",
    "        return 0\n",
    "    \n",
    "def get_Ui(iid):\n",
    "    \"\"\"Return the number of users that have rated given item\n",
    "    \n",
    "    Args:\n",
    "        iid: The raw id of the item.\n",
    "    Returns:\n",
    "        The number of users that have rated the item.\n",
    "    \"\"\"\n",
    "    \n",
    "    try:\n",
    "        return len(trainset.ir[trainset.to_inner_iid(iid)])\n",
    "    except ValueError:  # item was not part of the trainset\n",
    "        return 0\n",
    "\n",
    "df = pd.DataFrame(predictions, columns=['uid', 'iid', 'rui', 'est', 'details'])    \n",
    "df['Iu'] = df.uid.apply(get_Iu)\n",
    "df['Ui'] = df.iid.apply(get_Ui)\n",
    "df['err'] = abs(df.est - df.rui)"
   ]
  },
  {
   "cell_type": "code",
   "execution_count": 14,
   "metadata": {},
   "outputs": [
    {
     "data": {
      "text/html": [
       "<div>\n",
       "<table border=\"1\" class=\"dataframe\">\n",
       "  <thead>\n",
       "    <tr style=\"text-align: right;\">\n",
       "      <th></th>\n",
       "      <th>uid</th>\n",
       "      <th>iid</th>\n",
       "      <th>rui</th>\n",
       "      <th>est</th>\n",
       "      <th>details</th>\n",
       "      <th>Iu</th>\n",
       "      <th>Ui</th>\n",
       "      <th>err</th>\n",
       "    </tr>\n",
       "  </thead>\n",
       "  <tbody>\n",
       "    <tr>\n",
       "      <th>0</th>\n",
       "      <td>1</td>\n",
       "      <td>6</td>\n",
       "      <td>5.0</td>\n",
       "      <td>3.468613</td>\n",
       "      <td>{'actual_k': 20, 'was_impossible': False}</td>\n",
       "      <td>135</td>\n",
       "      <td>20</td>\n",
       "      <td>1.531387</td>\n",
       "    </tr>\n",
       "    <tr>\n",
       "      <th>1</th>\n",
       "      <td>1</td>\n",
       "      <td>10</td>\n",
       "      <td>3.0</td>\n",
       "      <td>3.866290</td>\n",
       "      <td>{'actual_k': 40, 'was_impossible': False}</td>\n",
       "      <td>135</td>\n",
       "      <td>73</td>\n",
       "      <td>0.866290</td>\n",
       "    </tr>\n",
       "    <tr>\n",
       "      <th>2</th>\n",
       "      <td>1</td>\n",
       "      <td>12</td>\n",
       "      <td>5.0</td>\n",
       "      <td>4.538194</td>\n",
       "      <td>{'actual_k': 40, 'was_impossible': False}</td>\n",
       "      <td>135</td>\n",
       "      <td>211</td>\n",
       "      <td>0.461806</td>\n",
       "    </tr>\n",
       "    <tr>\n",
       "      <th>3</th>\n",
       "      <td>1</td>\n",
       "      <td>14</td>\n",
       "      <td>5.0</td>\n",
       "      <td>4.235741</td>\n",
       "      <td>{'actual_k': 40, 'was_impossible': False}</td>\n",
       "      <td>135</td>\n",
       "      <td>140</td>\n",
       "      <td>0.764259</td>\n",
       "    </tr>\n",
       "    <tr>\n",
       "      <th>4</th>\n",
       "      <td>1</td>\n",
       "      <td>17</td>\n",
       "      <td>3.0</td>\n",
       "      <td>3.228002</td>\n",
       "      <td>{'actual_k': 40, 'was_impossible': False}</td>\n",
       "      <td>135</td>\n",
       "      <td>72</td>\n",
       "      <td>0.228002</td>\n",
       "    </tr>\n",
       "  </tbody>\n",
       "</table>\n",
       "</div>"
      ],
      "text/plain": [
       "  uid iid  rui       est                                    details   Iu   Ui  \\\n",
       "0   1   6  5.0  3.468613  {'actual_k': 20, 'was_impossible': False}  135   20   \n",
       "1   1  10  3.0  3.866290  {'actual_k': 40, 'was_impossible': False}  135   73   \n",
       "2   1  12  5.0  4.538194  {'actual_k': 40, 'was_impossible': False}  135  211   \n",
       "3   1  14  5.0  4.235741  {'actual_k': 40, 'was_impossible': False}  135  140   \n",
       "4   1  17  3.0  3.228002  {'actual_k': 40, 'was_impossible': False}  135   72   \n",
       "\n",
       "        err  \n",
       "0  1.531387  \n",
       "1  0.866290  \n",
       "2  0.461806  \n",
       "3  0.764259  \n",
       "4  0.228002  "
      ]
     },
     "execution_count": 14,
     "metadata": {},
     "output_type": "execute_result"
    }
   ],
   "source": [
    "df.head()"
   ]
  },
  {
   "cell_type": "code",
   "execution_count": 15,
   "metadata": {},
   "outputs": [],
   "source": [
    "best_predictions = df.sort_values(by='err')[:10]\n",
    "worst_predictions = df.sort_values(by='err')[-10:]"
   ]
  },
  {
   "cell_type": "code",
   "execution_count": 16,
   "metadata": {
    "scrolled": true
   },
   "outputs": [
    {
     "data": {
      "text/html": [
       "<div>\n",
       "<table border=\"1\" class=\"dataframe\">\n",
       "  <thead>\n",
       "    <tr style=\"text-align: right;\">\n",
       "      <th></th>\n",
       "      <th>uid</th>\n",
       "      <th>iid</th>\n",
       "      <th>rui</th>\n",
       "      <th>est</th>\n",
       "      <th>details</th>\n",
       "      <th>Iu</th>\n",
       "      <th>Ui</th>\n",
       "      <th>err</th>\n",
       "    </tr>\n",
       "  </thead>\n",
       "  <tbody>\n",
       "    <tr>\n",
       "      <th>272</th>\n",
       "      <td>5</td>\n",
       "      <td>439</td>\n",
       "      <td>1.0</td>\n",
       "      <td>1.0</td>\n",
       "      <td>{'actual_k': 3, 'was_impossible': False}</td>\n",
       "      <td>91</td>\n",
       "      <td>3</td>\n",
       "      <td>0.0</td>\n",
       "    </tr>\n",
       "    <tr>\n",
       "      <th>886</th>\n",
       "      <td>13</td>\n",
       "      <td>314</td>\n",
       "      <td>1.0</td>\n",
       "      <td>1.0</td>\n",
       "      <td>{'actual_k': 2, 'was_impossible': False}</td>\n",
       "      <td>373</td>\n",
       "      <td>2</td>\n",
       "      <td>0.0</td>\n",
       "    </tr>\n",
       "    <tr>\n",
       "      <th>156</th>\n",
       "      <td>2</td>\n",
       "      <td>314</td>\n",
       "      <td>1.0</td>\n",
       "      <td>1.0</td>\n",
       "      <td>{'actual_k': 2, 'was_impossible': False}</td>\n",
       "      <td>40</td>\n",
       "      <td>2</td>\n",
       "      <td>0.0</td>\n",
       "    </tr>\n",
       "    <tr>\n",
       "      <th>926</th>\n",
       "      <td>13</td>\n",
       "      <td>437</td>\n",
       "      <td>1.0</td>\n",
       "      <td>1.0</td>\n",
       "      <td>{'actual_k': 3, 'was_impossible': False}</td>\n",
       "      <td>373</td>\n",
       "      <td>3</td>\n",
       "      <td>0.0</td>\n",
       "    </tr>\n",
       "    <tr>\n",
       "      <th>9276</th>\n",
       "      <td>206</td>\n",
       "      <td>314</td>\n",
       "      <td>1.0</td>\n",
       "      <td>1.0</td>\n",
       "      <td>{'actual_k': 1, 'was_impossible': False}</td>\n",
       "      <td>33</td>\n",
       "      <td>2</td>\n",
       "      <td>0.0</td>\n",
       "    </tr>\n",
       "    <tr>\n",
       "      <th>19118</th>\n",
       "      <td>405</td>\n",
       "      <td>437</td>\n",
       "      <td>1.0</td>\n",
       "      <td>1.0</td>\n",
       "      <td>{'actual_k': 3, 'was_impossible': False}</td>\n",
       "      <td>582</td>\n",
       "      <td>3</td>\n",
       "      <td>0.0</td>\n",
       "    </tr>\n",
       "    <tr>\n",
       "      <th>8032</th>\n",
       "      <td>181</td>\n",
       "      <td>1334</td>\n",
       "      <td>1.0</td>\n",
       "      <td>1.0</td>\n",
       "      <td>{'actual_k': 1, 'was_impossible': False}</td>\n",
       "      <td>218</td>\n",
       "      <td>1</td>\n",
       "      <td>0.0</td>\n",
       "    </tr>\n",
       "    <tr>\n",
       "      <th>8041</th>\n",
       "      <td>181</td>\n",
       "      <td>1354</td>\n",
       "      <td>1.0</td>\n",
       "      <td>1.0</td>\n",
       "      <td>{'actual_k': 1, 'was_impossible': False}</td>\n",
       "      <td>218</td>\n",
       "      <td>1</td>\n",
       "      <td>0.0</td>\n",
       "    </tr>\n",
       "    <tr>\n",
       "      <th>9202</th>\n",
       "      <td>201</td>\n",
       "      <td>1424</td>\n",
       "      <td>3.0</td>\n",
       "      <td>3.0</td>\n",
       "      <td>{'actual_k': 1, 'was_impossible': False}</td>\n",
       "      <td>215</td>\n",
       "      <td>1</td>\n",
       "      <td>0.0</td>\n",
       "    </tr>\n",
       "    <tr>\n",
       "      <th>3018</th>\n",
       "      <td>60</td>\n",
       "      <td>1123</td>\n",
       "      <td>4.0</td>\n",
       "      <td>4.0</td>\n",
       "      <td>{'actual_k': 1, 'was_impossible': False}</td>\n",
       "      <td>119</td>\n",
       "      <td>1</td>\n",
       "      <td>0.0</td>\n",
       "    </tr>\n",
       "  </tbody>\n",
       "</table>\n",
       "</div>"
      ],
      "text/plain": [
       "       uid   iid  rui  est                                   details   Iu  Ui  \\\n",
       "272      5   439  1.0  1.0  {'actual_k': 3, 'was_impossible': False}   91   3   \n",
       "886     13   314  1.0  1.0  {'actual_k': 2, 'was_impossible': False}  373   2   \n",
       "156      2   314  1.0  1.0  {'actual_k': 2, 'was_impossible': False}   40   2   \n",
       "926     13   437  1.0  1.0  {'actual_k': 3, 'was_impossible': False}  373   3   \n",
       "9276   206   314  1.0  1.0  {'actual_k': 1, 'was_impossible': False}   33   2   \n",
       "19118  405   437  1.0  1.0  {'actual_k': 3, 'was_impossible': False}  582   3   \n",
       "8032   181  1334  1.0  1.0  {'actual_k': 1, 'was_impossible': False}  218   1   \n",
       "8041   181  1354  1.0  1.0  {'actual_k': 1, 'was_impossible': False}  218   1   \n",
       "9202   201  1424  3.0  3.0  {'actual_k': 1, 'was_impossible': False}  215   1   \n",
       "3018    60  1123  4.0  4.0  {'actual_k': 1, 'was_impossible': False}  119   1   \n",
       "\n",
       "       err  \n",
       "272    0.0  \n",
       "886    0.0  \n",
       "156    0.0  \n",
       "926    0.0  \n",
       "9276   0.0  \n",
       "19118  0.0  \n",
       "8032   0.0  \n",
       "8041   0.0  \n",
       "9202   0.0  \n",
       "3018   0.0  "
      ]
     },
     "execution_count": 16,
     "metadata": {},
     "output_type": "execute_result"
    }
   ],
   "source": [
    "# Let's take a look at the best predictions of the algorithm\n",
    "best_predictions"
   ]
  },
  {
   "cell_type": "markdown",
   "metadata": {},
   "source": [
    "It's interesting to note that these perfect predictions are actually lucky shots: $|U_i|$ is always very small, meaning that very few users have rated the target item. This implies that the set of neighbors is very small (see the ``actual_k`` field)... And, it just happens that all the ratings from the neighbors are the same (and mostly, are equal to that of the target user).\n",
    "\n",
    "This may be a bit surprising but these lucky shots are actually very important to the accuracy of the algorithm... Try running the same algorithm with a value of ``min_k`` equal to $10$. This means that if there are less than $10$ neighbors, the prediction is set to the mean of all ratings. You'll see your accuracy decrease!"
   ]
  },
  {
   "cell_type": "code",
   "execution_count": 17,
   "metadata": {},
   "outputs": [
    {
     "data": {
      "text/html": [
       "<div>\n",
       "<table border=\"1\" class=\"dataframe\">\n",
       "  <thead>\n",
       "    <tr style=\"text-align: right;\">\n",
       "      <th></th>\n",
       "      <th>uid</th>\n",
       "      <th>iid</th>\n",
       "      <th>rui</th>\n",
       "      <th>est</th>\n",
       "      <th>details</th>\n",
       "      <th>Iu</th>\n",
       "      <th>Ui</th>\n",
       "      <th>err</th>\n",
       "    </tr>\n",
       "  </thead>\n",
       "  <tbody>\n",
       "    <tr>\n",
       "      <th>9406</th>\n",
       "      <td>208</td>\n",
       "      <td>302</td>\n",
       "      <td>1.0</td>\n",
       "      <td>4.308447</td>\n",
       "      <td>{'actual_k': 40, 'was_impossible': False}</td>\n",
       "      <td>11</td>\n",
       "      <td>245</td>\n",
       "      <td>3.308447</td>\n",
       "    </tr>\n",
       "    <tr>\n",
       "      <th>19089</th>\n",
       "      <td>405</td>\n",
       "      <td>169</td>\n",
       "      <td>1.0</td>\n",
       "      <td>4.364728</td>\n",
       "      <td>{'actual_k': 40, 'was_impossible': False}</td>\n",
       "      <td>582</td>\n",
       "      <td>97</td>\n",
       "      <td>3.364728</td>\n",
       "    </tr>\n",
       "    <tr>\n",
       "      <th>19785</th>\n",
       "      <td>436</td>\n",
       "      <td>132</td>\n",
       "      <td>1.0</td>\n",
       "      <td>4.365369</td>\n",
       "      <td>{'actual_k': 40, 'was_impossible': False}</td>\n",
       "      <td>126</td>\n",
       "      <td>200</td>\n",
       "      <td>3.365369</td>\n",
       "    </tr>\n",
       "    <tr>\n",
       "      <th>157</th>\n",
       "      <td>2</td>\n",
       "      <td>315</td>\n",
       "      <td>1.0</td>\n",
       "      <td>4.381308</td>\n",
       "      <td>{'actual_k': 40, 'was_impossible': False}</td>\n",
       "      <td>40</td>\n",
       "      <td>136</td>\n",
       "      <td>3.381308</td>\n",
       "    </tr>\n",
       "    <tr>\n",
       "      <th>8503</th>\n",
       "      <td>193</td>\n",
       "      <td>56</td>\n",
       "      <td>1.0</td>\n",
       "      <td>4.386478</td>\n",
       "      <td>{'actual_k': 40, 'was_impossible': False}</td>\n",
       "      <td>61</td>\n",
       "      <td>312</td>\n",
       "      <td>3.386478</td>\n",
       "    </tr>\n",
       "    <tr>\n",
       "      <th>5531</th>\n",
       "      <td>113</td>\n",
       "      <td>976</td>\n",
       "      <td>5.0</td>\n",
       "      <td>1.610771</td>\n",
       "      <td>{'actual_k': 7, 'was_impossible': False}</td>\n",
       "      <td>31</td>\n",
       "      <td>7</td>\n",
       "      <td>3.389229</td>\n",
       "    </tr>\n",
       "    <tr>\n",
       "      <th>7917</th>\n",
       "      <td>181</td>\n",
       "      <td>408</td>\n",
       "      <td>1.0</td>\n",
       "      <td>4.421499</td>\n",
       "      <td>{'actual_k': 40, 'was_impossible': False}</td>\n",
       "      <td>218</td>\n",
       "      <td>93</td>\n",
       "      <td>3.421499</td>\n",
       "    </tr>\n",
       "    <tr>\n",
       "      <th>7390</th>\n",
       "      <td>167</td>\n",
       "      <td>169</td>\n",
       "      <td>1.0</td>\n",
       "      <td>4.664991</td>\n",
       "      <td>{'actual_k': 40, 'was_impossible': False}</td>\n",
       "      <td>38</td>\n",
       "      <td>97</td>\n",
       "      <td>3.664991</td>\n",
       "    </tr>\n",
       "    <tr>\n",
       "      <th>7412</th>\n",
       "      <td>167</td>\n",
       "      <td>1306</td>\n",
       "      <td>5.0</td>\n",
       "      <td>1.000000</td>\n",
       "      <td>{'actual_k': 1, 'was_impossible': False}</td>\n",
       "      <td>38</td>\n",
       "      <td>1</td>\n",
       "      <td>4.000000</td>\n",
       "    </tr>\n",
       "    <tr>\n",
       "      <th>5553</th>\n",
       "      <td>114</td>\n",
       "      <td>1104</td>\n",
       "      <td>5.0</td>\n",
       "      <td>1.000000</td>\n",
       "      <td>{'actual_k': 1, 'was_impossible': False}</td>\n",
       "      <td>27</td>\n",
       "      <td>1</td>\n",
       "      <td>4.000000</td>\n",
       "    </tr>\n",
       "  </tbody>\n",
       "</table>\n",
       "</div>"
      ],
      "text/plain": [
       "       uid   iid  rui       est                                    details  \\\n",
       "9406   208   302  1.0  4.308447  {'actual_k': 40, 'was_impossible': False}   \n",
       "19089  405   169  1.0  4.364728  {'actual_k': 40, 'was_impossible': False}   \n",
       "19785  436   132  1.0  4.365369  {'actual_k': 40, 'was_impossible': False}   \n",
       "157      2   315  1.0  4.381308  {'actual_k': 40, 'was_impossible': False}   \n",
       "8503   193    56  1.0  4.386478  {'actual_k': 40, 'was_impossible': False}   \n",
       "5531   113   976  5.0  1.610771   {'actual_k': 7, 'was_impossible': False}   \n",
       "7917   181   408  1.0  4.421499  {'actual_k': 40, 'was_impossible': False}   \n",
       "7390   167   169  1.0  4.664991  {'actual_k': 40, 'was_impossible': False}   \n",
       "7412   167  1306  5.0  1.000000   {'actual_k': 1, 'was_impossible': False}   \n",
       "5553   114  1104  5.0  1.000000   {'actual_k': 1, 'was_impossible': False}   \n",
       "\n",
       "        Iu   Ui       err  \n",
       "9406    11  245  3.308447  \n",
       "19089  582   97  3.364728  \n",
       "19785  126  200  3.365369  \n",
       "157     40  136  3.381308  \n",
       "8503    61  312  3.386478  \n",
       "5531    31    7  3.389229  \n",
       "7917   218   93  3.421499  \n",
       "7390    38   97  3.664991  \n",
       "7412    38    1  4.000000  \n",
       "5553    27    1  4.000000  "
      ]
     },
     "execution_count": 17,
     "metadata": {},
     "output_type": "execute_result"
    }
   ],
   "source": [
    "# Now, let's look at the prediction with the biggest error\n",
    "worst_predictions"
   ]
  },
  {
   "cell_type": "markdown",
   "metadata": {},
   "source": [
    "Let's focus first on the last two predictions. Well, we can't do much about them. We should have predicted $5$, but the only available neighbor had a rating of $1$, so we were screwed. The only way to avoid this kind of errors would be to increase the ``min_k`` parameter, but it would actually worsen the accuracy (see note above).\n",
    "\n",
    "How about the other ones? It seems that for each prediction, the users are some kind of outsiders: they rated their item with a rating of $1$ when the most of the ratings for the item where high (or inversely, rated a *bad* item with a rating of $5$). See the plot below as an illustration for the first rating.\n",
    "\n",
    "These are situations where baseline estimates would be quite helpful, in order to deal with highly biased users (and items)."
   ]
  },
  {
   "cell_type": "code",
   "execution_count": 19,
   "metadata": {},
   "outputs": [
    {
     "data": {
      "text/plain": [
       "<IPython.core.display.Javascript object>"
      ]
     },
     "metadata": {},
     "output_type": "display_data"
    },
    {
     "data": {
      "text/html": [
       "<img src=\"data:image/png;base64,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\" width=\"639.9999861283738\">"
      ],
      "text/plain": [
       "<IPython.core.display.HTML object>"
      ]
     },
     "metadata": {},
     "output_type": "execute_result"
    },
    {
     "data": {
      "text/plain": [
       "<matplotlib.text.Text at 0x7f27f7410208>"
      ]
     },
     "execution_count": 19,
     "metadata": {},
     "output_type": "execute_result"
    }
   ],
   "source": [
    "from collections import Counter\n",
    "\n",
    "import matplotlib.pyplot as plt\n",
    "import matplotlib\n",
    "%matplotlib notebook\n",
    "matplotlib.style.use('ggplot')\n",
    "\n",
    "counter = Counter([r for (_, r) in trainset.ir[trainset.to_inner_iid('302')]])\n",
    "pd.DataFrame.from_dict(counter, orient='index').plot(kind='bar', legend=False)\n",
    "plt.xlabel('Rating value')\n",
    "plt.ylabel('Number of users')\n",
    "plt.title('Number of users having rated item 302')"
   ]
  }
 ],
 "metadata": {
  "kernelspec": {
   "display_name": "Python 3",
   "language": "python",
   "name": "python3"
  },
  "language_info": {
   "codemirror_mode": {
    "name": "ipython",
    "version": 3
   },
   "file_extension": ".py",
   "mimetype": "text/x-python",
   "name": "python",
   "nbconvert_exporter": "python",
   "pygments_lexer": "ipython3",
   "version": "3.7.3"
  }
 },
 "nbformat": 4,
 "nbformat_minor": 1
}
