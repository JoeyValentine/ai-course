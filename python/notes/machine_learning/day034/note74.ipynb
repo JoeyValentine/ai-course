{
 "cells": [
  {
   "cell_type": "markdown",
   "metadata": {},
   "source": [
    "명심할 사항  \n",
    "알고리즘보다, input데이터에 따라서 성능이 크게 변한다."
   ]
  },
  {
   "cell_type": "markdown",
   "metadata": {},
   "source": [
    "# 기계학습 노하우..!"
   ]
  },
  {
   "cell_type": "markdown",
   "metadata": {},
   "source": [
    "기계학습 pdf 32쪽"
   ]
  },
  {
   "cell_type": "markdown",
   "metadata": {},
   "source": [
    "raw data collection == pandas로 데이터 읽는다.\n",
    "1. tidy data여부 확인\n",
    "2. info -> 만일 missing data 있으면, missingno 패키지 사용 & describe & 기초통계조사\n",
    "3. feature extraction(== encoding) : 다른 형태의 데이터를 숫자로 만드는 기법 == one-hot encoding / label encoding  \n",
    "   정형데이터에서는 one-hot/label encoding만 하면 충분하다.\n",
    "이거 안하면 기계학습 안 됨"
   ]
  },
  {
   "cell_type": "markdown",
   "metadata": {},
   "source": [
    "4. 데이터가 많은지 적은지 확인  \n",
    "데이터가 적을 때 sampiling하면 문제가 많다.\n",
    "\n",
    "데이터가 적으면 수집하거나 cross validation사용한다."
   ]
  },
  {
   "cell_type": "markdown",
   "metadata": {},
   "source": [
    "5. sampling == train-test-split"
   ]
  },
  {
   "cell_type": "markdown",
   "metadata": {},
   "source": [
    "6. 처음엔 pre-processing안하고(그림처럼 안할거임): linear & nonlinear algorithm 선택"
   ]
  },
  {
   "cell_type": "markdown",
   "metadata": {},
   "source": [
    "7. pipe gridsearchcv합쳐서 알고리즘과 hyper parameter동시에 찾기  \n",
    "(앙상블은 pipeline gridsearchcv같이 못 씀 ㄸㄹㄹ 근데 따로 하는 방법이 있나보다)"
   ]
  },
  {
   "cell_type": "markdown",
   "metadata": {},
   "source": [
    "8. performance metrics : 성능은 정확도만으로 하는게 아니다. 중요..!  \n",
    "성능을 측정한 이후에 전처리를 수행함"
   ]
  },
  {
   "cell_type": "markdown",
   "metadata": {},
   "source": [
    "9. pre-processing : scaling : 한 번 알고리즘&hyper parameter찾은 후 pre-processing으로 가공함...!  \n",
    "boxplot에서 scaling해야함을 안다.(pre-processing단계에서 알았어야 한다.)  \n",
    "learning curve, validation curve(overfitting) 확인   \n",
    "learning curve에서 데이터가 적다는 사실을 알고, 더 데이터를 구할 수 없다면 -> feature selection, Dimensionality Reduction사용   \n",
    "(feature selection이 데이터의 특성을 손상 안시켜서 Dimensionality reduction보다 나은 선택이다.)  \n",
    "다시 7번으로 넘어감...! == 맘에 들 때까지 무한루프  "
   ]
  }
 ],
 "metadata": {
  "kernelspec": {
   "display_name": "Python 3",
   "language": "python",
   "name": "python3"
  },
  "language_info": {
   "codemirror_mode": {
    "name": "ipython",
    "version": 3
   },
   "file_extension": ".py",
   "mimetype": "text/x-python",
   "name": "python",
   "nbconvert_exporter": "python",
   "pygments_lexer": "ipython3",
   "version": "3.7.3"
  }
 },
 "nbformat": 4,
 "nbformat_minor": 2
}
