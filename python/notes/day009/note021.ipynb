{
 "cells": [
  {
   "cell_type": "code",
   "execution_count": 1,
   "metadata": {},
   "outputs": [],
   "source": [
    "a = [] # literal방식 지원해준다, literal()하는 것보다 빠르게 만들 수 있다.\n",
    "# literal로 편리하게 객체를 생성할 수 있다."
   ]
  },
  {
   "cell_type": "code",
   "execution_count": 2,
   "metadata": {},
   "outputs": [
    {
     "data": {
      "text/plain": [
       "list"
      ]
     },
     "execution_count": 2,
     "metadata": {},
     "output_type": "execute_result"
    }
   ],
   "source": [
    "type(a)"
   ]
  },
  {
   "cell_type": "code",
   "execution_count": 3,
   "metadata": {},
   "outputs": [],
   "source": [
    "b = list()"
   ]
  },
  {
   "cell_type": "code",
   "execution_count": 4,
   "metadata": {},
   "outputs": [
    {
     "data": {
      "text/plain": [
       "list"
      ]
     },
     "execution_count": 4,
     "metadata": {},
     "output_type": "execute_result"
    }
   ],
   "source": [
    "type(b)"
   ]
  },
  {
   "cell_type": "code",
   "execution_count": 5,
   "metadata": {},
   "outputs": [],
   "source": [
    "c = {}\n",
    "# 빈 dictionary, 빈 집합 아니다"
   ]
  },
  {
   "cell_type": "code",
   "execution_count": 6,
   "metadata": {},
   "outputs": [],
   "source": [
    "d = set()\n",
    "# 빈 set을 만드는 방법\n",
    "# 빈 공집합은 literal방식으로 못 만듦\n",
    "# python은 객체지향이라서 원칙적으로 인스턴스 생성하는 방식으로 객체를 생성한다.\n",
    "# 객체 이름 : type으로 알 수 있다.\n",
    "# 객체 이름 알면 instance화 할 수 있다."
   ]
  },
  {
   "cell_type": "code",
   "execution_count": 7,
   "metadata": {},
   "outputs": [
    {
     "name": "stdout",
     "output_type": "stream",
     "text": [
      "0\n"
     ]
    }
   ],
   "source": [
    "a = int()\n",
    "# docstring : int([x]) : [x]는 optional의 의미이다. 안넣어도 됨\n",
    "print(a)\n",
    "# 존재론적인 관점에서 : int에서 아무것도 안 넣으면 false가 되는 값이 나옴"
   ]
  },
  {
   "cell_type": "code",
   "execution_count": 8,
   "metadata": {},
   "outputs": [
    {
     "name": "stdout",
     "output_type": "stream",
     "text": [
      "0.0\n"
     ]
    }
   ],
   "source": [
    "b = float()\n",
    "print(b)"
   ]
  },
  {
   "cell_type": "code",
   "execution_count": 9,
   "metadata": {},
   "outputs": [
    {
     "name": "stdout",
     "output_type": "stream",
     "text": [
      "0j\n"
     ]
    }
   ],
   "source": [
    "c = complex()\n",
    "print(c)"
   ]
  },
  {
   "cell_type": "code",
   "execution_count": 10,
   "metadata": {},
   "outputs": [
    {
     "name": "stdout",
     "output_type": "stream",
     "text": [
      "False\n"
     ]
    }
   ],
   "source": [
    "d = bool()\n",
    "print(d)"
   ]
  },
  {
   "cell_type": "code",
   "execution_count": 11,
   "metadata": {},
   "outputs": [
    {
     "name": "stdout",
     "output_type": "stream",
     "text": [
      "\n"
     ]
    }
   ],
   "source": [
    "e = str()\n",
    "print(e)"
   ]
  },
  {
   "cell_type": "code",
   "execution_count": 12,
   "metadata": {},
   "outputs": [
    {
     "name": "stdout",
     "output_type": "stream",
     "text": [
      "b''\n"
     ]
    }
   ],
   "source": [
    "f = bytes()\n",
    "print(f)\n",
    "# b'' 가 literal임"
   ]
  },
  {
   "cell_type": "code",
   "execution_count": 13,
   "metadata": {},
   "outputs": [
    {
     "name": "stdout",
     "output_type": "stream",
     "text": [
      "bytearray(b'')\n"
     ]
    }
   ],
   "source": [
    "g = bytearray()\n",
    "print(g)\n",
    "# output을 보니 literal이 없음 == 항상 인스턴스 방식으로 객체를 생성해야 한다."
   ]
  },
  {
   "cell_type": "code",
   "execution_count": 14,
   "metadata": {},
   "outputs": [
    {
     "name": "stdout",
     "output_type": "stream",
     "text": [
      "[]\n"
     ]
    }
   ],
   "source": [
    "h = list()\n",
    "print(h)\n",
    "# [] : literal"
   ]
  },
  {
   "cell_type": "markdown",
   "metadata": {},
   "source": [
    "# range는 literal이 없다."
   ]
  },
  {
   "cell_type": "code",
   "execution_count": 15,
   "metadata": {},
   "outputs": [
    {
     "name": "stdout",
     "output_type": "stream",
     "text": [
      "{1: 2, 2: 3}\n"
     ]
    }
   ],
   "source": [
    "# 주의!!!!!!\n",
    "i = {1:2, 2:3}\n",
    "print(i)"
   ]
  },
  {
   "cell_type": "code",
   "execution_count": 16,
   "metadata": {},
   "outputs": [
    {
     "ename": "SyntaxError",
     "evalue": "invalid syntax (<ipython-input-16-11576c1c4683>, line 4)",
     "output_type": "error",
     "traceback": [
      "\u001b[1;36m  File \u001b[1;32m\"<ipython-input-16-11576c1c4683>\"\u001b[1;36m, line \u001b[1;32m4\u001b[0m\n\u001b[1;33m    dict에서 literal에서 만들 수 있지만, instance 방식으로 못 만드는 것이 있음\u001b[0m\n\u001b[1;37m                   ^\u001b[0m\n\u001b[1;31mSyntaxError\u001b[0m\u001b[1;31m:\u001b[0m invalid syntax\n"
     ]
    }
   ],
   "source": [
    "i = dict(1=2, 2=3) \n",
    "# 함수 방식으로는 위에 것을 못 만듦\n",
    "# 오른쪽에 name이 와야 함\n",
    "dict에서 literal에서 만들 수 있지만, instance 방식으로 못 만드는 것이 있음"
   ]
  },
  {
   "cell_type": "markdown",
   "metadata": {},
   "source": [
    "python에서는 type casting하려면 무조건 instance방식으로 해야 함."
   ]
  },
  {
   "cell_type": "code",
   "execution_count": 19,
   "metadata": {},
   "outputs": [
    {
     "data": {
      "text/plain": [
       "[2, 3, 4, 5, 6]"
      ]
     },
     "execution_count": 19,
     "metadata": {},
     "output_type": "execute_result"
    }
   ],
   "source": [
    "list(map(lambda x : x + 1, [1, 2, 3, 4, 5]))\n",
    "# map은 우리 눈에 안보임\n",
    "# map 객체를 눈에 보이는 list로 type casting"
   ]
  },
  {
   "cell_type": "markdown",
   "metadata": {},
   "source": [
    "모든 객체에 literal은 없다.\n",
    "\n",
    "자주 쓰는 class에만 것에만 있다."
   ]
  },
  {
   "cell_type": "code",
   "execution_count": 22,
   "metadata": {},
   "outputs": [
    {
     "name": "stdout",
     "output_type": "stream",
     "text": [
      "frozenset()\n",
      "<class 'frozenset'>\n"
     ]
    }
   ],
   "source": [
    "j = frozenset()\n",
    "print(j) # literal이 없어서이 나옴\n",
    "print(type(j)) # type함수는 class명을 출력해준다."
   ]
  },
  {
   "cell_type": "code",
   "execution_count": 23,
   "metadata": {},
   "outputs": [
    {
     "data": {
      "text/plain": [
       "type"
      ]
     },
     "execution_count": 23,
     "metadata": {},
     "output_type": "execute_result"
    }
   ],
   "source": [
    "type(int)\n",
    "# int의 클래스 명 치면 type 나옴\n",
    "# python에서는 metaclass 지원해줌 : int도 instance처럼 사용 가능\n",
    "# class의 class가 존재함 == metaclass \n",
    "# type이라는 metaclass를 인스턴스화 해서 int라는 클래스를 생성\n",
    "# 즉 int의 클래스는 type이다.\n",
    "# 메타 클래스를 인스턴스화 하면 클래스가 생기고, 클래스를 인스턴스화 하면 객체(인스턴스)가 생긴다."
   ]
  },
  {
   "cell_type": "code",
   "execution_count": 34,
   "metadata": {},
   "outputs": [],
   "source": [
    "class B:\n",
    "    # 생성자 : 인스턴스화 할 때 실행하는 method\n",
    "    def __init__(self, x): # 이걸 따로 정의 안하면 object에서 정의된 것을 사용함\n",
    "        print('B')\n",
    "    # 기존 것(object의 __init__)을 덮어써서 실행함 : overriding\n",
    "    # 원래 기능을 실행 안하고 print('B') 출력\n",
    "    # self 제외하고 값을 넣어줘야 함 ????????????????????????????????????? 다른 함수는 self 안넣음?\n",
    "    # self는 언제 넣는거야??????\n",
    "    # method에서는 첫 인자를 관례상 self라고 지정"
   ]
  },
  {
   "cell_type": "markdown",
   "metadata": {},
   "source": [
    "# overriding\n",
    "\n",
    "java, C++ 는 overloading을 지원함\n",
    "\n",
    "but python은 overloading 지원 안함 ㅠㅠ\n",
    "\n",
    "overloading : parameter수에 따라서 함수를 호출시켜줌"
   ]
  },
  {
   "cell_type": "code",
   "execution_count": 38,
   "metadata": {},
   "outputs": [
    {
     "name": "stdout",
     "output_type": "stream",
     "text": [
      "F\n"
     ]
    }
   ],
   "source": [
    "class C:\n",
    "    def __init__(self, x):\n",
    "        print('D')\n",
    "    def __init__(self):\n",
    "        print('F')\n",
    "# 이름이 같으면, python에서는 무조건 아랫것이 위에 것을 가린다. == overloading이 없어서 \n",
    "# 예전에!!!! z = {a : 1, b : 3, a = 5} 하면, z[a] = 5 이다.\n",
    "# alpha = C(3) error\n",
    "alpha = C()"
   ]
  },
  {
   "cell_type": "code",
   "execution_count": 35,
   "metadata": {},
   "outputs": [
    {
     "name": "stdout",
     "output_type": "stream",
     "text": [
      "B\n"
     ]
    }
   ],
   "source": [
    "x = B(3)"
   ]
  },
  {
   "cell_type": "code",
   "execution_count": 30,
   "metadata": {
    "scrolled": true
   },
   "outputs": [
    {
     "data": {
      "text/plain": [
       "['__class__',\n",
       " '__delattr__',\n",
       " '__dict__',\n",
       " '__dir__',\n",
       " '__doc__',\n",
       " '__eq__',\n",
       " '__format__',\n",
       " '__ge__',\n",
       " '__getattribute__',\n",
       " '__gt__',\n",
       " '__hash__',\n",
       " '__init__',\n",
       " '__init_subclass__',\n",
       " '__le__',\n",
       " '__lt__',\n",
       " '__module__',\n",
       " '__ne__',\n",
       " '__new__',\n",
       " '__reduce__',\n",
       " '__reduce_ex__',\n",
       " '__repr__',\n",
       " '__setattr__',\n",
       " '__sizeof__',\n",
       " '__str__',\n",
       " '__subclasshook__',\n",
       " '__weakref__']"
      ]
     },
     "execution_count": 30,
     "metadata": {},
     "output_type": "execute_result"
    }
   ],
   "source": [
    "dir(x)"
   ]
  },
  {
   "cell_type": "code",
   "execution_count": 31,
   "metadata": {},
   "outputs": [
    {
     "data": {
      "text/plain": [
       "__main__.B"
      ]
     },
     "execution_count": 31,
     "metadata": {},
     "output_type": "execute_result"
    }
   ],
   "source": [
    "x.__class__"
   ]
  },
  {
   "cell_type": "code",
   "execution_count": 32,
   "metadata": {},
   "outputs": [
    {
     "data": {
      "text/plain": [
       "__main__.B"
      ]
     },
     "execution_count": 32,
     "metadata": {},
     "output_type": "execute_result"
    }
   ],
   "source": [
    "type(x)\n",
    "# type(x) == x.__class__ : 나의 클래스가 무엇인가"
   ]
  },
  {
   "cell_type": "markdown",
   "metadata": {},
   "source": [
    "``` python\n",
    "x = int()\n",
    "x = int(3)\n",
    "\n",
    "def A():\n",
    "    def __init__(self, x=0):\n",
    "        pass\n",
    "```\n",
    "overloading 처럼 이렇게 클래스를 쓰고 싶은데..! python에서 어떻게 하지?\n",
    "\n",
    "python은 overloading이 없어서 default 값을 넣어서 처리함"
   ]
  },
  {
   "cell_type": "code",
   "execution_count": 40,
   "metadata": {},
   "outputs": [],
   "source": [
    "from sklearn.datasets import load_iris \n",
    "# load(동사)_iris(명사) : snake 방식 == 함수 또는 변수 == load(동사)에서 함수임을 예측함"
   ]
  },
  {
   "cell_type": "code",
   "execution_count": 41,
   "metadata": {},
   "outputs": [
    {
     "data": {
      "text/plain": [
       "True"
      ]
     },
     "execution_count": 41,
     "metadata": {},
     "output_type": "execute_result"
    }
   ],
   "source": [
    "callable(load_iris)\n",
    "# WoW!!!! 함수 맞구나"
   ]
  },
  {
   "cell_type": "markdown",
   "metadata": {},
   "source": [
    "그럼 int는 왜 대문자가 아니냐?? == python에서는 PEP8이전에 만든 내장함수는 이름이 체계적이지 않다."
   ]
  },
  {
   "cell_type": "code",
   "execution_count": 45,
   "metadata": {},
   "outputs": [],
   "source": [
    "a = load_iris()\n",
    "# default값이 있어서 안 넣어도 실행이 됨"
   ]
  },
  {
   "cell_type": "code",
   "execution_count": 46,
   "metadata": {
    "scrolled": true
   },
   "outputs": [
    {
     "data": {
      "text/plain": [
       "['DESCR', 'data', 'feature_names', 'filename', 'target', 'target_names']"
      ]
     },
     "execution_count": 46,
     "metadata": {},
     "output_type": "execute_result"
    }
   ],
   "source": [
    "dir(a)\n",
    "# DESCR == 모두 대문자이군! == 상수 \n",
    "# feature(명사)_names : 변수\n",
    "# 이름만 봐도 type을 유추할 수 있다."
   ]
  },
  {
   "cell_type": "code",
   "execution_count": 47,
   "metadata": {},
   "outputs": [],
   "source": [
    "from sklearn.neighbors import KNeighborsClassifier\n",
    "# KNeighborsClassifier : camel case라서 클래스명임 == 클래스는 인스턴스화 해야한다."
   ]
  },
  {
   "cell_type": "code",
   "execution_count": 48,
   "metadata": {},
   "outputs": [],
   "source": [
    "# 클래스는 인스턴스화 해야한다.\n",
    "knn = KNeighborsClassifier()\n",
    "# init signature == __init__ 를 호출하는 방법"
   ]
  },
  {
   "cell_type": "markdown",
   "metadata": {},
   "source": [
    "클래스의 인스턴스 생성할 때 ()할 수 있으므로 클래스도 callable함, 함수처럼 사용 가능"
   ]
  },
  {
   "cell_type": "code",
   "execution_count": null,
   "metadata": {},
   "outputs": [],
   "source": [
    "range()\n",
    "# shift + tab\n",
    "# init signature == __init__ 를 호출하는 방법\n",
    "# self는 안넣어줘도 됨"
   ]
  },
  {
   "cell_type": "markdown",
   "metadata": {},
   "source": [
    "남이 만든 거에다가\n",
    "\n",
    "decorator && inheritance하고 overriding 해서 내가 원하는 기능을 만듦"
   ]
  }
 ],
 "metadata": {
  "kernelspec": {
   "display_name": "Python 3",
   "language": "python",
   "name": "python3"
  },
  "language_info": {
   "codemirror_mode": {
    "name": "ipython",
    "version": 3
   },
   "file_extension": ".py",
   "mimetype": "text/x-python",
   "name": "python",
   "nbconvert_exporter": "python",
   "pygments_lexer": "ipython3",
   "version": "3.7.2"
  }
 },
 "nbformat": 4,
 "nbformat_minor": 2
}
