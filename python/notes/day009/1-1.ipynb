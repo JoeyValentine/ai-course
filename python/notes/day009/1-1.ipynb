{
 "cells": [
  {
   "cell_type": "markdown",
   "metadata": {},
   "source": [
    "``` python\n",
    "a = {'name' : 'moon', 'gender' : 'F', 'phone' : '010'}\n",
    "b = {'name' : 'zzzz', 'gender' : 'F', 'phone' : '010'}\n",
    "c = {'name' : 'dddd', 'gender' : 'F', 'phone' : '010'}\n",
    "\n",
    "# 주소 추가하기 위해서 입력!\n",
    "a['address'] = address # 하나하나 추가하기 힘들어서 함수 선언\n",
    "\n",
    "# 주소 추가하기 위해서 함수를 선언\n",
    "# 아무 객체나 이 함수를 사용할 수 있음 : 다른 객체가 이 함수를 사용해서 실수 / 에러가 일어난다.\n",
    "def add_address(dictionary, address):\n",
    "    dictionary['address'] = address\n",
    "    return dictionary\n",
    "...........\n",
    "```\n",
    "key로부터 정보를 알 수 있다"
   ]
  },
  {
   "cell_type": "markdown",
   "metadata": {},
   "source": [
    "add_address(dictionary, address)\n",
    "다른 dictionary 넣어도 주소가 추가됨;;;; == 원하는 방향이 아님"
   ]
  },
  {
   "cell_type": "markdown",
   "metadata": {},
   "source": [
    "``` python\n",
    "b = [zzzz', 'F', 010']\n",
    "```\n",
    "약속해서 첫 원소는 이름, 둘은 성별, 셋은 번호 라고 함\n",
    "메모리 적게 씀, 원소 접근 속도가 dict보다 빠름"
   ]
  },
  {
   "cell_type": "markdown",
   "metadata": {},
   "source": [
    "한 두개 만들꺼면 위의 방법처럼 만들면 편하긴 함\n",
    "\n",
    "근데, 수 만개면 literal로 만들어서 하나하나 입력하기 힘들다....\n",
    "\n",
    "게다가 원소 추가, default값입력이 불가\n",
    "\n",
    "default값이 없어서 다 입력해줘야한다 ㄸㄹㄹ scale이 커지면 class가 더 편하다.\n",
    "\n",
    "원소 추가하려면 다 입력해줘야한다 ㄸㄹㄹ scale이 커지면 class가 더 편하다."
   ]
  },
  {
   "cell_type": "code",
   "execution_count": 6,
   "metadata": {},
   "outputs": [],
   "source": [
    "class Information:\n",
    "    title = 'aaa' # 모든 인스턴스들이 공유할 수 있다.\n",
    "    def __init__(self, name, gender, phone):\n",
    "        self.name = name # 각 인스턴스가 고유값을 가진다.\n",
    "        self.gender = gender # 인스턴스가 가지는 고유의 값을 만듦\n",
    "        self.phone = phone\n",
    "    def add_address(self, address):\n",
    "        self.add = address"
   ]
  },
  {
   "cell_type": "code",
   "execution_count": 7,
   "metadata": {},
   "outputs": [],
   "source": [
    "a = Information('moon', 'F', '010')"
   ]
  },
  {
   "cell_type": "code",
   "execution_count": 8,
   "metadata": {},
   "outputs": [],
   "source": [
    "a.add_address('aaa')\n",
    "# Information 타입만 쓸 수 있는 함수를 선언하여, 다른 객체가 add_address 못쓰게 함\n",
    "# 실수가 안 일어남"
   ]
  },
  {
   "cell_type": "code",
   "execution_count": 9,
   "metadata": {},
   "outputs": [
    {
     "data": {
      "text/plain": [
       "__main__.Information"
      ]
     },
     "execution_count": 9,
     "metadata": {},
     "output_type": "execute_result"
    }
   ],
   "source": [
    "type(a)\n",
    "# __main__ : 현재 파일에 정의된 information이라는 뜻\n",
    "# import 했는지 내가 만들었는지 check 가능"
   ]
  },
  {
   "cell_type": "code",
   "execution_count": 14,
   "metadata": {},
   "outputs": [],
   "source": [
    "# 클래스가 선언되면 인스턴스화 해야한다.\n",
    "class A:\n",
    "    x = 1 # class variable, attribute : self가 안 붙은 변수 : 공통된 값\n",
    "    def set_y(self, y): # method\n",
    "        self.y = y # instance\n",
    "        # self를 사용해서 자기만의 고유 값을 바꿈\n",
    "        # instance는 고유한 값을 가질 수 있다."
   ]
  },
  {
   "cell_type": "code",
   "execution_count": 15,
   "metadata": {},
   "outputs": [],
   "source": [
    "a = A() # object의 __init__을 사용함 : 따로 argument 넣지 않음"
   ]
  },
  {
   "cell_type": "code",
   "execution_count": 16,
   "metadata": {},
   "outputs": [
    {
     "name": "stdout",
     "output_type": "stream",
     "text": [
      "1\n"
     ]
    }
   ],
   "source": [
    "print(a.x)\n",
    "# instance에 x값이 없어서, class에서 x값을 찾아봄..!"
   ]
  },
  {
   "cell_type": "code",
   "execution_count": 17,
   "metadata": {},
   "outputs": [
    {
     "data": {
      "text/plain": [
       "{}"
      ]
     },
     "execution_count": 17,
     "metadata": {},
     "output_type": "execute_result"
    }
   ],
   "source": [
    "vars(a)\n",
    "# 현재 실행되고 있는 instance의 저장되어 있는 값을 보여줌\n",
    "# x=1 은 클래스에 저장되어 있어서 vars(a) = {} 이다."
   ]
  },
  {
   "cell_type": "code",
   "execution_count": 18,
   "metadata": {},
   "outputs": [],
   "source": [
    "a.set_y(3)"
   ]
  },
  {
   "cell_type": "code",
   "execution_count": 19,
   "metadata": {},
   "outputs": [
    {
     "data": {
      "text/plain": [
       "{'y': 3}"
      ]
     },
     "execution_count": 19,
     "metadata": {},
     "output_type": "execute_result"
    }
   ],
   "source": [
    "vars(a)"
   ]
  },
  {
   "cell_type": "code",
   "execution_count": null,
   "metadata": {},
   "outputs": [],
   "source": []
  }
 ],
 "metadata": {
  "kernelspec": {
   "display_name": "Python 3",
   "language": "python",
   "name": "python3"
  },
  "language_info": {
   "codemirror_mode": {
    "name": "ipython",
    "version": 3
   },
   "file_extension": ".py",
   "mimetype": "text/x-python",
   "name": "python",
   "nbconvert_exporter": "python",
   "pygments_lexer": "ipython3",
   "version": "3.7.1"
  }
 },
 "nbformat": 4,
 "nbformat_minor": 2
}
