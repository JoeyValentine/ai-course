{
 "cells": [
  {
   "cell_type": "markdown",
   "metadata": {},
   "source": [
    "객체지향은 재활용성 높음(상속, 모듈화), 수정 변경시 유용함(수정할 위치가 class 내부로 명확하다) \n",
    "\n",
    "유지보수할 때 최고이다.\n",
    "\n",
    "규모가 크고 유지보수를 해야할 때 객체지향이 좋다"
   ]
  },
  {
   "cell_type": "code",
   "execution_count": 1,
   "metadata": {},
   "outputs": [],
   "source": [
    "class A:\n",
    "    x = 1\n",
    "    def y(self):\n",
    "        return 2"
   ]
  },
  {
   "cell_type": "markdown",
   "metadata": {},
   "source": [
    "[coding style guide](https://www.python.org/dev/peps/pep-0008/#class-names)\n",
    "\n",
    "PEP파일에서 파이썬의 코딩 스타일 가이드 라인 : class 이름 지을 때 pascal방식으로 사용\n",
    "\n",
    "이름이 2단어 이상일 때 이름을 짓는 방식\n",
    "\n",
    "constant는 모두 대문자\n",
    "\n",
    "1. snake 방식 : moon_beauty : 변수하고 함수이름 지을 때 사용\n",
    "2. camel 방식 : moon_Beauty\n",
    "3. pascal, caps words 방식 : 클래스 이름 지을 때 사용, 앞글자 대문자. (엄밀하게 나눈 기준)\n",
    "\n",
    "python에서는 pascal, caps words 방식을 그냥 camel로 통칭해서 부름"
   ]
  },
  {
   "cell_type": "code",
   "execution_count": null,
   "metadata": {},
   "outputs": [],
   "source": [
    "a = A()\n",
    "# a는 인스턴스화 된 것을 객체라고 한다.\n",
    "# class도 callable!"
   ]
  },
  {
   "cell_type": "code",
   "execution_count": 2,
   "metadata": {
    "scrolled": true
   },
   "outputs": [
    {
     "data": {
      "text/plain": [
       "['__class__',\n",
       " '__delattr__',\n",
       " '__dict__',\n",
       " '__dir__',\n",
       " '__doc__',\n",
       " '__eq__',\n",
       " '__format__',\n",
       " '__ge__',\n",
       " '__getattribute__',\n",
       " '__gt__',\n",
       " '__hash__',\n",
       " '__init__',\n",
       " '__init_subclass__',\n",
       " '__le__',\n",
       " '__lt__',\n",
       " '__module__',\n",
       " '__ne__',\n",
       " '__new__',\n",
       " '__reduce__',\n",
       " '__reduce_ex__',\n",
       " '__repr__',\n",
       " '__setattr__',\n",
       " '__sizeof__',\n",
       " '__str__',\n",
       " '__subclasshook__',\n",
       " '__weakref__',\n",
       " 'x',\n",
       " 'y']"
      ]
     },
     "execution_count": 2,
     "metadata": {},
     "output_type": "execute_result"
    }
   ],
   "source": [
    "dir(A)\n",
    "# 이 객체가 할 수 있는 행동과 값을 return "
   ]
  }
 ],
 "metadata": {
  "kernelspec": {
   "display_name": "Python 3",
   "language": "python",
   "name": "python3"
  },
  "language_info": {
   "codemirror_mode": {
    "name": "ipython",
    "version": 3
   },
   "file_extension": ".py",
   "mimetype": "text/x-python",
   "name": "python",
   "nbconvert_exporter": "python",
   "pygments_lexer": "ipython3",
   "version": "3.7.2"
  }
 },
 "nbformat": 4,
 "nbformat_minor": 2
}
