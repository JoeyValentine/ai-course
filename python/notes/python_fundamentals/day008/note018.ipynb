{
 "cells": [
  {
   "cell_type": "markdown",
   "metadata": {},
   "source": [
    "Decorator\n",
    "기존의 함수의 기능을 변경하는 것이 가능하다.\n",
    "\n",
    "> **A decorator is a callable that takes a callable as an argument and returns another callable to replace it.**"
   ]
  },
  {
   "cell_type": "markdown",
   "metadata": {},
   "source": [
    "함수에 return, yield이 없으면 자동으로 return None이 생략되었다.\n",
    "\n",
    "---"
   ]
  },
  {
   "cell_type": "markdown",
   "metadata": {},
   "source": [
    "``` python\n",
    "def foo():\n",
    "    print('foo!')\n",
    "```\n",
    "\n",
    "에러 체크 안하고 사용자가 제대로 입력하길 바람(callable한 것을 기대함)\n",
    "``` python\n",
    "def bar(fn):\n",
    "    fn()\n",
    "\n",
    "bar(foo) # prints 'foo!' \n",
    "```\n",
    "\n",
    "함수는 정의역 치역 이 공집합이면 함수 정의가 되던가?????????????????????\n",
    "\n",
    "# [EAFP](https://wikidocs.net/16062)\n",
    "\n",
    "# [EAFP 권장하는 이유](https://itholic.github.io/python-eafp-lbyl/)\n",
    "# [EAFP vs LBYL](https://codecalamity.com/is-it-easier-to-ask-forgiveness-in-python/)\n",
    "\n",
    ">__LBYL__\n",
    ">\n",
    ">When there aren’t any errors happening, the checks are just additional weight slowing the process down.\n",
    "\n",
    ">Is your incoming data almost always going to be correct? \n",
    ">\n",
    ">Then I’d lean towards EAFP, whereas if it’s a crap shoot, LBYL may make more sense.\n",
    "\n",
    "----"
   ]
  },
  {
   "cell_type": "markdown",
   "metadata": {},
   "source": [
    "함수 중첩되면 return이 값인지 함수인지 확인할 것\n",
    "\n",
    "python은 first class 함수 개념으로 설계함(일급함수)\n",
    "따라서 중첩함수 선언이 가능하다. \n",
    "함수를 지역 함수의 객체로 가진다.\n",
    "\n",
    "[first-class](https://en.wikipedia.org/wiki/First-class_function#Anonymous_and_nested_functions)\n",
    "\n",
    "first class 함수를 값처럼 쓸 수 있다.\n",
    "\n",
    "first class이면 high order class이다. \n",
    "HO가 더 큰 집합\n",
    "\n",
    "---"
   ]
  },
  {
   "cell_type": "markdown",
   "metadata": {},
   "source": [
    "python은 local 함수만 접근 못하게 막음\n",
    "\n",
    "파이썬 class는 모두 public private쓰는건 귀찮은 일이라는 관점 \n",
    "\n",
    "---"
   ]
  },
  {
   "cell_type": "markdown",
   "metadata": {},
   "source": [
    "1. 함수를 인자로 받아서,\n",
    "2. 인자를 받은 함수 내부안에서 정의된 함수에서 인자로 받은 함수를 호출이 될 때 데코레이터가 될 수 있다.\n",
    "\n",
    "``` python               \n",
    "@foo\n",
    "def bar():\n",
    "```\n",
    "\n",
    "bar라는 함수를 foo에 집어 넣는다!"
   ]
  },
  {
   "cell_type": "code",
   "execution_count": 1,
   "metadata": {},
   "outputs": [],
   "source": [
    "def wrapper(f):\n",
    "    def inner():\n",
    "        print('---------')\n",
    "        f()\n",
    "    return inner"
   ]
  },
  {
   "cell_type": "code",
   "execution_count": 2,
   "metadata": {},
   "outputs": [],
   "source": [
    "def a():\n",
    "    print('아이린')"
   ]
  },
  {
   "cell_type": "code",
   "execution_count": 3,
   "metadata": {},
   "outputs": [
    {
     "name": "stdout",
     "output_type": "stream",
     "text": [
      "아이린\n"
     ]
    }
   ],
   "source": [
    "a()"
   ]
  },
  {
   "cell_type": "code",
   "execution_count": 4,
   "metadata": {},
   "outputs": [],
   "source": [
    "@wrapper\n",
    "def a():\n",
    "    print('아이린')\n",
    "# a()함수에서 wrapper함수 기능을 추가함"
   ]
  },
  {
   "cell_type": "markdown",
   "metadata": {},
   "source": [
    "# `@wrapper` is equivalent to `a = wrapper(a)`"
   ]
  },
  {
   "cell_type": "code",
   "execution_count": 5,
   "metadata": {
    "scrolled": true
   },
   "outputs": [
    {
     "name": "stdout",
     "output_type": "stream",
     "text": [
      "---------\n",
      "아이린\n"
     ]
    }
   ],
   "source": [
    "a()\n",
    "# 원래 함수의 기능을 추가했다.\n",
    "# 함수를 return하는데, ()를 더 안써도 된다!!! decorator의 특이한 점"
   ]
  },
  {
   "cell_type": "markdown",
   "metadata": {},
   "source": [
    "# 함수 수정 방법\n",
    "# 기존 코드를 copy, paste해서 부분부분 수정 : 단점 : 코드가 길면 복잡하다.\n",
    "# decorator 쓰면, 기존 함수 유지하고 수정이 가능하다. : 깔끔...!\n",
    "\n",
    "decorator 언제 써????\n",
    "반복된 기능을 삽입할 때 decorator를 씀\n",
    "기존에 있는 코드 기능 변형시킬 때"
   ]
  },
  {
   "cell_type": "code",
   "execution_count": 6,
   "metadata": {},
   "outputs": [],
   "source": [
    "def wrapper2(f):\n",
    "    def inner(x):\n",
    "        return f(x + 1)\n",
    "    return inner"
   ]
  },
  {
   "cell_type": "code",
   "execution_count": 7,
   "metadata": {},
   "outputs": [],
   "source": [
    "@wrapper2\n",
    "def b(x):\n",
    "    return x + 1\n",
    "\n",
    "# b = wrapper2(b) = inner"
   ]
  },
  {
   "cell_type": "code",
   "execution_count": 8,
   "metadata": {},
   "outputs": [
    {
     "data": {
      "text/plain": [
       "3"
      ]
     },
     "execution_count": 8,
     "metadata": {},
     "output_type": "execute_result"
    }
   ],
   "source": [
    "b(1)\n",
    "# inner함수가 parameter를 1개 받으므로 1개 적어줘야 한다.\n",
    "# 1을 더하는 함수에서 2를 더하는 함수로 바꿈"
   ]
  },
  {
   "cell_type": "code",
   "execution_count": 1,
   "metadata": {},
   "outputs": [],
   "source": [
    "def wrapper3(f):\n",
    "    def inner(t):\n",
    "        print('_____')\n",
    "        return f(t)\n",
    "    return inner"
   ]
  },
  {
   "cell_type": "code",
   "execution_count": 2,
   "metadata": {},
   "outputs": [],
   "source": [
    "@wrapper3\n",
    "def aa(x):\n",
    "    return x"
   ]
  },
  {
   "cell_type": "code",
   "execution_count": 7,
   "metadata": {},
   "outputs": [
    {
     "ename": "TypeError",
     "evalue": "inner() takes 1 positional argument but 2 were given",
     "output_type": "error",
     "traceback": [
      "\u001b[0;31m---------------------------------------------------------------------------\u001b[0m",
      "\u001b[0;31mTypeError\u001b[0m                                 Traceback (most recent call last)",
      "\u001b[0;32m<ipython-input-7-4c30606e7b7e>\u001b[0m in \u001b[0;36m<module>\u001b[0;34m\u001b[0m\n\u001b[1;32m      3\u001b[0m     \u001b[0;32mreturn\u001b[0m \u001b[0mx\u001b[0m\u001b[0;34m,\u001b[0m \u001b[0my\u001b[0m\u001b[0;34m\u001b[0m\u001b[0;34m\u001b[0m\u001b[0m\n\u001b[1;32m      4\u001b[0m \u001b[0;31m# bb = wrapper3(bb) ??!! inner의 인자가 안맞아서 오류!\u001b[0m\u001b[0;34m\u001b[0m\u001b[0;34m\u001b[0m\u001b[0;34m\u001b[0m\u001b[0m\n\u001b[0;32m----> 5\u001b[0;31m \u001b[0mbb\u001b[0m\u001b[0;34m(\u001b[0m\u001b[0;36m3\u001b[0m\u001b[0;34m,\u001b[0m\u001b[0;36m4\u001b[0m\u001b[0;34m)\u001b[0m\u001b[0;34m\u001b[0m\u001b[0;34m\u001b[0m\u001b[0m\n\u001b[0m",
      "\u001b[0;31mTypeError\u001b[0m: inner() takes 1 positional argument but 2 were given"
     ]
    }
   ],
   "source": [
    "@wrapper3\n",
    "def bb(x, y):\n",
    "    return x, y\n",
    "# bb = wrapper3(bb) ??!! inner의 인자가 안맞아서 오류!\n",
    "bb(3,4)"
   ]
  },
  {
   "cell_type": "code",
   "execution_count": 12,
   "metadata": {},
   "outputs": [],
   "source": [
    "# 데코래이터로 여러 함수에 대응할 수 있도록 햐기 위해서 가변 포지셔널, 가변 키워드 사용\n",
    "# 인자 매번 맞춰야 하므로 귀찮음"
   ]
  },
  {
   "cell_type": "code",
   "execution_count": 13,
   "metadata": {
    "scrolled": true
   },
   "outputs": [
    {
     "name": "stdout",
     "output_type": "stream",
     "text": [
      "_____\n"
     ]
    },
    {
     "ename": "TypeError",
     "evalue": "bb() missing 1 required positional argument: 'y'",
     "output_type": "error",
     "traceback": [
      "\u001b[1;31m---------------------------------------------------------------------------\u001b[0m",
      "\u001b[1;31mTypeError\u001b[0m                                 Traceback (most recent call last)",
      "\u001b[1;32m<ipython-input-13-f0eec7166959>\u001b[0m in \u001b[0;36m<module>\u001b[1;34m\u001b[0m\n\u001b[1;32m----> 1\u001b[1;33m \u001b[0mbb\u001b[0m\u001b[1;33m(\u001b[0m\u001b[1;36m1\u001b[0m\u001b[1;33m)\u001b[0m\u001b[1;33m\u001b[0m\u001b[1;33m\u001b[0m\u001b[0m\n\u001b[0m\u001b[0;32m      2\u001b[0m \u001b[1;31m# 인자갯수 안맞아서 오류\u001b[0m\u001b[1;33m\u001b[0m\u001b[1;33m\u001b[0m\u001b[1;33m\u001b[0m\u001b[0m\n",
      "\u001b[1;32m<ipython-input-9-aa16618eff96>\u001b[0m in \u001b[0;36minner\u001b[1;34m(t)\u001b[0m\n\u001b[0;32m      2\u001b[0m     \u001b[1;32mdef\u001b[0m \u001b[0minner\u001b[0m\u001b[1;33m(\u001b[0m\u001b[0mt\u001b[0m\u001b[1;33m)\u001b[0m\u001b[1;33m:\u001b[0m\u001b[1;33m\u001b[0m\u001b[1;33m\u001b[0m\u001b[0m\n\u001b[0;32m      3\u001b[0m         \u001b[0mprint\u001b[0m\u001b[1;33m(\u001b[0m\u001b[1;34m'_____'\u001b[0m\u001b[1;33m)\u001b[0m\u001b[1;33m\u001b[0m\u001b[1;33m\u001b[0m\u001b[0m\n\u001b[1;32m----> 4\u001b[1;33m         \u001b[1;32mreturn\u001b[0m \u001b[0mf\u001b[0m\u001b[1;33m(\u001b[0m\u001b[0mt\u001b[0m\u001b[1;33m)\u001b[0m\u001b[1;33m\u001b[0m\u001b[1;33m\u001b[0m\u001b[0m\n\u001b[0m\u001b[0;32m      5\u001b[0m     \u001b[1;32mreturn\u001b[0m \u001b[0minner\u001b[0m\u001b[1;33m\u001b[0m\u001b[1;33m\u001b[0m\u001b[0m\n",
      "\u001b[1;31mTypeError\u001b[0m: bb() missing 1 required positional argument: 'y'"
     ]
    }
   ],
   "source": [
    "bb(1)\n",
    "# 인자갯수 안맞아서 오류"
   ]
  },
  {
   "cell_type": "code",
   "execution_count": 14,
   "metadata": {},
   "outputs": [],
   "source": [
    "def wrapper4(f):\n",
    "    def inner(*args, **kwlist):\n",
    "        print('_____')\n",
    "        return f(*args, **kwlist)\n",
    "    return inner\n",
    "# 모든 인자에 대응될 수 있도록 가변 포지셔널, 가변 키워드 사용"
   ]
  },
  {
   "cell_type": "code",
   "execution_count": 15,
   "metadata": {},
   "outputs": [],
   "source": [
    "@wrapper4\n",
    "def aaa(x):\n",
    "    return x\n",
    "# aaa = wrapper4(aaa) = inner"
   ]
  },
  {
   "cell_type": "code",
   "execution_count": 16,
   "metadata": {},
   "outputs": [],
   "source": [
    "@wrapper4\n",
    "def bbb(x, y):\n",
    "    return x, y"
   ]
  },
  {
   "cell_type": "code",
   "execution_count": 17,
   "metadata": {},
   "outputs": [
    {
     "name": "stdout",
     "output_type": "stream",
     "text": [
      "_____\n"
     ]
    },
    {
     "data": {
      "text/plain": [
       "1"
      ]
     },
     "execution_count": 17,
     "metadata": {},
     "output_type": "execute_result"
    }
   ],
   "source": [
    "aaa(1)"
   ]
  },
  {
   "cell_type": "code",
   "execution_count": 18,
   "metadata": {},
   "outputs": [
    {
     "name": "stdout",
     "output_type": "stream",
     "text": [
      "_____\n"
     ]
    },
    {
     "data": {
      "text/plain": [
       "(1, 2)"
      ]
     },
     "execution_count": 18,
     "metadata": {},
     "output_type": "execute_result"
    }
   ],
   "source": [
    "bbb(1,2)"
   ]
  },
  {
   "cell_type": "code",
   "execution_count": 19,
   "metadata": {},
   "outputs": [
    {
     "data": {
      "text/plain": [
       "<function __main__.wrapper4.<locals>.inner(*args, **kwlist)>"
      ]
     },
     "execution_count": 19,
     "metadata": {},
     "output_type": "execute_result"
    }
   ],
   "source": [
    "bbb"
   ]
  },
  {
   "cell_type": "code",
   "execution_count": 20,
   "metadata": {},
   "outputs": [
    {
     "data": {
      "text/plain": [
       "<function __main__.wrapper4.<locals>.inner(*args, **kwlist)>"
      ]
     },
     "execution_count": 20,
     "metadata": {},
     "output_type": "execute_result"
    }
   ],
   "source": [
    "aaa"
   ]
  },
  {
   "cell_type": "markdown",
   "metadata": {},
   "source": [
    "# [why you need to use wraps](https://artemrudenko.wordpress.com/2013/04/15/python-why-you-need-to-use-wraps-with-decorators/)\n",
    "\n",
    "둘이 기능적으로 완전 다른 함수인데, 출력시 같은 것처럼 보임... 문제점...\n",
    "\n",
    "decorator이용시 wrapped function의 metadata(\\_\\_name\\_\\_, \\_\\_doc\\_\\_)를 잃어버릴 수 있다. --> 디버깅이 힘들어진다."
   ]
  },
  {
   "cell_type": "code",
   "execution_count": 8,
   "metadata": {},
   "outputs": [],
   "source": [
    "import functools\n",
    "# 이걸로 해결"
   ]
  },
  {
   "cell_type": "code",
   "execution_count": 9,
   "metadata": {},
   "outputs": [],
   "source": [
    "def wrapper5(f):\n",
    "    @functools.wraps(f)\n",
    "    def inner(*args, **kwlist):\n",
    "        print('_____')\n",
    "        return f(*args, **kwlist)\n",
    "    return inner"
   ]
  },
  {
   "cell_type": "code",
   "execution_count": 23,
   "metadata": {},
   "outputs": [],
   "source": [
    "@wrapper5\n",
    "def aaaa(x):\n",
    "    return x"
   ]
  },
  {
   "cell_type": "code",
   "execution_count": 24,
   "metadata": {},
   "outputs": [],
   "source": [
    "@wrapper5\n",
    "def bbbb(x, y):\n",
    "    return x, y"
   ]
  },
  {
   "cell_type": "code",
   "execution_count": 25,
   "metadata": {
    "scrolled": false
   },
   "outputs": [
    {
     "data": {
      "text/plain": [
       "<function __main__.aaaa(x)>"
      ]
     },
     "execution_count": 25,
     "metadata": {},
     "output_type": "execute_result"
    }
   ],
   "source": [
    "aaaa"
   ]
  },
  {
   "cell_type": "code",
   "execution_count": 26,
   "metadata": {
    "scrolled": true
   },
   "outputs": [
    {
     "data": {
      "text/plain": [
       "<function __main__.bbbb(x, y)>"
      ]
     },
     "execution_count": 26,
     "metadata": {},
     "output_type": "execute_result"
    }
   ],
   "source": [
    "bbbb"
   ]
  },
  {
   "cell_type": "markdown",
   "metadata": {},
   "source": [
    "closure : 인자에 따라서 함수 기능이 바뀜\n",
    "\n",
    "7쪽 함수에서\n",
    "closure decorator를 합침\n",
    "인자를 넣음에 따라서 decorator가 바뀜\n",
    "\n",
    "``` python\n",
    "@print_num(4)\n",
    "def foo():\n",
    "```\n",
    "\n",
    "foo = print_num(4)(foo) 와 같다.\n",
    "\n",
    "4의 값을 inner에 넘김\n",
    "\n",
    "---"
   ]
  },
  {
   "cell_type": "markdown",
   "metadata": {},
   "source": [
    "``` python\n",
    "@decorator1\n",
    "@decorator2\n",
    "def foo():\n",
    "    print(:foo)\n",
    "foo() \n",
    "```\n",
    "로 호출하지만,\n",
    "\n",
    "foo를 decorator2에 넣어서\n",
    "새로운 선언을 만들고,\n",
    "\n",
    "새로 만든 것을 decorator1에 넣어서\n",
    "새로운 선언을 만든다.\n",
    "\n",
    "데코레이터는 새로운 선언을 만들어준다.\n",
    "사용하는 법은 같다. \n",
    "\n",
    "==> 기능을 바꿨는데, 기존에 있던 소스코드를 고칠 필요가 없다.(호출 방식이 같으니까)\n",
    "\n",
    "호출시 이름은 같은데, wrapper로 변형된 함수를 호출한다.\n",
    "\n",
    "---"
   ]
  },
  {
   "cell_type": "markdown",
   "metadata": {},
   "source": [
    "``` python\n",
    "@print_num(4)\n",
    "def foo():\n",
    "```\n",
    "\n",
    "=> foo를 print_num에 넣어서 새로운 함수를 선언함\n",
    "\n",
    "=> 그리고 4를 넣어서 closure를 구현함 (넣는 값에 따라서 함수 변경)\n",
    "\n",
    "---"
   ]
  },
  {
   "cell_type": "markdown",
   "metadata": {},
   "source": [
    "overriding\n",
    "\n",
    "객체를 상속해야 한다.\n",
    "\n",
    "-> 용량이 큰 게 부모라면 부담이 크다.\n",
    "\n",
    "-> 기능을 추가하고 제거하려면 다시 컴파일 해야함\n",
    "\n",
    "vs\n",
    "\n",
    "decorator\n",
    "-> runtime때 기능을 추가하고 제거하는게 가능하다.\n",
    "\n",
    "---"
   ]
  },
  {
   "cell_type": "markdown",
   "metadata": {},
   "source": [
    "데코레이터\n",
    "``` python\n",
    "def wrapper(f):\n",
    "    @functools.wraps(f)\n",
    "    def inner(*args, **kwlist):\n",
    "        ----------------------    #기능을 추가시키고 싶을 때, 여기에 삽입한다.\n",
    "        return f(*args, **kwlist) # 함수의 기능을 바꾸고 싶을 때 여기를 수정한다.\n",
    "    return inner\n",
    "```\n",
    "\n",
    "내 함수는 그대로 실행하고 기능 추가하고 싶을 때 위에 저런 툴\n",
    "\n",
    "``` python\n",
    "def wrapper(f):\n",
    "    @functools.wraps(f)\n",
    "    def inner(*args, **kwlist):\n",
    "        ----------------------  #기능을 추가시키고 싶을 때, 여기에 삽입한다.\n",
    "        t = f(*args, **kwlist)  #원래 기능을 수행함\n",
    "        return t + 1            #다른 것을 추가함\n",
    "    return inner\n",
    "```    \n",
    "원래 기능도 바꾸고 싶을 때"
   ]
  },
  {
   "cell_type": "markdown",
   "metadata": {},
   "source": [
    "클로져\n",
    "``` python\n",
    "def wrapper(f):\n",
    "    def inner(n):\n",
    "        return f + n\n",
    "    return inner\n",
    "```\n",
    "f와 n의 상호관계를 이용함\n",
    "global한 f가 내부 함수에 유지된다."
   ]
  },
  {
   "cell_type": "code",
   "execution_count": 30,
   "metadata": {},
   "outputs": [],
   "source": [
    "import time\n",
    "import functools\n",
    "\n",
    "def wrapper99(f):\n",
    "    @functools.wraps(f)\n",
    "    def inner(*args, **kwlist):\n",
    "        now = time.time()\n",
    "        f(*args, **kwlist)  \n",
    "        end = time.time()\n",
    "        print(end - now)\n",
    "        return f(*args, **kwlist)  \n",
    "    return inner\n",
    "# 시간 측정하는 함수"
   ]
  },
  {
   "cell_type": "code",
   "execution_count": 33,
   "metadata": {},
   "outputs": [],
   "source": [
    "@wrapper99\n",
    "def zzzzz():\n",
    "    return sum(range(10000000))"
   ]
  },
  {
   "cell_type": "code",
   "execution_count": 34,
   "metadata": {},
   "outputs": [
    {
     "name": "stdout",
     "output_type": "stream",
     "text": [
      "0.32363319396972656\n"
     ]
    },
    {
     "data": {
      "text/plain": [
       "49999995000000"
      ]
     },
     "execution_count": 34,
     "metadata": {},
     "output_type": "execute_result"
    }
   ],
   "source": [
    "zzzzz()"
   ]
  },
  {
   "cell_type": "markdown",
   "metadata": {},
   "source": [
    "기존의 함수에 기능을 추가하는 방식\n",
    "\n",
    "# [decorator vs inheritance](https://stackoverflow.com/questions/4842978/decorator-pattern-versus-sub-classing)"
   ]
  },
  {
   "cell_type": "code",
   "execution_count": null,
   "metadata": {},
   "outputs": [],
   "source": [
    "def decorator1(fn):\n",
    "    print(\"decorator1\")\n",
    "    def inner1(*args, **kwargs):\n",
    "        print('inner1')\n",
    "        return fn(*args, **kwargs)\n",
    "    return inner1\n",
    "\n",
    "def decorator2(fn):\n",
    "    print(\"decorator2\")\n",
    "    def inner2(*args, **kwargs):\n",
    "        print('inner2')\n",
    "        return fn(*args, **kwargs)\n",
    "    return inner2\n",
    "\n",
    "@decorator1\n",
    "@decorator2\n",
    "def foo():\n",
    "    print(\"foo\")\n",
    "\n",
    "print()\n",
    "foo()"
   ]
  },
  {
   "cell_type": "markdown",
   "metadata": {},
   "source": [
    "``` python\n",
    "decorator2\n",
    "decorator1\n",
    "```\n",
    "는 decorating 하는 과정에서 생긴 출력이다!"
   ]
  },
  {
   "cell_type": "markdown",
   "metadata": {},
   "source": [
    "# 아래 코드는 필기하긴 했는데 전혀 논리적이지 않아서 분석하기도 좀 ;;;"
   ]
  },
  {
   "cell_type": "code",
   "execution_count": null,
   "metadata": {},
   "outputs": [],
   "source": [
    "import functools\n",
    "import time\n",
    "\n",
    "def wrapper66(f):\n",
    "    @functools.wraps(f)\n",
    "    def inner(*args, **kwlist):\n",
    "        now = time.time()\n",
    "        f()\n",
    "        end = time.time()\n",
    "        print(end - now)\n",
    "        return inner(*args, **kwlist)\n",
    "    return inner"
   ]
  },
  {
   "cell_type": "code",
   "execution_count": null,
   "metadata": {},
   "outputs": [],
   "source": [
    "@wrapper66\n",
    "def xxxxx():\n",
    "    return sum(range(10))"
   ]
  },
  {
   "cell_type": "code",
   "execution_count": null,
   "metadata": {},
   "outputs": [],
   "source": [
    "xxxxx()"
   ]
  },
  {
   "cell_type": "code",
   "execution_count": null,
   "metadata": {},
   "outputs": [],
   "source": [
    "import time\n",
    "\n",
    "def wrapper77(f):\n",
    "    @functools.wraps(f)\n",
    "    def inner(*args, **kwlist):\n",
    "        now = time.time()\n",
    "        f()\n",
    "        end = time.time()\n",
    "        print(end - now)\n",
    "        return inner\n",
    "    return inner"
   ]
  },
  {
   "cell_type": "code",
   "execution_count": null,
   "metadata": {},
   "outputs": [],
   "source": [
    "@wrapper77\n",
    "def yyyyy():\n",
    "    return sum(range(10000))"
   ]
  },
  {
   "cell_type": "code",
   "execution_count": null,
   "metadata": {},
   "outputs": [],
   "source": [
    "yyyyy()"
   ]
  },
  {
   "cell_type": "markdown",
   "metadata": {},
   "source": [
    "뭔가 잘못됨.,."
   ]
  },
  {
   "cell_type": "code",
   "execution_count": null,
   "metadata": {},
   "outputs": [],
   "source": [
    "import time\n",
    "\n",
    "def wrapper88(f):\n",
    "    @functools.wraps(f)\n",
    "    def inner(*args, **kwlist):\n",
    "        now = time.time()\n",
    "        f()\n",
    "        end = time.time()\n",
    "        print(end - now)\n",
    "        return f(*args, **kwlist)\n",
    "    return inner\n",
    "# 오류..!"
   ]
  }
 ],
 "metadata": {
  "kernelspec": {
   "display_name": "Python 3",
   "language": "python",
   "name": "python3"
  },
  "language_info": {
   "codemirror_mode": {
    "name": "ipython",
    "version": 3
   },
   "file_extension": ".py",
   "mimetype": "text/x-python",
   "name": "python",
   "nbconvert_exporter": "python",
   "pygments_lexer": "ipython3",
   "version": "3.7.2"
  }
 },
 "nbformat": 4,
 "nbformat_minor": 1
}
