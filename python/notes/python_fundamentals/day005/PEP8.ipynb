{
 "cells": [
  {
   "cell_type": "markdown",
   "metadata": {},
   "source": [
    "# [표준 PEP8](https://www.python.org/dev/peps/pep-0008/#descriptive-naming-styles)"
   ]
  },
  {
   "cell_type": "markdown",
   "metadata": {},
   "source": [
    ">Constants\n",
    ">\n",
    ">Constants are usually defined on a module level and written in all capital letters \n",
    ">\n",
    ">with underscores separating words. Examples include MAX_OVERFLOW and TOTAL."
   ]
  },
  {
   "cell_type": "markdown",
   "metadata": {},
   "source": [
    ">Always use a def statement instead of an assignment statement that binds a lambda expression directly to an identifier.\n",
    ">\n",
    ">Yes: def f(x): return 2*x\n",
    ">\n",
    ">No: f = lambda x: 2*x"
   ]
  },
  {
   "cell_type": "markdown",
   "metadata": {},
   "source": [
    "> Imports should be grouped in the following order:\n",
    "> 1. [Standard library imports.](https://docs.python.org/3/library/index.html)\n",
    "> 2. Related third party imports.\n",
    "> 3. Local application/library specific imports.\n",
    ">\n",
    "> You should put a blank line between each group of imports."
   ]
  },
  {
   "cell_type": "markdown",
   "metadata": {},
   "source": [
    ">However, in a slice the colon acts like a binary operator, and should have equal amounts on either side (treating it >as the operator with the lowest priority). In an extended slice, both colons must have the same amount of spacing >applied. Exception: when a slice parameter is omitted, the space is omitted.\n",
    ">\n",
    ">__Yes__:\n",
    ">\n",
    ">ham\\[1:9\\], ham\\[1:9:3\\], ham\\[:9:3\\], ham\\[1::3\\], ham\\[1:9:\\]\n",
    ">\n",
    ">ham\\[lower:upper\\], ham\\[lower:upper:\\], ham\\[lower::step\\]\n",
    ">\n",
    ">ham\\[lower+offset : upper+offset\\]\n",
    ">\n",
    ">>If operators with different priorities are used, consider adding whitespace around the operators with the lowest priority(ies). Use your own judgment; however, never use more than one space, and always have the same amount of whitespace on both sides of a binary operator.\n",
    ">\n",
    ">ham\\[: upper_fn(x) : step_fn(x)\\], ham\\[:: step_fn(x)\\]\n",
    ">\n",
    ">ham\\[lower + offset : upper + offset\\]\n",
    ">\n",
    ">__No__:\n",
    ">\n",
    ">ham\\[lower + offset:upper + offset\\]\n",
    ">\n",
    ">ham\\[1: 9\\], ham\\[1 :9\\], ham\\[1:9 :3\\]\n",
    ">\n",
    ">ham\\[lower : : upper\\]\n",
    ">\n",
    ">ham\\[ : upper\\]"
   ]
  },
  {
   "cell_type": "markdown",
   "metadata": {},
   "source": [
    ">If operators with different priorities are used, consider adding whitespace around the operators with the lowest \n",
    ">\n",
    ">priority(ies). Use your own judgment; however, never use more than one space, and always have the same amount of \n",
    ">\n",
    ">whitespace on both sides of a binary operator.\n",
    ">\n",
    ">__Yes__:\n",
    ">\n",
    ">x = x*2 - 1\n",
    ">\n",
    ">hypot2 = x\\*x + y\\*y\n",
    ">\n",
    ">c = (a+b) * (a-b)\n",
    ">\n",
    ">__No__:\n",
    ">\n",
    ">x = x * 2 - 1\n",
    ">\n",
    ">hypot2 = x * x + y * y\n",
    ">\n",
    ">c = (a + b) * (a - b)"
   ]
  },
  {
   "cell_type": "markdown",
   "metadata": {},
   "source": [
    "1. 길이를 확인(if len(somelist) = = 0)하여 빈 값([] 또는 '')을 확인하지 않는다. if not somelist를 사용하고, 빈 값은 암시적으로 False가 된다고 가정한다.\n",
    "2. 비어 있지 않은 값([1] 또는 'hi')에도 위와 같은 방식이 적용된다. 값이 비어 있지 않으면 if somelist 문이 암시적으로 True가 된다.\n",
    "3. 모듈을 임포트할 때는 항상 모듈의 절대 이름을 사용하며 현재 모듈의 경로를 기준으로 상대 경로로 된 이름을 사 용하지 않는다. 예를 들어 bar 패키지의 foo 모듈을 임포트하려면 그냥 import foo가 아닌 from bar import foo 라고 해야 한다.\n",
    "4. 상대적인 임포트를 해야 한다면 명시적인 구문을 써서 from . import foo라고 한다."
   ]
  }
 ],
 "metadata": {
  "kernelspec": {
   "display_name": "Python 3",
   "language": "python",
   "name": "python3"
  },
  "language_info": {
   "codemirror_mode": {
    "name": "ipython",
    "version": 3
   },
   "file_extension": ".py",
   "mimetype": "text/x-python",
   "name": "python",
   "nbconvert_exporter": "python",
   "pygments_lexer": "ipython3",
   "version": "3.7.2"
  }
 },
 "nbformat": 4,
 "nbformat_minor": 2
}
