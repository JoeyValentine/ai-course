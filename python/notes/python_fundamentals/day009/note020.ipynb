{
 "cells": [
  {
   "cell_type": "markdown",
   "metadata": {},
   "source": [
    "객체지향 :OOP 객체를 기반으로 프로그래밍 \n",
    "\n",
    "4가지 특징으로 프로그래밍하는 것을 객체지향이라고 한다. (1970년부터 살아남은 개념)\n",
    "\n",
    "요즘 언어는 대부분 객체지향언어임"
   ]
  },
  {
   "cell_type": "markdown",
   "metadata": {},
   "source": [
    "## Encapsulatiom : \n",
    "1. A language mechanism for **restricting direct access to some of the object's components.**\n",
    "    1. 인터페이스에 의존하여 기능교체, 변경이 쉬움\n",
    "    2. 객체에 포함된 정보의 손상과 오용을 막을 수 있다.\n",
    "    3. 데이터가 바뀌어도 다른 객체에 영향을 주지 않아 독립성이 유지된다.\n",
    "2. A language construct that facilitates the **bundling of data with the methods** (or other functions) operating on that data.\n",
    "    1. 코드를 수정할 때 어디를 고쳐야 하는지 명확히 알 수 있다. (해당 클래스를 찾아가면 됨)\n",
    "    2. 해당 객체만 method를 사용할 수 있어서 method의 오용을 막을 수 있다.\n",
    "    3. 절차지향보다 해당 객체가 무엇을 하는지 이해하기 쉽다.\n",
    "\n",
    "특징 : 외부에서 접근 불가\n",
    "\n",
    "절차지향(C)에서는 값만 묶을 수 있다. (struct, union), 객체지향에서는 함수와 값을 묶을 수 있음\n",
    "\n",
    "class(값과 행동을 묶음), function(instructions들을 묶음),  struct, union"
   ]
  },
  {
   "cell_type": "markdown",
   "metadata": {},
   "source": [
    "## 추상화 : Hides unwanted details while showing most essential info.\n",
    "## Allows focussing on what the obj must contain"
   ]
  },
  {
   "cell_type": "markdown",
   "metadata": {},
   "source": [
    "## 상속 : 상위 개념의 특징을 하위 개념이 물려 받는 것\n",
    "\n",
    "위에서 구현한 것을 물려받음(재사용성 짱짱)\n",
    "\n",
    "공통된 코드 하나로 묶어서 상속만 받아서 재사용한다."
   ]
  },
  {
   "cell_type": "markdown",
   "metadata": {},
   "source": [
    "## 다형성 : 하나의 이름으로 다양한 함수를 호출하는 기능\n",
    "ex) operator overloading, overriding, \n",
    "\n",
    "물려 받아서 다양한 형태로 재정의 가능 : overriding"
   ]
  },
  {
   "cell_type": "code",
   "execution_count": 2,
   "metadata": {},
   "outputs": [],
   "source": [
    "class A:\n",
    "    x = 1\n",
    "    def y(self):\n",
    "        return 2\n",
    "\n",
    "# 클래스는 값과 함수를 묶음"
   ]
  },
  {
   "cell_type": "markdown",
   "metadata": {},
   "source": [
    "# 모든 클래스는 object한테 (항상) 상속받음\n",
    "# (object) 안써도 항상 상속받음\n",
    "``` python\n",
    "class A(object):\n",
    "    x = 1\n",
    "    def y(self):\n",
    "        return 2\n",
    "```"
   ]
  },
  {
   "cell_type": "code",
   "execution_count": 3,
   "metadata": {},
   "outputs": [],
   "source": [
    "a = A() # 인스턴스화 : 인스턴스 == 객체"
   ]
  },
  {
   "cell_type": "code",
   "execution_count": 4,
   "metadata": {
    "scrolled": true
   },
   "outputs": [
    {
     "data": {
      "text/plain": [
       "['__class__',\n",
       " '__delattr__',\n",
       " '__dict__',\n",
       " '__dir__',\n",
       " '__doc__',\n",
       " '__eq__',\n",
       " '__format__',\n",
       " '__ge__',\n",
       " '__getattribute__',\n",
       " '__gt__',\n",
       " '__hash__',\n",
       " '__init__',\n",
       " '__init_subclass__',\n",
       " '__le__',\n",
       " '__lt__',\n",
       " '__module__',\n",
       " '__ne__',\n",
       " '__new__',\n",
       " '__reduce__',\n",
       " '__reduce_ex__',\n",
       " '__repr__',\n",
       " '__setattr__',\n",
       " '__sizeof__',\n",
       " '__str__',\n",
       " '__subclasshook__',\n",
       " '__weakref__',\n",
       " 'x',\n",
       " 'y']"
      ]
     },
     "execution_count": 4,
     "metadata": {},
     "output_type": "execute_result"
    }
   ],
   "source": [
    "dir(A)\n",
    "# A가 사용할 수 있는 모든 것들을 return함\n",
    "\n",
    "# 2개 밖에 선언 안했는데 __class__가 나오는 이유 == object를 상속해서"
   ]
  },
  {
   "cell_type": "code",
   "execution_count": null,
   "metadata": {},
   "outputs": [],
   "source": [
    "a.x \n",
    "# dir안에 정의된 것을 사용하려면 '.'으로 사용함\n",
    "# dir(A)에 있는 것만 사용가능함 == 캡슐화 == 제한을 걸어서 실수할 확률이 줄어든다.\n",
    "# && class안에 추가, 삭제 가능 == 유지보수 up up\n",
    "# class 내부안에만 있어서 정의쪽만 보면 됨"
   ]
  },
  {
   "cell_type": "code",
   "execution_count": 7,
   "metadata": {},
   "outputs": [
    {
     "ename": "AttributeError",
     "evalue": "'A' object has no attribute 'b'",
     "output_type": "error",
     "traceback": [
      "\u001b[1;31m---------------------------------------------------------------------------\u001b[0m",
      "\u001b[1;31mAttributeError\u001b[0m                            Traceback (most recent call last)",
      "\u001b[1;32m<ipython-input-7-63a3269141f0>\u001b[0m in \u001b[0;36m<module>\u001b[1;34m\u001b[0m\n\u001b[1;32m----> 1\u001b[1;33m \u001b[0ma\u001b[0m\u001b[1;33m.\u001b[0m\u001b[0mb\u001b[0m\u001b[1;33m\u001b[0m\u001b[1;33m\u001b[0m\u001b[0m\n\u001b[0m\u001b[0;32m      2\u001b[0m \u001b[1;31m# nameError 아님\u001b[0m\u001b[1;33m\u001b[0m\u001b[1;33m\u001b[0m\u001b[1;33m\u001b[0m\u001b[0m\n",
      "\u001b[1;31mAttributeError\u001b[0m: 'A' object has no attribute 'b'"
     ]
    }
   ],
   "source": [
    "a.b\n",
    "# nameError 아님\n",
    "# python에서는 class내부의 원소(method, obj)들을 attribute라고 부른다."
   ]
  },
  {
   "cell_type": "code",
   "execution_count": 5,
   "metadata": {
    "scrolled": true
   },
   "outputs": [
    {
     "data": {
      "text/plain": [
       "['__class__',\n",
       " '__delattr__',\n",
       " '__dir__',\n",
       " '__doc__',\n",
       " '__eq__',\n",
       " '__format__',\n",
       " '__ge__',\n",
       " '__getattribute__',\n",
       " '__gt__',\n",
       " '__hash__',\n",
       " '__init__',\n",
       " '__init_subclass__',\n",
       " '__le__',\n",
       " '__lt__',\n",
       " '__ne__',\n",
       " '__new__',\n",
       " '__reduce__',\n",
       " '__reduce_ex__',\n",
       " '__repr__',\n",
       " '__setattr__',\n",
       " '__sizeof__',\n",
       " '__str__',\n",
       " '__subclasshook__']"
      ]
     },
     "execution_count": 5,
     "metadata": {},
     "output_type": "execute_result"
    }
   ],
   "source": [
    "dir(object)"
   ]
  },
  {
   "cell_type": "markdown",
   "metadata": {},
   "source": [
    "자바는 다중 상속 불가 : 복잡함 제거 , 대신 interface 사용 \n",
    "\n",
    "c++ 다중상속 가능 : 상속 순서에 따라서 오류, 코드 복잡\n",
    "\n",
    "python : 다중 상속 가능"
   ]
  },
  {
   "cell_type": "markdown",
   "metadata": {},
   "source": [
    "모든 객체지향은 절차지향 방식이다.\n",
    "\n",
    "모든 함수형 프로그래밍은 선언적 방식이다.\n",
    "\n",
    "python은 둘다 가능\n",
    "\n",
    "python으로 상황에 맞게 구현 가능 : \n",
    "\n",
    "1. 자동화(비슷한 패턴으로 행동)는 절차적방식이 좋음\n",
    "2. 함수형 == 성능이 중요할 때\n",
    "3. 객체지향(유지보수가 빈번할 때 사용, 프로젝트가 클수록 좋다. == 캡슐로 분리 가능)"
   ]
  },
  {
   "cell_type": "code",
   "execution_count": 9,
   "metadata": {},
   "outputs": [
    {
     "data": {
      "text/plain": [
       "__main__.A"
      ]
     },
     "execution_count": 9,
     "metadata": {},
     "output_type": "execute_result"
    }
   ],
   "source": [
    "type(a) \n",
    "# type은 객체의 클래스 이름을 알려주는 함수\n",
    "# __main__ : 현재 작업하는 곳 ?????"
   ]
  },
  {
   "cell_type": "code",
   "execution_count": 10,
   "metadata": {},
   "outputs": [],
   "source": [
    "b = 1 # 자주 쓰는 타입은 literal을 제공해서 편리하게 객체 생성 가능\n",
    "# int(1)의 단축 표현임"
   ]
  },
  {
   "cell_type": "code",
   "execution_count": null,
   "metadata": {},
   "outputs": [],
   "source": [
    "b = int(1) # 원칙적으로는 객체는 이렇게 만들어야 함, 인스턴스가 생김"
   ]
  },
  {
   "cell_type": "code",
   "execution_count": null,
   "metadata": {},
   "outputs": [],
   "source": [
    "c = 1. # 자주 쓰는 타입은 literal을 제공해서 편리하게 객체 생성 가능"
   ]
  },
  {
   "cell_type": "code",
   "execution_count": null,
   "metadata": {},
   "outputs": [],
   "source": [
    "c = float(1.) # 원칙적으로는 객체는 이렇게 만들어야 함"
   ]
  },
  {
   "cell_type": "code",
   "execution_count": 11,
   "metadata": {},
   "outputs": [
    {
     "data": {
      "text/plain": [
       "int"
      ]
     },
     "execution_count": 11,
     "metadata": {},
     "output_type": "execute_result"
    }
   ],
   "source": [
    "type(b)\n",
    "# int는 class 이름이다."
   ]
  },
  {
   "cell_type": "markdown",
   "metadata": {},
   "source": [
    "값을 만드는 방식\n",
    "1. 인스턴스\n",
    "2. literal 방식"
   ]
  }
 ],
 "metadata": {
  "kernelspec": {
   "display_name": "Python 3",
   "language": "python",
   "name": "python3"
  },
  "language_info": {
   "codemirror_mode": {
    "name": "ipython",
    "version": 3
   },
   "file_extension": ".py",
   "mimetype": "text/x-python",
   "name": "python",
   "nbconvert_exporter": "python",
   "pygments_lexer": "ipython3",
   "version": "3.7.2"
  }
 },
 "nbformat": 4,
 "nbformat_minor": 2
}
