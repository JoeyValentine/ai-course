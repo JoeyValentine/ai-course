{
 "cells": [
  {
   "cell_type": "markdown",
   "metadata": {},
   "source": [
    "# c로 만든 python은 왜 c만큼 안 빠른 것일까?  \n",
    "type이 없어서 해당 type에 attribute가 존재하는지 매 순간 확인하므로 속도가 느리다.  \n",
    "\n",
    "python : 타입을 명확하게 작성 안해도 되므로 사람한테 편하다.  \n",
    "\n",
    "c언어 : 한번에 assembly언어로 만들어서 최적화 시킨다.  \n",
    "인터프리터는 한 줄 한 줄 체크함 == 사람입장에서는 더 편하다\n",
    "\n",
    "python list : 동적이라서 알아서 크기를 관리해준다. & hetero가능 == 사용자에게 편함  \n",
    "    \n",
    "numpy : type check안해도 됨, 메모리 구조상 빠르다.\n",
    "\n",
    "numpy가 느린 경우:\n",
    "    \n",
    "1. 데이터 사이즈가 작을 경우 느리다. == numpy객체로 변환시킬 때 cost가 소모됨\n",
    "2. 니가 잘못함 ^~^"
   ]
  },
  {
   "cell_type": "markdown",
   "metadata": {},
   "source": [
    "# np.shape, np.dtype만으로 다른 정보를 파생시킬 수 있음\n",
    "# 2개만 숙지하고 있으면 될 듯"
   ]
  },
  {
   "cell_type": "markdown",
   "metadata": {},
   "source": [
    "numpy는 무조건 homogeneous이다. == type check안해서 훨씬 빠르다.  \n",
    "numpy객체 생성할 때 type을 맞춘다.\n",
    "``` python\n",
    ">>> b = np.array([(1.5,2,3), (4,5,6)])\n",
    ">>> b\n",
    "array([[ 1.5,  2. ,  3. ],\n",
    "       [ 4. ,  5. ,  6. ]])\n",
    "```   \n",
    "더 큰 type으로 변환시킨다.\n",
    "\n",
    "---"
   ]
  },
  {
   "cell_type": "markdown",
   "metadata": {},
   "source": [
    "# print 에서 shape읽는 방법\n",
    "\n",
    "``` python\n",
    ">>> c = np.arange(24).reshape(2,3,4)         # 3d array\n",
    ">>> print(c)\n",
    "[[[ 0  1  2  3]\n",
    "  [ 4  5  6  7]\n",
    "  [ 8  9 10 11]]\n",
    " [[12 13 14 15]\n",
    "  [16 17 18 19]\n",
    "  [20 21 22 23]]]\n",
    "```\n",
    "# 괄호 하나 없애면 원소 2개\n",
    "``` python\n",
    "[[ 0  1  2  3]\n",
    " [ 4  5  6  7]\n",
    " [ 8  9 10 11]]\n",
    "\n",
    "[[12 13 14 15]\n",
    " [16 17 18 19]\n",
    " [20 21 22 23]]\n",
    "원소 2개\n",
    "```\n",
    "\n",
    "# 괄호 2개 없애면 원소 3개\n",
    "``` python\n",
    "[ 0  1  2  3]\n",
    "[ 4  5  6  7]\n",
    "[ 8  9 10 11]\n",
    "\n",
    "```\n",
    "\n",
    "# 괄호 3개 없애면 원소 4개\n",
    "0  1  2  3"
   ]
  },
  {
   "cell_type": "markdown",
   "metadata": {},
   "source": [
    "# [basic operation](https://docs.scipy.org/doc/numpy/user/quickstart.html#basic-operations)은 shape를 맞춰야 한다.\n",
    "# [universal function](https://docs.scipy.org/doc/numpy/user/quickstart.html#broadcasting-rules)은 shape를 안맞춰도 broadcasting해줘서 계산해준다."
   ]
  },
  {
   "cell_type": "code",
   "execution_count": 6,
   "metadata": {},
   "outputs": [],
   "source": [
    "import numpy as np"
   ]
  },
  {
   "cell_type": "code",
   "execution_count": 7,
   "metadata": {},
   "outputs": [],
   "source": [
    "a = np.array([1,2,3])"
   ]
  },
  {
   "cell_type": "code",
   "execution_count": 9,
   "metadata": {},
   "outputs": [],
   "source": [
    "b = np.array([[1,2],[3,2],[3,4]])"
   ]
  },
  {
   "cell_type": "code",
   "execution_count": 10,
   "metadata": {},
   "outputs": [
    {
     "data": {
      "text/plain": [
       "array([[16, 18]])"
      ]
     },
     "execution_count": 10,
     "metadata": {},
     "output_type": "execute_result"
    }
   ],
   "source": [
    "a[np.newaxis] @ b\n",
    "# 2차원"
   ]
  },
  {
   "cell_type": "code",
   "execution_count": 11,
   "metadata": {
    "scrolled": true
   },
   "outputs": [
    {
     "data": {
      "text/plain": [
       "array([16, 18])"
      ]
     },
     "execution_count": 11,
     "metadata": {},
     "output_type": "execute_result"
    }
   ],
   "source": [
    "a @ b \n",
    "# 1차원"
   ]
  },
  {
   "cell_type": "markdown",
   "metadata": {},
   "source": [
    "원하는 결과(차원)에 따라서 np.newaxis를 넣는다."
   ]
  },
  {
   "cell_type": "markdown",
   "metadata": {},
   "source": [
    "indexing && slicing 쓰는 용도??  \n",
    "빅데이터는 직접 만들기 보다는 원래 있던 데이터에서 내가 원하는 데이터를 추출핲 때 indexing, slicing을 사용한다."
   ]
  },
  {
   "cell_type": "markdown",
   "metadata": {},
   "source": [
    "# ravel : 1차원 만들어줘서 view를 \n",
    "# flatten : copy"
   ]
  },
  {
   "cell_type": "code",
   "execution_count": 16,
   "metadata": {
    "scrolled": true
   },
   "outputs": [
    {
     "ename": "TypeError",
     "evalue": "must be real number, not list",
     "traceback": [
      "\u001b[0;31m---------------------------------------------------------------------------\u001b[0m",
      "\u001b[0;31mTypeError\u001b[0m                                 Traceback (most recent call last)",
      "\u001b[0;32m<ipython-input-16-422e77285723>\u001b[0m in \u001b[0;36m<module>\u001b[0;34m\u001b[0m\n\u001b[1;32m      1\u001b[0m \u001b[0;31m# universal function : 여러개의 값을 한번에 처리할 수 있다. == vectorize == 속도 매우 빠르고 메모리 효율적이다.\u001b[0m\u001b[0;34m\u001b[0m\u001b[0;34m\u001b[0m\u001b[0;34m\u001b[0m\u001b[0m\n\u001b[1;32m      2\u001b[0m \u001b[0;32mimport\u001b[0m \u001b[0mmath\u001b[0m\u001b[0;34m\u001b[0m\u001b[0;34m\u001b[0m\u001b[0m\n\u001b[0;32m----> 3\u001b[0;31m \u001b[0mmath\u001b[0m\u001b[0;34m.\u001b[0m\u001b[0msqrt\u001b[0m\u001b[0;34m(\u001b[0m\u001b[0;34m[\u001b[0m\u001b[0;36m3\u001b[0m\u001b[0;34m,\u001b[0m\u001b[0;36m4\u001b[0m\u001b[0;34m]\u001b[0m\u001b[0;34m)\u001b[0m\u001b[0;34m\u001b[0m\u001b[0;34m\u001b[0m\u001b[0m\n\u001b[0m\u001b[1;32m      4\u001b[0m \u001b[0;31m# 여러개 계산하는 것 불가능\u001b[0m\u001b[0;34m\u001b[0m\u001b[0;34m\u001b[0m\u001b[0;34m\u001b[0m\u001b[0m\n",
      "\u001b[0;31mTypeError\u001b[0m: must be real number, not list"
     ],
     "output_type": "error"
    }
   ],
   "source": [
    "# universal function : 여러개의 값을 한번에 처리할 수 있다. == vectorize == 속도 매우 빠르고 메모리 효율적이다.\n",
    "import math\n",
    "math.sqrt([3,4])\n",
    "# 여러개 계산하는 것 불가능"
   ]
  },
  {
   "cell_type": "code",
   "execution_count": 15,
   "metadata": {},
   "outputs": [
    {
     "data": {
      "text/plain": [
       "array([2., 3.])"
      ]
     },
     "execution_count": 15,
     "metadata": {},
     "output_type": "execute_result"
    }
   ],
   "source": [
    "np.sqrt([4,9])\n",
    "# 여러개 계산 가능"
   ]
  },
  {
   "cell_type": "markdown",
   "metadata": {},
   "source": [
    "ix_ : 함수 cartesian product"
   ]
  },
  {
   "cell_type": "markdown",
   "metadata": {},
   "source": [
    "# numpy는 선형대수 기법을 제공해줌\n",
    "vectorize == 속도 매우 빠르고 메모리 효율적이다."
   ]
  }
 ],
 "metadata": {
  "kernelspec": {
   "display_name": "Python 3",
   "language": "python",
   "name": "python3"
  },
  "language_info": {
   "codemirror_mode": {
    "name": "ipython",
    "version": 3.0
   },
   "file_extension": ".py",
   "mimetype": "text/x-python",
   "name": "python",
   "nbconvert_exporter": "python",
   "pygments_lexer": "ipython3",
   "version": "3.7.2"
  }
 },
 "nbformat": 4,
 "nbformat_minor": 0
}