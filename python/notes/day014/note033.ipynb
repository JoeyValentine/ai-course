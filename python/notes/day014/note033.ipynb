{
 "cells": [
  {
   "cell_type": "markdown",
   "metadata": {},
   "source": [
    "python에 좋은 framework가 많다??? frame-work가 뭐야\n",
    "\n",
    "기계(인공)가 사람이 하는 이해,인식,추론.. (지능)하는 학문을 인공지능이라고 함\n",
    "\n",
    "인공지능 == 기계학습 or 딥러닝 두가지만 살아남음"
   ]
  },
  {
   "cell_type": "markdown",
   "metadata": {},
   "source": [
    "과거 인공지능 : 지식기반 if문으로 처리, 사람이 기준을 만듦. 단점 : 예외 사항이 많다."
   ]
  },
  {
   "cell_type": "markdown",
   "metadata": {},
   "source": [
    "numpy는 속도가 느린 python의 단점을 보완해주고 사용하기도 쉽다.\n",
    "\n",
    "공통점 : 많은 데이터를 이용해서 기계한테 학습시킨다. (python한테 부적합, 속도가 느림)\n",
    "초기에는 python이 느려서 수치해석에 못 씀. numpy등장 이후 데이터 속도 처리가 빨라진다.\n",
    "모든 알고리즘을 선형대수학적 관점으로 봐야한다."
   ]
  },
  {
   "cell_type": "markdown",
   "metadata": {},
   "source": [
    "numpy장점 : 속도 느림을 해결함. 어떻게? \n",
    "glue language : c를 이용해서 추가 lib을 만들 수 있다.\n",
    "numpy 내부 구조를 c로 만듦. 속도는 빠른데 사용은 python처럼 쉽게 씀 \n",
    "\n",
    "numpy기반으로 matplotlib만듦, scipy, panda... ,tensorflow, pytorch 계속 성공함"
   ]
  },
  {
   "cell_type": "markdown",
   "metadata": {},
   "source": [
    "system은 c, c++로 짜는데, matlab sas r로 짠 거... system화 하려면 포팅해야함\n",
    "분석을 matlab로 하면 단점 : 다른 언어로 porting하는데 문제가 있다.\n",
    "분석을 python으로 하면 시스템화 하기 좋다."
   ]
  },
  {
   "cell_type": "markdown",
   "metadata": {},
   "source": [
    "데이터를 분석하는 기법 중 하나가 인공지능이라 서로 밀접하다."
   ]
  }
 ],
 "metadata": {
  "kernelspec": {
   "display_name": "Python 3",
   "language": "python",
   "name": "python3"
  },
  "language_info": {
   "codemirror_mode": {
    "name": "ipython",
    "version": 3
   },
   "file_extension": ".py",
   "mimetype": "text/x-python",
   "name": "python",
   "nbconvert_exporter": "python",
   "pygments_lexer": "ipython3",
   "version": "3.7.2"
  }
 },
 "nbformat": 4,
 "nbformat_minor": 2
}
