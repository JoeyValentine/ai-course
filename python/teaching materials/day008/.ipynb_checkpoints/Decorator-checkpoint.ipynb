{
 "cells": [
  {
   "cell_type": "markdown",
   "metadata": {},
   "source": [
    "## First Class"
   ]
  },
  {
   "cell_type": "markdown",
   "metadata": {},
   "source": [
    "- can be created at runtime\n",
    "- can be assigned to a variable\n",
    "- can be passed as a argument to a function\n",
    "- can be returned as the result of a function"
   ]
  },
  {
   "cell_type": "code",
   "execution_count": 2,
   "metadata": {
    "scrolled": true
   },
   "outputs": [
    {
     "name": "stdout",
     "output_type": "stream",
     "text": [
      "Hi i am a function\n"
     ]
    }
   ],
   "source": [
    "def hello(x):\n",
    "    print(\"Hi i am a function\")\n",
    "    \n",
    "hello(12)"
   ]
  },
  {
   "cell_type": "code",
   "execution_count": 2,
   "metadata": {},
   "outputs": [
    {
     "name": "stdout",
     "output_type": "stream",
     "text": [
      "Hi i am a function\n",
      "None\n"
     ]
    }
   ],
   "source": [
    "def hello(x):\n",
    "    print(\"Hi i am a function\")\n",
    "\n",
    "firs=hello # 자바에선 불가능함(first class가 아님, HO임)\n",
    "\n",
    "# 할당 오른쪽엔 expression이여야 함, 식이란==값으로 요약되어야 함, first class라 가능 함수는 값이니까\n",
    "# first class function이라서 higher order function임 == return, parameter로 함수 전달 가능\n",
    "# HO가 더 큰 개념임\n",
    "\n",
    "\n",
    "# first class function == 값으로 사용할 수 있음을 뜻한다.\n",
    "# == 할당 가능\n",
    "\n",
    "print(firs(12))"
   ]
  },
  {
   "cell_type": "markdown",
   "metadata": {},
   "source": [
    "---\n",
    "\n",
    "# first class function == 값으로 사용할 수 있음을 뜻한다.\n",
    "\n",
    "---"
   ]
  },
  {
   "cell_type": "code",
   "execution_count": 4,
   "metadata": {},
   "outputs": [
    {
     "name": "stdout",
     "output_type": "stream",
     "text": [
      "Hello i am print\n"
     ]
    }
   ],
   "source": [
    "Ankit=print\n",
    "Ankit(\"Hello i am print\")"
   ]
  },
  {
   "cell_type": "markdown",
   "metadata": {},
   "source": [
    "---"
   ]
  },
  {
   "cell_type": "code",
   "execution_count": 7,
   "metadata": {},
   "outputs": [
    {
     "name": "stdout",
     "output_type": "stream",
     "text": [
      "['In', 'Out', '_', '_5', '_6', '__', '___', '__builtin__', '__builtins__', '__doc__', '__loader__', '__name__', '__package__', '__spec__', '_dh', '_i', '_i1', '_i2', '_i3', '_i4', '_i5', '_i6', '_i7', '_ih', '_ii', '_iii', '_oh', 'exit', 'get_ipython', 'quit']\n"
     ]
    },
    {
     "ename": "NameError",
     "evalue": "name 'hello' is not defined",
     "output_type": "error",
     "traceback": [
      "\u001b[0;31m---------------------------------------------------------------------------\u001b[0m",
      "\u001b[0;31mNameError\u001b[0m                                 Traceback (most recent call last)",
      "\u001b[0;32m<ipython-input-7-8e5e283f3992>\u001b[0m in \u001b[0;36m<module>\u001b[0;34m\u001b[0m\n\u001b[1;32m      7\u001b[0m \u001b[0;31m# reference count가 0가 되면, garbage collector가 hello를 주워서 나중에 버린다.\u001b[0m\u001b[0;34m\u001b[0m\u001b[0;34m\u001b[0m\u001b[0;34m\u001b[0m\u001b[0m\n\u001b[1;32m      8\u001b[0m \u001b[0mprint\u001b[0m\u001b[0;34m(\u001b[0m\u001b[0mdir\u001b[0m\u001b[0;34m(\u001b[0m\u001b[0;34m)\u001b[0m\u001b[0;34m)\u001b[0m\u001b[0;34m\u001b[0m\u001b[0;34m\u001b[0m\u001b[0m\n\u001b[0;32m----> 9\u001b[0;31m \u001b[0mhello\u001b[0m\u001b[0;34m(\u001b[0m\u001b[0;36m12\u001b[0m\u001b[0;34m)\u001b[0m\u001b[0;34m\u001b[0m\u001b[0;34m\u001b[0m\u001b[0m\n\u001b[0m",
      "\u001b[0;31mNameError\u001b[0m: name 'hello' is not defined"
     ]
    }
   ],
   "source": [
    "def hello(x):\n",
    "    print(\"Hi i am a function\")\n",
    "\n",
    "firs=hello\n",
    "del hello\n",
    "del firs\n",
    "# reference count가 0가 되면, garbage collector가 hello를 주워서 나중에 버린다.\n",
    "print(dir())\n",
    "hello(12)"
   ]
  },
  {
   "cell_type": "code",
   "execution_count": 9,
   "metadata": {},
   "outputs": [
    {
     "name": "stdout",
     "output_type": "stream",
     "text": [
      "['In', 'Out', '_', '_5', '_6', '__', '___', '__builtin__', '__builtins__', '__doc__', '__loader__', '__name__', '__package__', '__spec__', '_dh', '_i', '_i1', '_i2', '_i3', '_i4', '_i5', '_i6', '_i7', '_i8', '_i9', '_ih', '_ii', '_iii', '_oh', 'exit', 'firs', 'get_ipython', 'quit']\n",
      "Hi i am a function\n"
     ]
    }
   ],
   "source": [
    "def hello(x):\n",
    "    print(\"Hi i am a function\")\n",
    "\n",
    "firs=hello\n",
    "del hello\n",
    "# del firs\n",
    "print(dir()) # namespace에 firs 존재\n",
    "firs(12)"
   ]
  },
  {
   "cell_type": "code",
   "execution_count": 10,
   "metadata": {
    "scrolled": true
   },
   "outputs": [
    {
     "name": "stdout",
     "output_type": "stream",
     "text": [
      "Hi i am a function\n",
      "False\n"
     ]
    },
    {
     "ename": "AttributeError",
     "evalue": "'int' object has no attribute '__call__'",
     "output_type": "error",
     "traceback": [
      "\u001b[0;31m---------------------------------------------------------------------------\u001b[0m",
      "\u001b[0;31mAttributeError\u001b[0m                            Traceback (most recent call last)",
      "\u001b[0;32m<ipython-input-10-120ba412933e>\u001b[0m in \u001b[0;36m<module>\u001b[0;34m\u001b[0m\n\u001b[1;32m      5\u001b[0m \u001b[0mfirs\u001b[0m\u001b[0;34m=\u001b[0m\u001b[0mhello\u001b[0m\u001b[0;34m(\u001b[0m\u001b[0;36m1\u001b[0m\u001b[0;34m)\u001b[0m\u001b[0;34m\u001b[0m\u001b[0;34m\u001b[0m\u001b[0m\n\u001b[1;32m      6\u001b[0m \u001b[0mprint\u001b[0m\u001b[0;34m(\u001b[0m\u001b[0mcallable\u001b[0m\u001b[0;34m(\u001b[0m\u001b[0mfirs\u001b[0m\u001b[0;34m)\u001b[0m\u001b[0;34m)\u001b[0m \u001b[0;31m# 상수라서 not callable\u001b[0m\u001b[0;34m\u001b[0m\u001b[0;34m\u001b[0m\u001b[0m\n\u001b[0;32m----> 7\u001b[0;31m \u001b[0mfirs\u001b[0m\u001b[0;34m.\u001b[0m\u001b[0m__call__\u001b[0m\u001b[0;34m(\u001b[0m\u001b[0;34m)\u001b[0m\u001b[0;34m\u001b[0m\u001b[0;34m\u001b[0m\u001b[0m\n\u001b[0m\u001b[1;32m      8\u001b[0m \u001b[0;31m# dir(firs)\u001b[0m\u001b[0;34m\u001b[0m\u001b[0;34m\u001b[0m\u001b[0;34m\u001b[0m\u001b[0m\n\u001b[1;32m      9\u001b[0m \u001b[0;31m# print(firs(12))\u001b[0m\u001b[0;34m\u001b[0m\u001b[0;34m\u001b[0m\u001b[0;34m\u001b[0m\u001b[0m\n",
      "\u001b[0;31mAttributeError\u001b[0m: 'int' object has no attribute '__call__'"
     ]
    }
   ],
   "source": [
    "def hello(x):\n",
    "    print(\"Hi i am a function\")\n",
    "    return 1\n",
    " \n",
    "firs=hello(1) \n",
    "print(callable(firs)) # 상수라서 not callable\n",
    "firs.__call__()\n",
    "# dir(firs)\n",
    "# print(firs(12))"
   ]
  },
  {
   "cell_type": "code",
   "execution_count": 3,
   "metadata": {},
   "outputs": [],
   "source": [
    "def hello(x):\n",
    "    print(\"Hi i am a function\")\n",
    "    return hello\n",
    " \n",
    "# firs=hello(1)\n",
    "# print(firs(12))"
   ]
  },
  {
   "cell_type": "code",
   "execution_count": 4,
   "metadata": {},
   "outputs": [
    {
     "name": "stdout",
     "output_type": "stream",
     "text": [
      "Hi i am a function\n",
      "Hi i am a function\n",
      "Hi i am a function\n"
     ]
    },
    {
     "data": {
      "text/plain": [
       "<function __main__.hello(x)>"
      ]
     },
     "execution_count": 4,
     "metadata": {},
     "output_type": "execute_result"
    }
   ],
   "source": [
    "hello(1)(5)(2)"
   ]
  },
  {
   "cell_type": "code",
   "execution_count": 5,
   "metadata": {},
   "outputs": [
    {
     "name": "stdout",
     "output_type": "stream",
     "text": [
      "Hi i am a function\n",
      "Hi i am a function\n",
      "Hi i am a function\n",
      "Hi i am a function\n"
     ]
    }
   ],
   "source": [
    "firs = hello(1)(2)(3)(4)\n",
    "# 값 처럼 생겼지만 firs는 함수임...! python의 함수는 일급 함수여서 값으로 요약 가능하다."
   ]
  },
  {
   "cell_type": "markdown",
   "metadata": {},
   "source": [
    "--- "
   ]
  },
  {
   "cell_type": "code",
   "execution_count": 12,
   "metadata": {
    "scrolled": false
   },
   "outputs": [
    {
     "name": "stdout",
     "output_type": "stream",
     "text": [
      "Hi i am a function\n",
      "12.333333333333334\n"
     ]
    }
   ],
   "source": [
    "def hello(x):\n",
    "    print(\"Hi i am a function\")\n",
    "    x+=132\n",
    "    x=x/12\n",
    "    print(x)\n",
    "\n",
    "\n",
    "hello(16)\n",
    "# Out이 없으니까 함수 return이 None이다."
   ]
  },
  {
   "cell_type": "code",
   "execution_count": 16,
   "metadata": {},
   "outputs": [
    {
     "name": "stdout",
     "output_type": "stream",
     "text": [
      "Hi i am a function\n",
      "12.333333333333334\n"
     ]
    },
    {
     "ename": "NameError",
     "evalue": "name 'x' is not defined",
     "output_type": "error",
     "traceback": [
      "\u001b[0;31m---------------------------------------------------------------------------\u001b[0m",
      "\u001b[0;31mNameError\u001b[0m                                 Traceback (most recent call last)",
      "\u001b[0;32m<ipython-input-16-829914ad28fc>\u001b[0m in \u001b[0;36m<module>\u001b[0;34m()\u001b[0m\n\u001b[1;32m     14\u001b[0m \u001b[0;34m\u001b[0m\u001b[0m\n\u001b[1;32m     15\u001b[0m \u001b[0;34m\u001b[0m\u001b[0m\n\u001b[0;32m---> 16\u001b[0;31m \u001b[0mbye\u001b[0m\u001b[0;34m(\u001b[0m\u001b[0;36m12\u001b[0m\u001b[0;34m)\u001b[0m\u001b[0;34m\u001b[0m\u001b[0m\n\u001b[0m",
      "\u001b[0;32m<ipython-input-16-829914ad28fc>\u001b[0m in \u001b[0;36mbye\u001b[0;34m(y)\u001b[0m\n\u001b[1;32m     10\u001b[0m \u001b[0;34m\u001b[0m\u001b[0m\n\u001b[1;32m     11\u001b[0m \u001b[0;32mdef\u001b[0m \u001b[0mbye\u001b[0m\u001b[0;34m(\u001b[0m\u001b[0my\u001b[0m\u001b[0;34m)\u001b[0m\u001b[0;34m:\u001b[0m\u001b[0;34m\u001b[0m\u001b[0m\n\u001b[0;32m---> 12\u001b[0;31m     \u001b[0mz\u001b[0m\u001b[0;34m=\u001b[0m\u001b[0mx\u001b[0m\u001b[0;34m+\u001b[0m\u001b[0my\u001b[0m\u001b[0;34m\u001b[0m\u001b[0m\n\u001b[0m\u001b[1;32m     13\u001b[0m     \u001b[0mprint\u001b[0m\u001b[0;34m(\u001b[0m\u001b[0mz\u001b[0m\u001b[0;34m)\u001b[0m\u001b[0;34m\u001b[0m\u001b[0m\n\u001b[1;32m     14\u001b[0m \u001b[0;34m\u001b[0m\u001b[0m\n",
      "\u001b[0;31mNameError\u001b[0m: name 'x' is not defined"
     ]
    }
   ],
   "source": [
    "def hello(x):\n",
    "    print(\"Hi i am a function\")\n",
    "    x+=132\n",
    "    x=x/12\n",
    "    print(x)\n",
    "\n",
    "\n",
    "hello(16)\n",
    "\n",
    "\n",
    "def bye(y):\n",
    "    # 밖에 x가 없으므로 error : LEGB\n",
    "    z=x+y\n",
    "    print(z)\n",
    "\n",
    "\n",
    "bye(12)"
   ]
  },
  {
   "cell_type": "code",
   "execution_count": 3,
   "metadata": {
    "scrolled": false
   },
   "outputs": [
    {
     "name": "stdout",
     "output_type": "stream",
     "text": [
      "Hi i am a function\n",
      "16\n"
     ]
    },
    {
     "ename": "NameError",
     "evalue": "name 'x' is not defined",
     "output_type": "error",
     "traceback": [
      "\u001b[0;31m---------------------------------------------------------------------------\u001b[0m",
      "\u001b[0;31mNameError\u001b[0m                                 Traceback (most recent call last)",
      "\u001b[0;32m<ipython-input-3-2513b7d0a61d>\u001b[0m in \u001b[0;36m<module>\u001b[0;34m\u001b[0m\n\u001b[1;32m     15\u001b[0m \u001b[0;34m\u001b[0m\u001b[0m\n\u001b[1;32m     16\u001b[0m \u001b[0;34m\u001b[0m\u001b[0m\n\u001b[0;32m---> 17\u001b[0;31m \u001b[0mbye\u001b[0m\u001b[0;34m(\u001b[0m\u001b[0;36m12\u001b[0m\u001b[0;34m)\u001b[0m\u001b[0;34m\u001b[0m\u001b[0;34m\u001b[0m\u001b[0m\n\u001b[0m",
      "\u001b[0;32m<ipython-input-3-2513b7d0a61d>\u001b[0m in \u001b[0;36mbye\u001b[0;34m(y)\u001b[0m\n\u001b[1;32m     11\u001b[0m \u001b[0;32mdef\u001b[0m \u001b[0mbye\u001b[0m\u001b[0;34m(\u001b[0m\u001b[0my\u001b[0m\u001b[0;34m)\u001b[0m\u001b[0;34m:\u001b[0m\u001b[0;34m\u001b[0m\u001b[0;34m\u001b[0m\u001b[0m\n\u001b[1;32m     12\u001b[0m     \u001b[0;31m# 밖에 x가 없으므로 error\u001b[0m\u001b[0;34m\u001b[0m\u001b[0;34m\u001b[0m\u001b[0;34m\u001b[0m\u001b[0m\n\u001b[0;32m---> 13\u001b[0;31m     \u001b[0mz\u001b[0m\u001b[0;34m=\u001b[0m\u001b[0mx\u001b[0m\u001b[0;34m+\u001b[0m\u001b[0my\u001b[0m\u001b[0;34m\u001b[0m\u001b[0;34m\u001b[0m\u001b[0m\n\u001b[0m\u001b[1;32m     14\u001b[0m     \u001b[0mprint\u001b[0m\u001b[0;34m(\u001b[0m\u001b[0mz\u001b[0m\u001b[0;34m)\u001b[0m\u001b[0;34m\u001b[0m\u001b[0;34m\u001b[0m\u001b[0m\n\u001b[1;32m     15\u001b[0m \u001b[0;34m\u001b[0m\u001b[0m\n",
      "\u001b[0;31mNameError\u001b[0m: name 'x' is not defined"
     ]
    }
   ],
   "source": [
    "def hello(x):\n",
    "    print(\"Hi i am a function\")\n",
    "    print(x)\n",
    "    x+=132\n",
    "    x=x/12\n",
    "\n",
    "    \n",
    "hello(16)\n",
    " \n",
    "    \n",
    "def bye(y):\n",
    "    # x값이 없으므로 name-error\n",
    "    z=x+y\n",
    "    print(z)\n",
    "\n",
    "    \n",
    "bye(12)"
   ]
  },
  {
   "cell_type": "code",
   "execution_count": 7,
   "metadata": {
    "scrolled": false
   },
   "outputs": [
    {
     "name": "stdout",
     "output_type": "stream",
     "text": [
      "0\n"
     ]
    }
   ],
   "source": [
    "a = 0\n",
    "def hi(x):\n",
    "    print(a) # global variable에 대해서는 access 가능하다.\n",
    "hi(3)\n",
    "\n",
    "# LEGB"
   ]
  },
  {
   "cell_type": "code",
   "execution_count": 8,
   "metadata": {
    "scrolled": false
   },
   "outputs": [
    {
     "ename": "NameError",
     "evalue": "name 't' is not defined",
     "output_type": "error",
     "traceback": [
      "\u001b[0;31m---------------------------------------------------------------------------\u001b[0m",
      "\u001b[0;31mNameError\u001b[0m                                 Traceback (most recent call last)",
      "\u001b[0;32m<ipython-input-8-0ff08fbc0e0f>\u001b[0m in \u001b[0;36m<module>\u001b[0;34m\u001b[0m\n\u001b[1;32m      2\u001b[0m \u001b[0;32mdef\u001b[0m \u001b[0mhi\u001b[0m\u001b[0;34m(\u001b[0m\u001b[0mx\u001b[0m\u001b[0;34m)\u001b[0m\u001b[0;34m:\u001b[0m\u001b[0;34m\u001b[0m\u001b[0;34m\u001b[0m\u001b[0m\n\u001b[1;32m      3\u001b[0m     \u001b[0mprint\u001b[0m\u001b[0;34m(\u001b[0m\u001b[0mt\u001b[0m\u001b[0;34m)\u001b[0m\u001b[0;34m\u001b[0m\u001b[0;34m\u001b[0m\u001b[0m\n\u001b[0;32m----> 4\u001b[0;31m \u001b[0mhi\u001b[0m\u001b[0;34m(\u001b[0m\u001b[0;36m3\u001b[0m\u001b[0;34m)\u001b[0m\u001b[0;34m\u001b[0m\u001b[0;34m\u001b[0m\u001b[0m\n\u001b[0m\u001b[1;32m      5\u001b[0m \u001b[0;34m\u001b[0m\u001b[0m\n\u001b[1;32m      6\u001b[0m \u001b[0;31m# LEGB를 봤더니 없어서 name error\u001b[0m\u001b[0;34m\u001b[0m\u001b[0;34m\u001b[0m\u001b[0;34m\u001b[0m\u001b[0m\n",
      "\u001b[0;32m<ipython-input-8-0ff08fbc0e0f>\u001b[0m in \u001b[0;36mhi\u001b[0;34m(x)\u001b[0m\n\u001b[1;32m      1\u001b[0m \u001b[0ma\u001b[0m \u001b[0;34m=\u001b[0m \u001b[0;36m0\u001b[0m\u001b[0;34m\u001b[0m\u001b[0;34m\u001b[0m\u001b[0m\n\u001b[1;32m      2\u001b[0m \u001b[0;32mdef\u001b[0m \u001b[0mhi\u001b[0m\u001b[0;34m(\u001b[0m\u001b[0mx\u001b[0m\u001b[0;34m)\u001b[0m\u001b[0;34m:\u001b[0m\u001b[0;34m\u001b[0m\u001b[0;34m\u001b[0m\u001b[0m\n\u001b[0;32m----> 3\u001b[0;31m     \u001b[0mprint\u001b[0m\u001b[0;34m(\u001b[0m\u001b[0mt\u001b[0m\u001b[0;34m)\u001b[0m\u001b[0;34m\u001b[0m\u001b[0;34m\u001b[0m\u001b[0m\n\u001b[0m\u001b[1;32m      4\u001b[0m \u001b[0mhi\u001b[0m\u001b[0;34m(\u001b[0m\u001b[0;36m3\u001b[0m\u001b[0;34m)\u001b[0m\u001b[0;34m\u001b[0m\u001b[0;34m\u001b[0m\u001b[0m\n\u001b[1;32m      5\u001b[0m \u001b[0;34m\u001b[0m\u001b[0m\n",
      "\u001b[0;31mNameError\u001b[0m: name 't' is not defined"
     ]
    }
   ],
   "source": [
    "a = 0\n",
    "def hi(x):\n",
    "    print(t)\n",
    "hi(3)\n",
    "\n",
    "# LEGB를 봤더니 없어서 name error"
   ]
  },
  {
   "cell_type": "code",
   "execution_count": 5,
   "metadata": {
    "scrolled": true
   },
   "outputs": [
    {
     "ename": "UnboundLocalError",
     "evalue": "local variable 't' referenced before assignment",
     "output_type": "error",
     "traceback": [
      "\u001b[0;31m---------------------------------------------------------------------------\u001b[0m",
      "\u001b[0;31mUnboundLocalError\u001b[0m                         Traceback (most recent call last)",
      "\u001b[0;32m<ipython-input-5-c2698441b8cd>\u001b[0m in \u001b[0;36m<module>\u001b[0;34m\u001b[0m\n\u001b[1;32m      3\u001b[0m     \u001b[0mprint\u001b[0m\u001b[0;34m(\u001b[0m\u001b[0mt\u001b[0m\u001b[0;34m)\u001b[0m\u001b[0;34m\u001b[0m\u001b[0;34m\u001b[0m\u001b[0m\n\u001b[1;32m      4\u001b[0m     \u001b[0mt\u001b[0m \u001b[0;34m=\u001b[0m \u001b[0;36m0\u001b[0m\u001b[0;34m\u001b[0m\u001b[0;34m\u001b[0m\u001b[0m\n\u001b[0;32m----> 5\u001b[0;31m \u001b[0mhi\u001b[0m\u001b[0;34m(\u001b[0m\u001b[0;36m3\u001b[0m\u001b[0;34m)\u001b[0m\u001b[0;34m\u001b[0m\u001b[0;34m\u001b[0m\u001b[0m\n\u001b[0m",
      "\u001b[0;32m<ipython-input-5-c2698441b8cd>\u001b[0m in \u001b[0;36mhi\u001b[0;34m(x)\u001b[0m\n\u001b[1;32m      1\u001b[0m \u001b[0ma\u001b[0m \u001b[0;34m=\u001b[0m \u001b[0;36m0\u001b[0m\u001b[0;34m\u001b[0m\u001b[0;34m\u001b[0m\u001b[0m\n\u001b[1;32m      2\u001b[0m \u001b[0;32mdef\u001b[0m \u001b[0mhi\u001b[0m\u001b[0;34m(\u001b[0m\u001b[0mx\u001b[0m\u001b[0;34m)\u001b[0m\u001b[0;34m:\u001b[0m\u001b[0;34m\u001b[0m\u001b[0;34m\u001b[0m\u001b[0m\n\u001b[0;32m----> 3\u001b[0;31m     \u001b[0mprint\u001b[0m\u001b[0;34m(\u001b[0m\u001b[0mt\u001b[0m\u001b[0;34m)\u001b[0m\u001b[0;34m\u001b[0m\u001b[0;34m\u001b[0m\u001b[0m\n\u001b[0m\u001b[1;32m      4\u001b[0m     \u001b[0mt\u001b[0m \u001b[0;34m=\u001b[0m \u001b[0;36m0\u001b[0m\u001b[0;34m\u001b[0m\u001b[0;34m\u001b[0m\u001b[0m\n\u001b[1;32m      5\u001b[0m \u001b[0mhi\u001b[0m\u001b[0;34m(\u001b[0m\u001b[0;36m3\u001b[0m\u001b[0;34m)\u001b[0m\u001b[0;34m\u001b[0m\u001b[0;34m\u001b[0m\u001b[0m\n",
      "\u001b[0;31mUnboundLocalError\u001b[0m: local variable 't' referenced before assignment"
     ]
    }
   ],
   "source": [
    "a = 0\n",
    "def hi(x):\n",
    "    print(t)\n",
    "    t = 0\n",
    "hi(3)\n",
    "\n",
    "# hi 에서 t를 찾을 때 LEGB\n",
    "# local에서 먼저 찾는다.\n",
    "# local에 존재하는데 == name은 있는데,\n",
    "# 부를 때 값이 초기화 안됨 == unboundlocal error\n",
    "# assignment는 binding이라고도 한다."
   ]
  },
  {
   "cell_type": "code",
   "execution_count": 18,
   "metadata": {},
   "outputs": [
    {
     "name": "stdout",
     "output_type": "stream",
     "text": [
      "Hi i am a function\n",
      "12.333333333333334\n",
      "24.333333333333336\n"
     ]
    }
   ],
   "source": [
    "def hello(x):\n",
    "    print(\"Hi i am a function\")\n",
    "    x+=132\n",
    "    x=x/12\n",
    "    print(x)\n",
    "    return x\n",
    "\n",
    "\n",
    "ref=hello(16)\n",
    "\n",
    "def bye(y):\n",
    "    # global 영역에 ref가 있으므로 error가 없음\n",
    "    z=ref+y\n",
    "    print(z)\n",
    "\n",
    "\n",
    "bye(12)"
   ]
  },
  {
   "cell_type": "code",
   "execution_count": 7,
   "metadata": {},
   "outputs": [
    {
     "name": "stdout",
     "output_type": "stream",
     "text": [
      "hello\n",
      "look\n"
     ]
    }
   ],
   "source": [
    "def bye():\n",
    "    print(\"look\")\n",
    "\n",
    "# python함수는 일급함수이므로 argument로 함수를 전달할 수 있음\n",
    "def hello(fun):\n",
    "    print(\"hello\")\n",
    "    fun()\n",
    "\n",
    "\n",
    "hello(bye)"
   ]
  },
  {
   "cell_type": "code",
   "execution_count": 8,
   "metadata": {
    "scrolled": true
   },
   "outputs": [
    {
     "name": "stdout",
     "output_type": "stream",
     "text": [
      "hello\n",
      "This is my real fun bye\n",
      "look\n"
     ]
    }
   ],
   "source": [
    "def bye():\n",
    "    print(\"look\")\n",
    "\n",
    "    \n",
    "def hello(fun):\n",
    "    print(\"hello\")\n",
    "    print(\"This is my real fun\",fun.__name__) # fun.__name__을 통해 함수 원래 name을 출력할 수 있다.\n",
    "    fun()\n",
    "\n",
    "\n",
    "hello(bye)"
   ]
  },
  {
   "cell_type": "markdown",
   "metadata": {},
   "source": [
    "# [python underscore meanings](https://mingrammer.com/underscore-in-python/)\n",
    "# [ \\_\\_name\\_\\_  용도](https://www.geeksforgeeks.org/__name__-special-variable-python/)"
   ]
  },
  {
   "cell_type": "code",
   "execution_count": 7,
   "metadata": {},
   "outputs": [],
   "source": [
    "def bye():\n",
    "    print(\"look\")\n",
    "    return 0\n",
    "\n",
    "def hello():\n",
    "    print(\"hello\")\n",
    "    return 0\n",
    "\n",
    "def byea(r):\n",
    "    print(\"oh\",r)\n",
    "    return 0"
   ]
  },
  {
   "cell_type": "code",
   "execution_count": 8,
   "metadata": {
    "scrolled": true
   },
   "outputs": [
    {
     "name": "stdout",
     "output_type": "stream",
     "text": [
      "look\n",
      "hello\n",
      "oh 12\n"
     ]
    }
   ],
   "source": [
    "l=[bye(),hello(),byea(12)]\n",
    "# 실행되고 결과가 들어가고...\n",
    "\n",
    "# first class function 이라서\n",
    "# [bye,hello,byea] 도 가능\n",
    "\n",
    "# ctrl + shift + - \n",
    "# 셀 분리 가능\n",
    "\n",
    "# shift + m\n",
    "# 셀 병합"
   ]
  },
  {
   "cell_type": "code",
   "execution_count": 10,
   "metadata": {
    "scrolled": true
   },
   "outputs": [
    {
     "name": "stdout",
     "output_type": "stream",
     "text": [
      "[0, 0, 0]\n",
      "[0, 0, 0]\n",
      "[0, 0, 0]\n"
     ]
    }
   ],
   "source": [
    "for a in l:\n",
    "    print(l)"
   ]
  },
  {
   "cell_type": "markdown",
   "metadata": {},
   "source": [
    "## closure"
   ]
  },
  {
   "cell_type": "code",
   "execution_count": 11,
   "metadata": {},
   "outputs": [
    {
     "name": "stdout",
     "output_type": "stream",
     "text": [
      "11\n",
      "0\n"
     ]
    }
   ],
   "source": [
    "def helllo(x):\n",
    "    x=11 # LEGB에서 E가 먼저 찾아지므로 closure가 아님, 즉 고정된 값을 사용해서 변화하지 않음\n",
    "    def bye():\n",
    "        print(x) \n",
    "        # helllo의 argument인 x와 inner함수 내부의 x와 관련이 있어야 closure이다. \n",
    "        # 하지만 enclosing에 있는 x를 참조해서 closure가 아니다.\n",
    "        return 0\n",
    "    return bye\n",
    "\n",
    "\n",
    "er=helllo(12)\n",
    "print(er())\n",
    "\n",
    "# 함수 중첩되면 return값을 봐야한다.\n",
    "\n",
    "# helllo는 closure가 아니다."
   ]
  },
  {
   "cell_type": "markdown",
   "metadata": {},
   "source": [
    "A closure remembers the values from its enclosing lexical scope even when the program flow is no longer in that scope.\n",
    "\n",
    "In practical terms this means not only can functions return behaviors but they can also pre-configure those behaviors."
   ]
  },
  {
   "cell_type": "code",
   "execution_count": 25,
   "metadata": {},
   "outputs": [],
   "source": [
    "import math\n",
    "\n",
    "def demo_one():\n",
    "    return math.sqrt # return a function"
   ]
  },
  {
   "cell_type": "code",
   "execution_count": 26,
   "metadata": {},
   "outputs": [
    {
     "name": "stdout",
     "output_type": "stream",
     "text": [
      "ankit\n",
      "ANKIT\n"
     ]
    }
   ],
   "source": [
    "def hello(x):\n",
    "    def by():\n",
    "        print(x) # hello의 x에 의해서 내부 함수 by()의 행동이 변한다. == > closure이다.\n",
    "        return x.upper()\n",
    "    return by\n",
    "\n",
    "# 첫번째 인자에 의해서 결과가 달라지는지 확인하고 변하면 closure임\n",
    "print(hello(\"ankit\")())"
   ]
  },
  {
   "cell_type": "code",
   "execution_count": 28,
   "metadata": {
    "scrolled": true
   },
   "outputs": [
    {
     "name": "stdout",
     "output_type": "stream",
     "text": [
      "6\n"
     ]
    }
   ],
   "source": [
    "def funcwrapper(y):\n",
    "    def addone(x):\n",
    "        return x + y + 1  # funcwrapper의 y에 의해서 내부 함수 addone()의 행동이 변한다. == > closure이다.\n",
    "    return addone\n",
    "\n",
    "result = funcwrapper(3)(2)\n",
    "print(result)"
   ]
  },
  {
   "cell_type": "markdown",
   "metadata": {},
   "source": [
    "## nested\n",
    "- using return\n",
    "- using closure\n",
    "- using func()()"
   ]
  },
  {
   "cell_type": "code",
   "execution_count": 14,
   "metadata": {
    "scrolled": true
   },
   "outputs": [
    {
     "name": "stdout",
     "output_type": "stream",
     "text": [
      "waa\n"
     ]
    }
   ],
   "source": [
    "def hello(x):\n",
    "    def bye(f):  # hello의 x에 의해서 내부 함수 bye()의 행동이 안 변한다. == > closure 아니다.\n",
    "        print(\"waa\")\n",
    "    return bye\n",
    "hello(12)(11)\n",
    "# 실행할 때\n",
    "# 맨 외곽은 첫번쨰 괄호에 \n",
    "# 중첩은 그다음에...\n",
    "# 중첩된 순서로 괄호"
   ]
  },
  {
   "cell_type": "markdown",
   "metadata": {},
   "source": [
    "### using return"
   ]
  },
  {
   "cell_type": "code",
   "execution_count": 17,
   "metadata": {
    "scrolled": true
   },
   "outputs": [
    {
     "name": "stdout",
     "output_type": "stream",
     "text": [
      "I am nested function 12\n",
      "None\n"
     ]
    }
   ],
   "source": [
    "def demo(x):\n",
    "    def ine():\n",
    "        print(\"I am nested function\",x)\n",
    "    return ine()\n",
    "print(demo(12))\n",
    "\n",
    "#!!!!!!!!!!!!!!!"
   ]
  },
  {
   "cell_type": "markdown",
   "metadata": {},
   "source": [
    "### using closure"
   ]
  },
  {
   "cell_type": "code",
   "execution_count": 15,
   "metadata": {
    "scrolled": true
   },
   "outputs": [
    {
     "name": "stdout",
     "output_type": "stream",
     "text": [
      "I am nested function 12\n",
      "None\n"
     ]
    }
   ],
   "source": [
    "def demo(x): # x 있으니까 param넘겨줘야 함\n",
    "    def ine():\n",
    "        print(\"I am nested function\",x)\n",
    "    return ine\n",
    "print(demo(12)())"
   ]
  },
  {
   "cell_type": "markdown",
   "metadata": {},
   "source": [
    "### using func()()"
   ]
  },
  {
   "cell_type": "code",
   "execution_count": 32,
   "metadata": {
    "scrolled": false
   },
   "outputs": [
    {
     "name": "stdout",
     "output_type": "stream",
     "text": [
      "I am nested function 12\n"
     ]
    }
   ],
   "source": [
    "def demo(x):\n",
    "    def ine():\n",
    "        print(\"I am nested function\",x)\n",
    "    return ine\n",
    "\n",
    "demo(12)()"
   ]
  },
  {
   "cell_type": "code",
   "execution_count": 33,
   "metadata": {},
   "outputs": [
    {
     "name": "stdout",
     "output_type": "stream",
     "text": [
      "waa\n",
      "None\n"
     ]
    }
   ],
   "source": [
    "def hello(x):\n",
    "    def bye(f):\n",
    "        print(\"waa\")\n",
    "    return bye\n",
    "io=hello(12)\n",
    "print(io(1))"
   ]
  },
  {
   "cell_type": "code",
   "execution_count": 18,
   "metadata": {},
   "outputs": [
    {
     "name": "stdout",
     "output_type": "stream",
     "text": [
      "before the decoratr\n",
      "hk\n",
      "after the decorat\n",
      "None\n"
     ]
    }
   ],
   "source": [
    "def hello(func): # 함수를 인자로 받아서\n",
    "    def bye(x):\n",
    "        print(\"before the decoratr\")\n",
    "        func(x)  # 그 함수를 중첩 함수 내부에서 실행 == decorator 사용이 가능하다.\n",
    "        print(\"after the decorat\")\n",
    "    return bye\n",
    "\n",
    "def hi(sa):\n",
    "    print(\"hk\")\n",
    "\n",
    "# hi(1)\n",
    "# df=hello(hi)\n",
    "print(hello(hi)(1))"
   ]
  },
  {
   "cell_type": "code",
   "execution_count": 39,
   "metadata": {},
   "outputs": [
    {
     "name": "stdout",
     "output_type": "stream",
     "text": [
      "before the decoratr\n",
      "hk\n",
      "after the decorat\n"
     ]
    }
   ],
   "source": [
    "def hello(func):\n",
    "    def bye(x):\n",
    "        print(\"before the decoratr\")\n",
    "        func(x)\n",
    "        print(\"after the decorat\")\n",
    "    return bye\n",
    "\n",
    "@hello\n",
    "def hi(sa):\n",
    "    print(\"hk\")\n",
    "\n",
    "hi(1)"
   ]
  },
  {
   "cell_type": "code",
   "execution_count": 40,
   "metadata": {},
   "outputs": [
    {
     "name": "stdout",
     "output_type": "stream",
     "text": [
      "This is stuff before decorator\n",
      "this function want to use decorator\n",
      "this is stuff after decorator\n",
      "None\n"
     ]
    }
   ],
   "source": [
    "def hello(func):\n",
    "    def wrapper(x):\n",
    "        print(\"This is stuff before decorator\")\n",
    "        func(x)\n",
    "        print(\"this is stuff after decorator\")\n",
    "    return wrapper\n",
    "\n",
    "def testingfunc(x):\n",
    "    print(\"this function want to use decorator\")\n",
    "\n",
    "closure=hello(testingfunc)\n",
    "print(closure(12))"
   ]
  },
  {
   "cell_type": "code",
   "execution_count": 31,
   "metadata": {},
   "outputs": [],
   "source": [
    "def extrafun(hi):\n",
    "    # hi가 함수 내부에 들어있으면, colsure처럼 사용 가능\n",
    "    def decorator(func):\n",
    "        def wrapper(x):\n",
    "            print('before decoraoting')\n",
    "            func(x)\n",
    "            print('After decoraoting', hi) # 밖의 함수의 argument와 내부 함수가 연관이 있을 때 (쓰일 때) closure라고 함\n",
    "        return wrapper\n",
    "    return decorator\n",
    "# decorator에 closure를 포함함\n",
    "\n",
    "@extrafun(12) # 12는 closure의 인자\n",
    "def newfunc(c):\n",
    "    print(\"this is new function\")\n",
    "\n",
    "newfunc(12)"
   ]
  },
  {
   "cell_type": "code",
   "execution_count": 14,
   "metadata": {},
   "outputs": [
    {
     "ename": "TypeError",
     "evalue": "hi() missing 1 required positional argument: 'sa'",
     "output_type": "error",
     "traceback": [
      "\u001b[0;31m---------------------------------------------------------------------------\u001b[0m",
      "\u001b[0;31mTypeError\u001b[0m                                 Traceback (most recent call last)",
      "\u001b[0;32m<ipython-input-14-81b065e6eb46>\u001b[0m in \u001b[0;36m<module>\u001b[0;34m\u001b[0m\n\u001b[1;32m      8\u001b[0m     \u001b[0;32mpass\u001b[0m\u001b[0;34m\u001b[0m\u001b[0;34m\u001b[0m\u001b[0m\n\u001b[1;32m      9\u001b[0m \u001b[0;34m\u001b[0m\u001b[0m\n\u001b[0;32m---> 10\u001b[0;31m \u001b[0mhi\u001b[0m\u001b[0;34m(\u001b[0m\u001b[0;34m)\u001b[0m\u001b[0;34m\u001b[0m\u001b[0;34m\u001b[0m\u001b[0m\n\u001b[0m",
      "\u001b[0;32m<ipython-input-14-81b065e6eb46>\u001b[0m in \u001b[0;36mbye\u001b[0;34m()\u001b[0m\n\u001b[1;32m      1\u001b[0m \u001b[0;32mdef\u001b[0m \u001b[0mhello\u001b[0m\u001b[0;34m(\u001b[0m\u001b[0mfunc\u001b[0m\u001b[0;34m)\u001b[0m\u001b[0;34m:\u001b[0m\u001b[0;34m\u001b[0m\u001b[0;34m\u001b[0m\u001b[0m\n\u001b[1;32m      2\u001b[0m     \u001b[0;32mdef\u001b[0m \u001b[0mbye\u001b[0m\u001b[0;34m(\u001b[0m\u001b[0;34m)\u001b[0m\u001b[0;34m:\u001b[0m\u001b[0;34m\u001b[0m\u001b[0;34m\u001b[0m\u001b[0m\n\u001b[0;32m----> 3\u001b[0;31m         \u001b[0mfunc\u001b[0m\u001b[0;34m(\u001b[0m\u001b[0;34m)\u001b[0m\u001b[0;34m\u001b[0m\u001b[0;34m\u001b[0m\u001b[0m\n\u001b[0m\u001b[1;32m      4\u001b[0m     \u001b[0;32mreturn\u001b[0m \u001b[0mbye\u001b[0m\u001b[0;34m\u001b[0m\u001b[0;34m\u001b[0m\u001b[0m\n\u001b[1;32m      5\u001b[0m \u001b[0;34m\u001b[0m\u001b[0m\n",
      "\u001b[0;31mTypeError\u001b[0m: hi() missing 1 required positional argument: 'sa'"
     ]
    }
   ],
   "source": [
    "def hello(func):\n",
    "    def bye():\n",
    "        func()  # 밖의 함수의 argument에 있는 함수가 내부 함수에서 호출될 때 decorator라고 함\n",
    "                # return 값과 상관 없다.\n",
    "    return bye\n",
    "\n",
    "@hello\n",
    "def hi(sa):\n",
    "    pass\n",
    "\n",
    "hi()"
   ]
  },
  {
   "cell_type": "code",
   "execution_count": 50,
   "metadata": {},
   "outputs": [
    {
     "ename": "TypeError",
     "evalue": "bye() takes 0 positional arguments but 1 was given",
     "output_type": "error",
     "traceback": [
      "\u001b[0;31m---------------------------------------------------------------------------\u001b[0m",
      "\u001b[0;31mTypeError\u001b[0m                                 Traceback (most recent call last)",
      "\u001b[0;32m<ipython-input-50-14d58fb8c51d>\u001b[0m in \u001b[0;36m<module>\u001b[0;34m()\u001b[0m\n\u001b[1;32m      8\u001b[0m     \u001b[0;32mpass\u001b[0m\u001b[0;34m\u001b[0m\u001b[0m\n\u001b[1;32m      9\u001b[0m \u001b[0;34m\u001b[0m\u001b[0m\n\u001b[0;32m---> 10\u001b[0;31m \u001b[0mhi\u001b[0m\u001b[0;34m(\u001b[0m\u001b[0;36m1\u001b[0m\u001b[0;34m)\u001b[0m\u001b[0;34m\u001b[0m\u001b[0m\n\u001b[0m",
      "\u001b[0;31mTypeError\u001b[0m: bye() takes 0 positional arguments but 1 was given"
     ]
    }
   ],
   "source": [
    "def hello(func):\n",
    "    def bye():\n",
    "        func()\n",
    "    return bye\n",
    "\n",
    "@hello\n",
    "def hi(sa):\n",
    "    pass\n",
    "\n",
    "hi(1)"
   ]
  },
  {
   "cell_type": "code",
   "execution_count": 51,
   "metadata": {},
   "outputs": [
    {
     "ename": "TypeError",
     "evalue": "bye() takes 1 positional argument but 2 were given",
     "output_type": "error",
     "traceback": [
      "\u001b[0;31m---------------------------------------------------------------------------\u001b[0m",
      "\u001b[0;31mTypeError\u001b[0m                                 Traceback (most recent call last)",
      "\u001b[0;32m<ipython-input-51-1a28bf2039cd>\u001b[0m in \u001b[0;36m<module>\u001b[0;34m()\u001b[0m\n\u001b[1;32m     13\u001b[0m \u001b[0;32mdef\u001b[0m \u001b[0mhi2\u001b[0m\u001b[0;34m(\u001b[0m\u001b[0ma\u001b[0m\u001b[0;34m,\u001b[0m\u001b[0mb\u001b[0m\u001b[0;34m)\u001b[0m\u001b[0;34m:\u001b[0m\u001b[0;34m\u001b[0m\u001b[0m\n\u001b[1;32m     14\u001b[0m     \u001b[0mprint\u001b[0m\u001b[0;34m(\u001b[0m\u001b[0;34m\"two parameter\"\u001b[0m\u001b[0;34m)\u001b[0m\u001b[0;34m\u001b[0m\u001b[0m\n\u001b[0;32m---> 15\u001b[0;31m \u001b[0mhi2\u001b[0m\u001b[0;34m(\u001b[0m\u001b[0;36m1\u001b[0m\u001b[0;34m,\u001b[0m\u001b[0;36m2\u001b[0m\u001b[0;34m)\u001b[0m\u001b[0;34m\u001b[0m\u001b[0m\n\u001b[0m",
      "\u001b[0;31mTypeError\u001b[0m: bye() takes 1 positional argument but 2 were given"
     ]
    }
   ],
   "source": [
    "def hello(func):\n",
    "    def bye(e):\n",
    "        func(e)\n",
    "    return bye\n",
    "\n",
    "@hello\n",
    "def hi(sa):\n",
    "    pass\n",
    "\n",
    "hi(1)\n",
    "\n",
    "@hello\n",
    "def hi2(a,b):\n",
    "    print(\"two parameter\")\n",
    "hi2(1,2)"
   ]
  },
  {
   "cell_type": "code",
   "execution_count": 52,
   "metadata": {},
   "outputs": [
    {
     "name": "stdout",
     "output_type": "stream",
     "text": [
      "wow\n",
      "two parameter\n"
     ]
    }
   ],
   "source": [
    "def hello(func):\n",
    "    def bye(*args,**kwargs):\n",
    "        func(*args)\n",
    "    return bye\n",
    "\n",
    "@hello\n",
    "def hi(sa):\n",
    "    print(\"wow\")\n",
    "\n",
    "hi(1)\n",
    "\n",
    "@hello\n",
    "def hi2(a,b):\n",
    "    print(\"two parameter\")\n",
    "\n",
    "hi2(1,2)"
   ]
  },
  {
   "cell_type": "markdown",
   "metadata": {},
   "source": [
    "default값 주의\n",
    "1. time.time 주의, 계속 변하는 값\n",
    "2. mutable형태 주의, 다음 호출시 주의\n",
    "\n",
    "가변인자쓰면 인자가 박제되어서 고정방식이라 메모리상 큰 손해가 없다."
   ]
  },
  {
   "cell_type": "code",
   "execution_count": 42,
   "metadata": {},
   "outputs": [
    {
     "name": "stdout",
     "output_type": "stream",
     "text": [
      "before decoraoting\n",
      "this is new function\n",
      "After decoraoting\n"
     ]
    }
   ],
   "source": [
    "def extrafun(hi):\n",
    "    def decorator(func):\n",
    "        def wrapper(x):\n",
    "            print('before decoraoting')\n",
    "            func(x)\n",
    "            print('After decoraoting')\n",
    "        return wrapper\n",
    "    return decorator\n",
    "\n",
    "def newfunc(c):\n",
    "    print(\"this is new function\")\n",
    "\n",
    "func1=extrafun(12)(newfunc)\n",
    "func1(12)"
   ]
  },
  {
   "cell_type": "code",
   "execution_count": 44,
   "metadata": {},
   "outputs": [
    {
     "name": "stdout",
     "output_type": "stream",
     "text": [
      "before decoraoting\n",
      "this is new function\n",
      "After decoraoting\n"
     ]
    }
   ],
   "source": [
    "def extrafun(hi):\n",
    "    def decorator(func):\n",
    "        def wrapper(x):\n",
    "            print('before decoraoting')\n",
    "            func(x)\n",
    "            print('After decoraoting')\n",
    "        return wrapper\n",
    "    return decorator\n",
    "\n",
    "#내부 함수와 상관없어서 \n",
    "@extrafun(12)\n",
    "def newfunc(c):\n",
    "    print(\"this is new function\")\n",
    "\n",
    "newfunc(12)"
   ]
  },
  {
   "cell_type": "code",
   "execution_count": null,
   "metadata": {},
   "outputs": [],
   "source": [
    "def extrafun(hi):\n",
    "    def decorator(func):\n",
    "        def wrapper(x):\n",
    "            print('before decoraoting')\n",
    "            func(x)\n",
    "            print('After decoraoting')\n",
    "        return wrapper\n",
    "    return decorator\n",
    "\n",
    "# 엉터리로 함수 선언해도 에러 안난다고 호출할 때 에러 안나는게 아니다. 대신 호출하면 에러남\n",
    "@extrafun\n",
    "def newfunc(c):\n",
    "    print(\"this is new function\")\n",
    "\n",
    "newfunc(12)"
   ]
  },
  {
   "cell_type": "code",
   "execution_count": 9,
   "metadata": {},
   "outputs": [],
   "source": [
    "a = 1\n",
    "def f():\n",
    "    a = a + 1\n",
    "    return a"
   ]
  },
  {
   "cell_type": "code",
   "execution_count": 10,
   "metadata": {},
   "outputs": [
    {
     "ename": "UnboundLocalError",
     "evalue": "local variable 'a' referenced before assignment",
     "output_type": "error",
     "traceback": [
      "\u001b[0;31m---------------------------------------------------------------------------\u001b[0m",
      "\u001b[0;31mUnboundLocalError\u001b[0m                         Traceback (most recent call last)",
      "\u001b[0;32m<ipython-input-10-a63dd01fd949>\u001b[0m in \u001b[0;36m<module>\u001b[0;34m\u001b[0m\n\u001b[1;32m      1\u001b[0m \u001b[0;31m# 함수 : 선언, 호출\u001b[0m\u001b[0;34m\u001b[0m\u001b[0;34m\u001b[0m\u001b[0;34m\u001b[0m\u001b[0m\n\u001b[0;32m----> 2\u001b[0;31m \u001b[0mf\u001b[0m\u001b[0;34m(\u001b[0m\u001b[0;34m)\u001b[0m\u001b[0;34m\u001b[0m\u001b[0;34m\u001b[0m\u001b[0m\n\u001b[0m",
      "\u001b[0;32m<ipython-input-9-6c283c4bc062>\u001b[0m in \u001b[0;36mf\u001b[0;34m()\u001b[0m\n\u001b[1;32m      1\u001b[0m \u001b[0ma\u001b[0m \u001b[0;34m=\u001b[0m \u001b[0;36m1\u001b[0m\u001b[0;34m\u001b[0m\u001b[0;34m\u001b[0m\u001b[0m\n\u001b[1;32m      2\u001b[0m \u001b[0;32mdef\u001b[0m \u001b[0mf\u001b[0m\u001b[0;34m(\u001b[0m\u001b[0;34m)\u001b[0m\u001b[0;34m:\u001b[0m\u001b[0;34m\u001b[0m\u001b[0;34m\u001b[0m\u001b[0m\n\u001b[0;32m----> 3\u001b[0;31m     \u001b[0ma\u001b[0m \u001b[0;34m=\u001b[0m \u001b[0ma\u001b[0m \u001b[0;34m+\u001b[0m \u001b[0;36m1\u001b[0m\u001b[0;34m\u001b[0m\u001b[0;34m\u001b[0m\u001b[0m\n\u001b[0m\u001b[1;32m      4\u001b[0m     \u001b[0;32mreturn\u001b[0m \u001b[0ma\u001b[0m\u001b[0;34m\u001b[0m\u001b[0;34m\u001b[0m\u001b[0m\n",
      "\u001b[0;31mUnboundLocalError\u001b[0m: local variable 'a' referenced before assignment"
     ]
    }
   ],
   "source": [
    "# 함수 : 선언, 호출\n",
    "f()\n",
    "# 호출시 에러"
   ]
  },
  {
   "cell_type": "code",
   "execution_count": 54,
   "metadata": {},
   "outputs": [
    {
     "name": "stdout",
     "output_type": "stream",
     "text": [
      "first deco\n",
      "second deco\n",
      "i am tiny function\n"
     ]
    }
   ],
   "source": [
    "def deco1(func):\n",
    "    def wrap(x):\n",
    "        print(\"first deco\")\n",
    "        func(x)\n",
    "    return wrap\n",
    "\n",
    "def dec2(func2):\n",
    "    def wrap2(x1):\n",
    "        print(\"second deco\")\n",
    "        func2(x1)\n",
    "    return wrap2\n",
    "\n",
    "@deco1\n",
    "@dec2\n",
    "def hi(o):\n",
    "    print(\"i am tiny function\")\n",
    "\n",
    "hi(1)"
   ]
  },
  {
   "cell_type": "code",
   "execution_count": 55,
   "metadata": {},
   "outputs": [
    {
     "name": "stdout",
     "output_type": "stream",
     "text": [
      "second deco\n",
      "first deco\n",
      "i am tiny function\n"
     ]
    }
   ],
   "source": [
    "def deco1(func):\n",
    "    def wrap(x):\n",
    "        print(\"first deco\")\n",
    "        func(x)\n",
    "    return wrap\n",
    "\n",
    "def dec2(func2):\n",
    "    def wrap2(x1):\n",
    "        print(\"second deco\")\n",
    "        func2(x1)\n",
    "    return wrap2\n",
    "\n",
    "@dec2\n",
    "@deco1\n",
    "def hi(o):\n",
    "    print(\"i am tiny function\")\n",
    "\n",
    "hi(1)"
   ]
  },
  {
   "cell_type": "code",
   "execution_count": 56,
   "metadata": {},
   "outputs": [
    {
     "name": "stdout",
     "output_type": "stream",
     "text": [
      "are you kidding?\n",
      "no i am not kidding\n",
      "bye\n",
      "ok i am also a decorator, really not kidding\n",
      "hi\n"
     ]
    }
   ],
   "source": [
    "def decora(de):\n",
    "    print(\"are you kidding?\")\n",
    "    def hello(*args):\n",
    "        print(\"no i am not kidding\")\n",
    "        def wrapper(x):\n",
    "            print(\"bye\")\n",
    "            return de(*args,x)\n",
    "        return wrapper\n",
    "    return hello\n",
    "\n",
    "@decora\n",
    "def hi(fi,*args):\n",
    "    def wrappe(xx):\n",
    "        print(\"ok i am also a decorator, really not kidding\")\n",
    "        fi(xx)\n",
    "    return wrappe\n",
    "\n",
    "@hi()\n",
    "def has(xxx):\n",
    "    print(\"hi\")\n",
    "\n",
    "has(\"ui\")"
   ]
  },
  {
   "cell_type": "code",
   "execution_count": 57,
   "metadata": {},
   "outputs": [],
   "source": [
    "def decorator_with_args(decorator_to_enhance):\n",
    "    \"\"\" \n",
    "    This function is supposed to be used as a decorator.\n",
    "    It must decorate an other function, that is intended to be used as a decorator.\n",
    "    Take a cup of coffee.\n",
    "    It will allow any decorator to accept an arbitrary number of arguments,\n",
    "    saving you the headache to remember how to do that every time.\n",
    "    \"\"\"\n",
    "\n",
    "    # We use the same trick we did to pass arguments\n",
    "    def decorator_maker(*args, **kwargs):\n",
    "\n",
    "        # We create on the fly a decorator that accepts only a function\n",
    "        # but keeps the passed arguments from the maker.\n",
    "        def decorator_wrapper(func):\n",
    "\n",
    "            # We return the result of the original decorator, which, after all, \n",
    "            # IS JUST AN ORDINARY FUNCTION (which returns a function).\n",
    "            # Only pitfall: the decorator must have this specific signature or it won't work:\n",
    "            return decorator_to_enhance(func, *args, **kwargs)\n",
    "\n",
    "        return decorator_wrapper\n",
    "\n",
    "    return decorator_maker"
   ]
  },
  {
   "cell_type": "code",
   "execution_count": 58,
   "metadata": {},
   "outputs": [
    {
     "name": "stdout",
     "output_type": "stream",
     "text": [
      "Decorated with (42, 404, 1024) {}\n",
      "Hello Universe and everything\n"
     ]
    }
   ],
   "source": [
    "# You create the function you will use as a decorator. And stick a decorator on it :-)\n",
    "# Don't forget, the signature is \"decorator(func, *args, **kwargs)\"\n",
    "@decorator_with_args \n",
    "def decorated_decorator(func, *args, **kwargs): \n",
    "    def wrapper(function_arg1, function_arg2):\n",
    "        print(\"Decorated with {0} {1}\".format(args, kwargs))\n",
    "        return func(function_arg1, function_arg2)\n",
    "    return wrapper\n",
    "\n",
    "# Then you decorate the functions you wish with your brand new decorated decorator.\n",
    "\n",
    "@decorated_decorator(42, 404, 1024)\n",
    "def decorated_function(function_arg1, function_arg2):\n",
    "    print(\"Hello {0} {1}\".format(function_arg1, function_arg2))\n",
    "\n",
    "decorated_function(\"Universe and\", \"everything\")\n",
    "#outputs:\n",
    "#Decorated with (42, 404, 1024) {}\n",
    "#Hello Universe and everything\n",
    "\n",
    "# Whoooot!"
   ]
  },
  {
   "cell_type": "markdown",
   "metadata": {},
   "source": [
    "---"
   ]
  },
  {
   "cell_type": "code",
   "execution_count": 60,
   "metadata": {},
   "outputs": [
    {
     "name": "stdout",
     "output_type": "stream",
     "text": [
      "Just\n",
      "Hi i am he function he\n",
      "d\n",
      "Hi i am gh function he\n"
     ]
    }
   ],
   "source": [
    "def hello(func):\n",
    "    def he(x):\n",
    "        print(\"Just\")\n",
    "        print(\"Hi i am he function\",he.__name__)\n",
    "        func(x)\n",
    "    return he\n",
    "\n",
    "@hello\n",
    "def gh(xa):\n",
    "    print(\"d\")\n",
    "    print(\"Hi i am gh function\", gh.__name__)\n",
    "\n",
    "gh(13)"
   ]
  },
  {
   "cell_type": "code",
   "execution_count": 74,
   "metadata": {},
   "outputs": [
    {
     "name": "stdout",
     "output_type": "stream",
     "text": [
      "Just\n",
      "d\n",
      "Hi i am gh function gh\n"
     ]
    }
   ],
   "source": [
    "import functools\n",
    "\n",
    "def hello(func):\n",
    "    @functools.wraps(func)\n",
    "    def he(x):\n",
    "        print(\"Just\")\n",
    "        func(x)\n",
    "    return he\n",
    "\n",
    "@hello\n",
    "def gh(xa):\n",
    "    print(\"d\")\n",
    "    print(\"Hi i am gh function\", gh.__name__)\n",
    "\n",
    "gh(13)"
   ]
  },
  {
   "cell_type": "code",
   "execution_count": 68,
   "metadata": {},
   "outputs": [
    {
     "name": "stdout",
     "output_type": "stream",
     "text": [
      "decorator2\n",
      "decorator1\n",
      "inner1\n",
      "inner2\n",
      "foo\n"
     ]
    }
   ],
   "source": [
    "def decorator1(fn):\n",
    "    print(\"decorator1\")\n",
    "    def inner1(*args, **kwargs):\n",
    "        print(\"inner1\")\n",
    "        return fn(*args, **kwargs)\n",
    "    return inner1\n",
    "\n",
    "def decorator2(fn):\n",
    "    print(\"decorator2\")\n",
    "    def inner2(*args, **kwargs):\n",
    "        print(\"inner2\")\n",
    "        return fn(*args, **kwargs)\n",
    "    return inner2\n",
    "\n",
    "@decorator1\n",
    "@decorator2\n",
    "def foo():\n",
    "    print(\"foo\")\n",
    "    \n",
    "foo()"
   ]
  },
  {
   "cell_type": "code",
   "execution_count": 69,
   "metadata": {},
   "outputs": [
    {
     "name": "stdout",
     "output_type": "stream",
     "text": [
      "inner1\n",
      "inner2\n",
      "foo\n"
     ]
    }
   ],
   "source": [
    "foo()"
   ]
  },
  {
   "cell_type": "code",
   "execution_count": 70,
   "metadata": {},
   "outputs": [
    {
     "name": "stdout",
     "output_type": "stream",
     "text": [
      "inner1\n",
      "inner2\n",
      "foo\n"
     ]
    }
   ],
   "source": [
    "foo()"
   ]
  },
  {
   "cell_type": "code",
   "execution_count": 71,
   "metadata": {},
   "outputs": [
    {
     "name": "stdout",
     "output_type": "stream",
     "text": [
      "decorator2\n",
      "decorator1\n"
     ]
    }
   ],
   "source": [
    "@decorator1\n",
    "@decorator2\n",
    "def foo():\n",
    "    print(\"foo\")"
   ]
  },
  {
   "cell_type": "code",
   "execution_count": null,
   "metadata": {},
   "outputs": [],
   "source": []
  }
 ],
 "metadata": {
  "kernelspec": {
   "display_name": "Python 3",
   "language": "python",
   "name": "python3"
  },
  "language_info": {
   "codemirror_mode": {
    "name": "ipython",
    "version": 3
   },
   "file_extension": ".py",
   "mimetype": "text/x-python",
   "name": "python",
   "nbconvert_exporter": "python",
   "pygments_lexer": "ipython3",
   "version": "3.7.2"
  },
  "varInspector": {
   "cols": {
    "lenName": 16,
    "lenType": 16,
    "lenVar": 40
   },
   "kernels_config": {
    "python": {
     "delete_cmd_postfix": "",
     "delete_cmd_prefix": "del ",
     "library": "var_list.py",
     "varRefreshCmd": "print(var_dic_list())"
    },
    "r": {
     "delete_cmd_postfix": ") ",
     "delete_cmd_prefix": "rm(",
     "library": "var_list.r",
     "varRefreshCmd": "cat(var_dic_list()) "
    }
   },
   "types_to_exclude": [
    "module",
    "function",
    "builtin_function_or_method",
    "instance",
    "_Feature"
   ],
   "window_display": false
  }
 },
 "nbformat": 4,
 "nbformat_minor": 1
}
