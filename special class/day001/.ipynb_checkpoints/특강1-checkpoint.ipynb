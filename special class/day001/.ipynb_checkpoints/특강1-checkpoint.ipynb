{
 "cells": [
  {
   "cell_type": "markdown",
   "metadata": {},
   "source": [
    "Why? Open source\n",
    "오픈소스 하는 이유\n",
    "1. 내 실력을 보여주기 위해서(경력관리)\n",
    "\n",
    "2. 구글은 왜 open source를 할까?\n",
    "구글에서 만듦(오픈 안함)          회사에서 나간 사람들이 만든게 오픈소스해서 더 인기\n",
    "MapReduce            ->          Hadoop\n",
    "새로 만든게 주도권을 쥠 구글껀 도태됨, 구글꺼 개발자를 구하기 힘들어짐\n",
    "\n",
    "TensorFlow는 구글이 먼저 오픈소스함"
   ]
  },
  {
   "cell_type": "markdown",
   "metadata": {},
   "source": [
    "클라이언트-서버 방식 (SVN)\n",
    "computer A : 나\n",
    "computer B : 상대방\n",
    "\n",
    "분산 (깃) : \n",
    "3 node가 모두 server이자 client, 모두가 version data를 관리함"
   ]
  },
  {
   "cell_type": "markdown",
   "metadata": {},
   "source": [
    "38쪽 : 혼자 개발할 땐 괜찮음, 버전마다 숫자 numbering 해줌\n",
    "42쪽 : 다른 사람이랑 협업하면, 번호 매기기 힘듦... \n",
    "46쪽 : 자기 자신의 hash와 부모의 hash 값을 같이 보관해서 순서를 기록\n",
    "49쪽 : 앞 7자리 \n",
    "59쪽 : 2 개의 version이 생김"
   ]
  },
  {
   "cell_type": "markdown",
   "metadata": {},
   "source": [
    "깃 레포 이름짓는 규칙 : 전부 소문자, dash로 띄어쓰기"
   ]
  },
  {
   "cell_type": "markdown",
   "metadata": {},
   "source": [
    "remote : 나를 제외한 모든 노드를 remote로 설정 가능, 서버 & 다른 동료의 컴퓨터 & 깃헙 등등..."
   ]
  },
  {
   "cell_type": "markdown",
   "metadata": {},
   "source": [
    "master는 나의 main branch\n",
    "origin/master, origin/HEAD origin의 master branch와 HEAD\n",
    "HEAD는 내 현재 working directory 를 가리킴"
   ]
  },
  {
   "cell_type": "markdown",
   "metadata": {},
   "source": [
    "checkout 시키면 working directory 가 바뀜"
   ]
  },
  {
   "cell_type": "markdown",
   "metadata": {},
   "source": [
    "source tree는 ide independent하게 사용가능\n",
    "source tree 는 다양한 ide사용하는데 편리함\n",
    "ide에 있는 git을 사용하면 ide마다 공부해야함\n",
    "source tree는 git의 대부분의 기능을 지원한다."
   ]
  },
  {
   "cell_type": "markdown",
   "metadata": {},
   "source": [
    "git reset 은 staging area에 있는 파일을 unstaging 하는 것이다."
   ]
  },
  {
   "cell_type": "markdown",
   "metadata": {},
   "source": [
    "현재 변경된 모든 사항을 add 할 때(파일이 수십개일때)\n",
    "git add . \n",
    "를 사용한다."
   ]
  },
  {
   "cell_type": "markdown",
   "metadata": {},
   "source": [
    "tag를 달면 checkout 할때 hash값 말고 tag 값으로 이동이 가능하다.\n",
    "hash값으로 이동하기 어려우니까....\n",
    "tag로 이동하기 쉽다."
   ]
  },
  {
   "cell_type": "markdown",
   "metadata": {},
   "source": [
    "git commit은 내 컴퓨터에만 기록이 남음\n",
    "git push하는 코드만 remote repo에 올라옴\n",
    "\n",
    "긍까 내 컴퓨터에서 이거저거 git commit 하면서 다양한 방향으로 구현해보고(save point 역할)\n",
    "깔끔하고 잘 되는 코드만 git push 해서 \n",
    "외부에는 push한 노드만 보임"
   ]
  }
 ],
 "metadata": {
  "kernelspec": {
   "display_name": "Python 3",
   "language": "python",
   "name": "python3"
  },
  "language_info": {
   "codemirror_mode": {
    "name": "ipython",
    "version": 3
   },
   "file_extension": ".py",
   "mimetype": "text/x-python",
   "name": "python",
   "nbconvert_exporter": "python",
   "pygments_lexer": "ipython3",
   "version": "3.7.1"
  }
 },
 "nbformat": 4,
 "nbformat_minor": 2
}
