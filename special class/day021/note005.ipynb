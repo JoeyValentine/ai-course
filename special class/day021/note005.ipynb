{
 "cells": [
  {
   "cell_type": "markdown",
   "metadata": {},
   "source": [
    "# [도커로 tensorflow 개발환경 만들기](http://moducon.kr/2018/wp-content/uploads/sites/2/2018/12/leesangsoo_slide.pdf)\n",
    "# [도커 사용법](https://subicura.com/2017/02/10/docker-guide-for-beginners-create-image-and-deploy.html#%EB%B0%B0%ED%8F%AC%EC%97%90-%EB%8C%80%ED%95%B4-%EB%8D%94-%EC%95%8C%EC%95%84%EB%B3%B4%EA%B8%B0)\n",
    "# [tensorflow docker](https://www.tensorflow.org/install/docker)"
   ]
  },
  {
   "cell_type": "markdown",
   "metadata": {},
   "source": [
    "docker search centos  \n",
    "centos 이미지를 검색함"
   ]
  },
  {
   "cell_type": "markdown",
   "metadata": {},
   "source": [
    "docker pull centos  \n",
    "이미지를 파일을 로컬로 가져옴"
   ]
  },
  {
   "cell_type": "markdown",
   "metadata": {},
   "source": [
    "docker images  \n",
    "다운 받은 이미지 확인"
   ]
  },
  {
   "cell_type": "markdown",
   "metadata": {},
   "source": [
    "docker inspect centos:latest  \n",
    "도커 이미지 정보 확인할 때 사용, 메타 정보"
   ]
  },
  {
   "cell_type": "markdown",
   "metadata": {},
   "source": [
    "docker rmi centos\n",
    "삭제하는 기능"
   ]
  },
  {
   "cell_type": "markdown",
   "metadata": {},
   "source": [
    "docker inspect image_id(앞 4글자만 해도 됨)"
   ]
  },
  {
   "cell_type": "markdown",
   "metadata": {},
   "source": [
    "docker run centos echo \"hello world\""
   ]
  },
  {
   "cell_type": "markdown",
   "metadata": {},
   "source": [
    "docker ps (현재 실행중인 process)  \n",
    "docker ps -a  (전에 실행 했던 것도 출력)  \n",
    "docker ps -a -n=5   \n",
    "docker 의 process status  "
   ]
  },
  {
   "cell_type": "markdown",
   "metadata": {},
   "source": [
    "주의:  \n",
    "이미지도, 컨테이너(실행된 이미지)도 각자 hash tag가 있음"
   ]
  },
  {
   "cell_type": "markdown",
   "metadata": {},
   "source": [
    "docker rm container_id(앞 4자만 입력해도 됨)"
   ]
  },
  {
   "cell_type": "markdown",
   "metadata": {},
   "source": [
    "docker run -d centos free -s 3  \n",
    "-d : background로 수행되어서 실행 결과가 화면에 안나옴 \n",
    "3초마다 메모리 상태 출력해주는듯??  \n",
    "수행되는지 확인하려면 로그를 확인해야 함"
   ]
  },
  {
   "cell_type": "markdown",
   "metadata": {},
   "source": [
    "docker logs container_id  "
   ]
  },
  {
   "cell_type": "markdown",
   "metadata": {},
   "source": [
    "docker attach --sig-proxy=false container-id foreground실행으로 바뀜  \n",
    "background실행에서 foreground실행으로 바꿔서 화면에 출력해주고 있음  \n",
    "ctrl + C를 누르면 프론트 실행을 백엔드 실행으로 바뀜  "
   ]
  },
  {
   "cell_type": "markdown",
   "metadata": {},
   "source": [
    "실행중인 컨테이너를 임시 정지  \n",
    "docker kill container_id  \n",
    "\n",
    "중지된 것을 다시 실행  \n",
    "docker start container_id  "
   ]
  },
  {
   "cell_type": "markdown",
   "metadata": {},
   "source": [
    "도커 이미지 만들기  \n",
    "docker run -i -t centos /bin/bash  \n",
    "interactive mode , t terminal"
   ]
  },
  {
   "cell_type": "markdown",
   "metadata": {},
   "source": [
    "docker commit contianer_id 아이디/directory  \n",
    "도커허브에 commit\n",
    "\n",
    "----"
   ]
  },
  {
   "cell_type": "markdown",
   "metadata": {},
   "source": [
    "도커 이미지 만들기  \n",
    "docker run -it centos  \n",
    "cd /home  \n",
    "touch hello.txt  \n",
    "exit  \n",
    "\n",
    "docker commit container_id joeyvalentine(도커허브 아이디)/hello   \n",
    "docker run -it joeyvalentine/hello /bin/bash  \n",
    "\n",
    "전에 만든 hello.txt가 그대로 존재함\n",
    "\n",
    "----"
   ]
  },
  {
   "cell_type": "markdown",
   "metadata": {},
   "source": [
    "Dockerfile은 컨테이너 만드는 과정을 자동화해주는 자동화 스크립트이다. \n",
    "\n",
    "FROM centos # \n",
    "  \n",
    "### RUN : build 할 때 실행, 설치 cmd적으면 될 듯\n",
    "RUN echo \"now building\"\n",
    "\n",
    "### CMD : docker run할 때 실행\n",
    "CMD [\"echo\", \"now running...\"]\n",
    "\n",
    "-----"
   ]
  },
  {
   "cell_type": "markdown",
   "metadata": {},
   "source": [
    "# vi Dockerfile\n",
    "\n",
    "FROM centos\n",
    "MainFROM centos\n",
    "  \n",
    "RUN yum install -y httpd\n",
    "\n",
    "### ADD : build 할 때 로컬에 있는 파일을 컨테이너에 추가할 때 사용\n",
    "ADD ./index.html /var/www/html/\n",
    "\n",
    "### 포트를 열 때 사용\n",
    "EXPOSE 80\n",
    "\n",
    "### CMD : 컨네이너가 run으로 실행할 때 사용\n",
    "CMD [\"/usr/sbin/httpd\", \"-D\", \"FOREGROUND\"]\n",
    "\n",
    "# 도커 이미지 생성하는 명령어\n",
    "docker build -t joeyvalentine/파일이름 .  \n"
   ]
  },
  {
   "cell_type": "markdown",
   "metadata": {},
   "source": [
    "### docker login  \n",
    "도커 이미지를 push하기 위한 로그인"
   ]
  },
  {
   "cell_type": "markdown",
   "metadata": {},
   "source": [
    "docker push joeyvalentine/이미지이름"
   ]
  },
  {
   "cell_type": "markdown",
   "metadata": {},
   "source": [
    "오픈소스 하는 이유  \n",
    "구글 자기들 것을 사용하는 좋은 개발자를 뽑기 위해서  "
   ]
  },
  {
   "cell_type": "markdown",
   "metadata": {},
   "source": [
    "docker pull tensorflow/tensorflow:latest-py3  \n",
    "docker run -it tensorflow/tensorflow:latest-py3  \n",
    "tensorflow에 대한 이미지를 받음"
   ]
  },
  {
   "cell_type": "markdown",
   "metadata": {},
   "source": [
    "docker run -it -p 8888:8888 tensorflow/tensorflow:latest-py3-jupyter\n",
    "jupyter notebook 버전 근데, 어떻게쓰는거야??"
   ]
  },
  {
   "cell_type": "markdown",
   "metadata": {},
   "source": [
    "docker run -it -p 8888:8888 tensorflow/tensorflow:latest-gpu-py3-jupyter\n",
    "# gpu사용하는 버전"
   ]
  }
 ],
 "metadata": {
  "kernelspec": {
   "display_name": "Python 3",
   "language": "python",
   "name": "python3"
  },
  "language_info": {
   "codemirror_mode": {
    "name": "ipython",
    "version": 3
   },
   "file_extension": ".py",
   "mimetype": "text/x-python",
   "name": "python",
   "nbconvert_exporter": "python",
   "pygments_lexer": "ipython3",
   "version": "3.7.2"
  }
 },
 "nbformat": 4,
 "nbformat_minor": 2
}
