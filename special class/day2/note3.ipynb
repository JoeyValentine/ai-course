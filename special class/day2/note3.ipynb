{
 "cells": [
  {
   "cell_type": "markdown",
   "metadata": {},
   "source": [
    "# 협업 "
   ]
  },
  {
   "cell_type": "markdown",
   "metadata": {},
   "source": [
    "글자는 markdown\n",
    "\n",
    "그림은 mockup tool - real pixel크기로 만들어냄\n",
    "\n",
    "---"
   ]
  },
  {
   "cell_type": "markdown",
   "metadata": {},
   "source": [
    "Haroopad로 오른쪽 화면창을 복사해서 gmail로 보내면 그대로 복사되어서 좋다!!!\n",
    "\n",
    "---"
   ]
  },
  {
   "cell_type": "markdown",
   "metadata": {},
   "source": [
    "1. 하하하하\n",
    "2. aaaa\n",
    "3. assss\n",
    "\n",
    "수정 전\n",
    "\n",
    "5. sdfsdfsd\n",
    "7. slslsls\n",
    "\n",
    "를 저거 위에 삽입하고 싶어\n",
    "\n",
    "---"
   ]
  },
  {
   "cell_type": "markdown",
   "metadata": {},
   "source": [
    "1. 하하하하\n",
    "2. aaaa\n",
    "7. slslsls\n",
    "3. assss\n",
    "5. sdfsdfsd\n",
    "\n",
    "수정 후 숫자가 안맞아도 괜찮다! (그냥 복사 붙여넣고, 숫자를 따로 안바꿔도 된다.)\n",
    "\n",
    "실제로 쓴 숫자와 상관없이 다시 순서대로 맞춰준다.\n",
    "\n",
    "(내가 숫자를 다시 전부 수정 안해도 된다.)\n",
    "\n",
    "---"
   ]
  },
  {
   "cell_type": "markdown",
   "metadata": {},
   "source": [
    "코드 일부분을 나타낼 땐 <code>git init</code>\n",
    "\n",
    "---"
   ]
  },
  {
   "cell_type": "markdown",
   "metadata": {},
   "source": [
    "Gitcoin현상금 노리는 프로그래머"
   ]
  },
  {
   "cell_type": "markdown",
   "metadata": {},
   "source": [
    "## 기여하는 방법\n",
    "\n",
    "1. Issue(게시판) 먼저 보내야 한다. (물어보지도 않고 pull request하면 검토 안해준다.)\n",
    "2. fork\n",
    "3. commit / push\n",
    "4. pull request"
   ]
  },
  {
   "cell_type": "markdown",
   "metadata": {},
   "source": [
    "# [AdminLTE](https://adminlte.io/themes/AdminLTE/index2.html)\n",
    "\n",
    "# [AdminLTE Github](https://github.com/ColorlibHQ/AdminLTE)\n",
    "\n",
    "---"
   ]
  },
  {
   "cell_type": "markdown",
   "metadata": {},
   "source": [
    "Unit test : 모듈과 모듈을 검증하는 모듈 pair로 개발하는 방식\n",
    "\n",
    "Travis CI (오픈소스 프로젝트는 무료)\n",
    "\n",
    "개발 환경 똑같이 만들어줌 -> 내 코드를 컴파일해서 모듈 검증을 해준다. -> 검증 결과를 내 repo의 pull request쪽에 보여준다.\n",
    "\n",
    "codecov : 코드 coverage를 자동으로 계산해줌. Unit test가 존재하는 모듈의 비율을 계산해준다.\n",
    "\n",
    "---"
   ]
  },
  {
   "cell_type": "markdown",
   "metadata": {},
   "source": [
    "주석이나 메뉴얼 맞춤법, 한글화 도움됨 (짜잘짜잘하게 pull request하면 귀찮아서 거절한다.)\n",
    "\n",
    "copyright를 노려보세요?? : 년도를 바꿔야 할 때 연말에 바꿔주기\n",
    "\n",
    "---"
   ]
  },
  {
   "cell_type": "markdown",
   "metadata": {},
   "source": [
    "github에서 : <code>is:open</code> 입력하면 해결못한 문제에 대해서 보여준다.\n",
    "\n",
    "근데, 대부분 난이도가 너무 높다 ㅠㅠ\n",
    "\n",
    "쉬운 문제들을 올려놓음\n",
    "\n",
    "<code>label:\"good first issue\" is:open</code>\n",
    "\n",
    "<code>label:first-timers-only is:open</code>"
   ]
  }
 ],
 "metadata": {
  "kernelspec": {
   "display_name": "Python 3",
   "language": "python",
   "name": "python3"
  },
  "language_info": {
   "codemirror_mode": {
    "name": "ipython",
    "version": 3
   },
   "file_extension": ".py",
   "mimetype": "text/x-python",
   "name": "python",
   "nbconvert_exporter": "python",
   "pygments_lexer": "ipython3",
   "version": "3.7.2"
  }
 },
 "nbformat": 4,
 "nbformat_minor": 2
}
