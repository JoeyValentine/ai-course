{
 "cells": [
  {
   "cell_type": "markdown",
   "metadata": {},
   "source": [
    "# Git"
   ]
  },
  {
   "cell_type": "markdown",
   "metadata": {},
   "source": [
    "에디터를 Atom 이나 Visual Studio Code 로 변경\n",
    "\n",
    "- Local : git config core.editor “atom —wait”  # 현 위치의 git 프로젝트에만 적용된다. \n",
    "\n",
    "- Global : git config —global core.editor “atom —wait”  # 내 컴퓨터에서 관리하는 모든 깃프로젝트가 영향을 받는다.\n",
    "\n",
    "Commit Message 를 CLI 에서 한번에\n",
    "- git commit -m “Add a README.md”  # 특별한 test editor 사용하지 않고 message를 작성하는 방법\n",
    "\n",
    "---"
   ]
  },
  {
   "cell_type": "markdown",
   "metadata": {},
   "source": [
    "### fast forward \n",
    "언제 일어나는가? : 현재 HEAD위치와 merge into되려는 branch가 일직선상에 있어야 한다.\n",
    "결과 : HEAD pointer만 변경\n",
    "\n",
    "### 3 way merge\n",
    "언제 일어나는가? : Y자 형태갈라진 상태에서, 합칠 떄\n",
    "결과 : 코드를 합쳐주고, 충돌은 내가 해결해야 한다.\n",
    "\n",
    "---"
   ]
  },
  {
   "cell_type": "markdown",
   "metadata": {},
   "source": [
    "github : social network형태!\n",
    "\n",
    "fork, pull request : github만의 기능\n",
    "\n",
    "---"
   ]
  },
  {
   "cell_type": "markdown",
   "metadata": {},
   "source": [
    "### fork : repo 퍼가기\n",
    "\n",
    "* Fork 를 안하면 수정 권한이 없다\n",
    "* 단순 Copy는 버전관리가 되지 않는다\n",
    "    1. 커밋 불가\n",
    "    2. 원본 Repository 와 비교가 안됨\n",
    "    3. 수정된 파일들을 보낼 수 없음\n",
    "* Fork 를 하면, 모든 권한 획득 & 마음껏 테스트 가능\n",
    "\n",
    "----"
   ]
  },
  {
   "cell_type": "markdown",
   "metadata": {},
   "source": [
    "### pull request : fork한 프로젝트 내가 수정하고, 수정사항 반영할 것을 요청하기\n",
    "\n",
    "Forked Repository 수정 사항을\n",
    "원본 Repository 에 제안 하는 행위\n",
    "\n",
    "내 repo에서 base repo에 merge시킴.\n",
    "\n",
    "---"
   ]
  },
  {
   "cell_type": "markdown",
   "metadata": {},
   "source": [
    "내가 repo fork받아서 수정한 이후에 base repo가 변하면,\n",
    "\n",
    "내가 보내는 pull request는 모두 기각되고 보낼 수도 없다.\n",
    "\n",
    "다시 fork받아서 수정해야한다.\n",
    "\n",
    "다른 방법으로는, base repo에 대한 \n",
    "\n",
    "\n",
    "\n",
    "---"
   ]
  },
  {
   "cell_type": "markdown",
   "metadata": {},
   "source": [
    "Watch : repo가 바뀔 때마다 alarm이 오도록 Watch설정 가능\n",
    "\n",
    "Star : 좋아요랑 같음\n",
    "\n",
    "issue : 게시판, 주로 pull request전에 먼저 올림\n",
    "\n",
    "---"
   ]
  }
 ],
 "metadata": {
  "kernelspec": {
   "display_name": "Python 3",
   "language": "python",
   "name": "python3"
  },
  "language_info": {
   "codemirror_mode": {
    "name": "ipython",
    "version": 3
   },
   "file_extension": ".py",
   "mimetype": "text/x-python",
   "name": "python",
   "nbconvert_exporter": "python",
   "pygments_lexer": "ipython3",
   "version": "3.7.2"
  }
 },
 "nbformat": 4,
 "nbformat_minor": 2
}
