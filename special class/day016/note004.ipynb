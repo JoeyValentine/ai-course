{
 "cells": [
  {
   "cell_type": "markdown",
   "metadata": {},
   "source": [
    "# [Docker Document](https://docs.docker.com/)"
   ]
  },
  {
   "cell_type": "markdown",
   "metadata": {},
   "source": [
    "개발 문제점 : 환경설정 통일이 어려움  \n",
    "표준화할 수 있는 방법을 고안함  \n",
    "리눅스 커널 위에서 동작하는 서비스  \n",
    "\n",
    "도커 : LXC 쉽게 사용할 수 있게 해줌  \n",
    "실행 환경을 컨테이너에 묶어서 도커라고 하는듯  \n",
    "실행 환경을 저장할 수 있다.  \n",
    "저장된 환경을 재사용할 수 있도록 해줌"
   ]
  },
  {
   "cell_type": "markdown",
   "metadata": {},
   "source": [
    "virtual의 역사 : 다른 아키텍쳐의 환경을 가상화해서 이전 프로그램의 호환성을 제공함  \n",
    "hypervisor가 가상의 환경을 제공해준다."
   ]
  },
  {
   "cell_type": "markdown",
   "metadata": {},
   "source": [
    "가상화 장점 : 클라우드 기술의 핵심 기반  \n",
    "1. 서비스에 대한 신뢰성이 확대됨 : os가 죽으면 vm에서 다른 os실행하면 됨  \n",
    "2. cpu의 throughput을 높여준다. (여러 os에게 동시에 일을 시킴)"
   ]
  },
  {
   "cell_type": "markdown",
   "metadata": {},
   "source": [
    "클라우드 장점\n",
    "1. 유지비가 덜 든다.\n",
    "2. 유동적으로 사용량이 변하는 곳에서 적절하다. : 매일 서버를 유지하기 힘듦, aws에서는 사용량만큼 돈을 냄\n"
   ]
  },
  {
   "cell_type": "markdown",
   "metadata": {},
   "source": [
    "공통된 os(linux)에다가   \n",
    "컨테이너에 공통된 환경과 다른 것을 저장함 == vm보다 가볍다  \n",
    "도커는 그것을 편리하게 사용할 수 있도록 하는 것"
   ]
  },
  {
   "cell_type": "markdown",
   "metadata": {},
   "source": [
    "배포하기 좋게하기 위해서 사용하는듯???"
   ]
  },
  {
   "cell_type": "markdown",
   "metadata": {},
   "source": [
    "c언어 빠른 이유 vm을 거치지 않는다. == 겁나 빠름\n",
    "\n",
    "java == jvm  \n",
    "python == cython"
   ]
  },
  {
   "cell_type": "markdown",
   "metadata": {},
   "source": [
    "os : resource manager(memory, storage, internet)"
   ]
  },
  {
   "cell_type": "markdown",
   "metadata": {},
   "source": [
    "docker vs virtual machine   \n",
    "가상 머신보다 가볍다.  \n",
    "\n",
    "모두가 동등한 환경에서 실행할 수 있게된다.  \n",
    "게다가 차이점만 들고다녀서 가볍다."
   ]
  },
  {
   "cell_type": "markdown",
   "metadata": {},
   "source": [
    "도커 장점  \n",
    "1. 속도 빠르다.\n",
    "2. 배포가 쉽다.\n",
    "3. 재생산성이 뛰어나다.(vm에 비해서)"
   ]
  },
  {
   "cell_type": "markdown",
   "metadata": {},
   "source": [
    "# docker for mac, window받아서 실행하는 것이 나은 것 같다....\n",
    "\n",
    "# 도커 설치 방법\n",
    "\n",
    "1. virtual box 운영체제에 맞게 설치  \n",
    "2. virtual box extension pack설치  \n",
    "3. ubuntu 설치  \n",
    "4. 설정 네트워크에서 Nat네트워크 설치  \n",
    "5. 어뎁터2에서 네트워크 어댑터 사용하기 누르고 호스트전용 어댑터로 설정하기  \n",
    "6. 고급에서 무작위모드 설정  \n",
    "\n",
    "우분투에서... \n",
    "1. wget -qO- https://get.docker.com/ | sh  도커 설치하는 shell script  \n",
    "2. wget(web get), -qO-(파일형태로)  \n",
    "3. sudo usermod -aG docker ubuntu(사용자이름) : 도커는 수도 권한으로해야 실행해야 한다.  \n",
    "우분투라는 사용자에게 도커그룹의 권한을 제공해야 한다"
   ]
  },
  {
   "cell_type": "markdown",
   "metadata": {},
   "source": [
    "docker pull : 남이 만든 이미지를 가져옴  \n",
    "docker run : 이미지 파일을 실행"
   ]
  },
  {
   "cell_type": "markdown",
   "metadata": {},
   "source": [
    "CLI : GUI보다 자동화 가능해서 더 많이 씀 게다가 짧은 길이의 명령어로 함"
   ]
  },
  {
   "cell_type": "markdown",
   "metadata": {},
   "source": [
    "[OS image를 구워서 usb로 바로 OS 실행해서 USB없이 docker사용 가능](https://www.balena.io/etcher/)\n",
    "\n",
    "[굽는 방법](https://sssunho.tistory.com/61)\n",
    "\n",
    "vm으로 사용하면 다른 OS로 전환도 빠르고, 환경을 다시 복구하고 삭제하는 것이 편하다.  \n",
    "\n",
    "하드웨어에 직접 깔면 OS지우고 깔기 개힘들다."
   ]
  }
 ],
 "metadata": {
  "kernelspec": {
   "display_name": "Python 3",
   "language": "python",
   "name": "python3"
  },
  "language_info": {
   "codemirror_mode": {
    "name": "ipython",
    "version": 3
   },
   "file_extension": ".py",
   "mimetype": "text/x-python",
   "name": "python",
   "nbconvert_exporter": "python",
   "pygments_lexer": "ipython3",
   "version": "3.7.2"
  }
 },
 "nbformat": 4,
 "nbformat_minor": 2
}
