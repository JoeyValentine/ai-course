{
 "cells": [
  {
   "cell_type": "markdown",
   "metadata": {},
   "source": [
    "# 협업 \n",
    "---"
   ]
  },
  {
   "cell_type": "markdown",
   "metadata": {},
   "source": [
    "> 커뮤니케이션을 잘하는 방법은 커뮤니케이션을 하지 않는 것이다\n",
    "> - 말 (X)\n",
    "> - 글 (O) : markdown \n",
    "> - 그림 (O) : mockup tool (real pixel크기로 만들어냄)\n",
    "\n",
    "\n",
    "---"
   ]
  },
  {
   "cell_type": "markdown",
   "metadata": {},
   "source": [
    "Haroopad로 오른쪽 화면창을 복사해서 gmail로 보내면 그대로 복사되어서 좋다!!!\n",
    "\n",
    "---"
   ]
  },
  {
   "cell_type": "markdown",
   "metadata": {},
   "source": [
    "1. 하하하하\n",
    "2. aaaa\n",
    "3. assss\n",
    "\n",
    "수정 전\n",
    "\n",
    "5. sdfsdfsd\n",
    "7. slslsls\n",
    "\n",
    "를 저거 위에 삽입하고 싶을 때\n",
    "\n",
    "---"
   ]
  },
  {
   "cell_type": "markdown",
   "metadata": {},
   "source": [
    "1. 하하하하\n",
    "2. aaaa\n",
    "7. slslsls\n",
    "3. assss\n",
    "5. sdfsdfsd\n",
    "\n",
    "수정 후 숫자가 안맞아도 괜찮다! (그냥 복사 붙여넣고, 숫자를 따로 안바꿔도 된다.)\n",
    "\n",
    "실제로 쓴 숫자와 상관없이 다시 순서대로 맞춰준다.\n",
    "\n",
    "(내가 숫자를 다시 전부 수정 안해도 된다.)\n",
    "\n",
    "---"
   ]
  },
  {
   "cell_type": "markdown",
   "metadata": {},
   "source": [
    "코드 일부분을 나타낼 땐 <code>git init</code>\n",
    "\n",
    "---"
   ]
  },
  {
   "cell_type": "markdown",
   "metadata": {},
   "source": [
    "Gitcoin현상금 노리는 프로그래머"
   ]
  },
  {
   "cell_type": "markdown",
   "metadata": {},
   "source": [
    "## 기여하는 방법\n",
    "\n",
    "1. Issue(게시판) 먼저 보내야 한다. (물어보지도 않고 pull request하면 검토 안해준다, 개발자들에게 바꿀 의향이 있는지 묻는게 예의겠지)\n",
    "2. fork\n",
    "3. commit / push\n",
    "4. pull request"
   ]
  },
  {
   "cell_type": "markdown",
   "metadata": {},
   "source": [
    "# [AdminLTE](https://adminlte.io/themes/AdminLTE/index2.html)\n",
    "\n",
    "# [AdminLTE Github](https://github.com/ColorlibHQ/AdminLTE)\n",
    "\n",
    "---"
   ]
  },
  {
   "cell_type": "markdown",
   "metadata": {},
   "source": [
    "Unit test : 모듈과 모듈을 검증하는 모듈 pair로 개발하는 방식\n",
    "\n",
    "Travis CI (오픈소스 프로젝트는 무료)\n",
    "\n",
    "docker : 개발 환경 똑같이 만들어줌 -> 내 코드를 컴파일해서 모듈 검증을 해준다. -> 검증 결과를 내 repo의 pull request쪽에 보여준다.\n",
    "\n",
    "codecov : 코드 coverage를 자동으로 계산해줌. Unit test가 존재하는 모듈의 비율을 계산해준다.\n",
    "\n",
    "---"
   ]
  },
  {
   "cell_type": "markdown",
   "metadata": {},
   "source": [
    "오픈소스 프로젝트에 기여하기\n",
    "1. 오타와 코드 정리부터 시작하세요.\n",
    "    * 오타: 맞춤법 검사기 사용\n",
    "    * 코드: \n",
    "        1. 사용하지 않는 변수 찾기\n",
    "        2. 과도한 Stack 메모리 사용 억제\n",
    "2. Copyright 를 노려보세요 \n",
    "3. Issue도 큰 기여입니다"
   ]
  },
  {
   "cell_type": "markdown",
   "metadata": {},
   "source": [
    "github에서 : <code>is:open</code> 입력하면 해결못한 문제에 대해서 보여준다.\n",
    "\n",
    "근데, 대부분 난이도가 높다.\n",
    "\n",
    "### 쉬운문제 검색하는 방법\n",
    "\n",
    "<code>label:\"good first issue\" is:open</code>\n",
    "\n",
    "<code>label:first-timers-only is:open</code>"
   ]
  }
 ],
 "metadata": {
  "kernelspec": {
   "display_name": "Python 3",
   "language": "python",
   "name": "python3"
  },
  "language_info": {
   "codemirror_mode": {
    "name": "ipython",
    "version": 3
   },
   "file_extension": ".py",
   "mimetype": "text/x-python",
   "name": "python",
   "nbconvert_exporter": "python",
   "pygments_lexer": "ipython3",
   "version": "3.7.2"
  }
 },
 "nbformat": 4,
 "nbformat_minor": 2
}
