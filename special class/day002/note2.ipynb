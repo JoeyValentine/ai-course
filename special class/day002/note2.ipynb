{
 "cells": [
  {
   "cell_type": "markdown",
   "metadata": {},
   "source": [
    "# Git"
   ]
  },
  {
   "cell_type": "markdown",
   "metadata": {},
   "source": [
    "에디터를 Atom 이나 Visual Studio Code 로 변경\n",
    "\n",
    "- Local : git config core.editor “atom —wait”  # 현 위치의 git 프로젝트에만 적용된다. \n",
    "\n",
    "- Global : git config —global core.editor “atom —wait”  # 내 컴퓨터에서 관리하는 모든 깃프로젝트가 영향을 받는다.\n",
    "\n",
    "Commit Message 를 CLI 에서 한번에\n",
    "- git commit -m “Add a README.md”  # 특별한 test editor 사용하지 않고 message를 작성하는 방법\n",
    "\n",
    "---"
   ]
  },
  {
   "cell_type": "markdown",
   "metadata": {},
   "source": [
    "### git reset HEAD Calculator.java\n",
    "\n",
    "staging area에 있는 파일을 working directory로 옮긴다.\n",
    "\n",
    "### git commit --ammend\n",
    "\n",
    "> 이렇게 --amend 옵션으로 커밋을 고치는 작업은, 추가로 작업한 일이 작다고 하더라도 이전의 커밋을 완전히 새로 고쳐서 \n",
    "> 새 커밋으로 변경하는 것을 의미한다. 이전의 커밋은 일어나지 않은 일이 되는 것이고 당연히 히스토리에도 남지 않는다.\n",
    ">\n",
    "> --amend 옵션으로 커밋을 고치는 작업이 주는 장점은 마지막 커밋 작업에서 아주 살짝 뭔가 빠뜨린 것을 넣거나 변경하는 것을 \n",
    "> **새 커밋으로 분리하지 않고** 하나의 커밋에서 처리하는 것이다. “앗차, 빠진 파일 넣었음”, “이전 커밋에서 오타 살짝 고침” 등의 커밋을 만들지 않겠다는 말이다.\n",
    "\n",
    "### Stashing과 Cleaning\n",
    "> 당신이 어떤 프로젝트에서 한 부분을 담당하고 있다고 하자. 그리고 여기에서 뭔가 작업하던 일이 있고 다른 요청이 들어와서 잠시 브랜치를 변경해야 할 일이 생겼다고 치자. 그런데 이런 상황에서 아직 완료하지 않은 일을 커밋하는 것이 껄끄럽다는 것이 문제다. 커밋하지 않고 나중에 다시 돌아와서 작업을 다시 하고 싶을 것이다. 이 문제는 git stash 라는 명령으로 해결할 수 있다.\n",
    ">\n",
    "> Stash 명령을 사용하면 워킹 디렉토리에서 수정한 파일들만 저장한다. Stash는 Modified이면서 Tracked 상태인 파일과 Staging Area에 있는 파일들을 보관해두는 장소다. 아직 끝내지 않은 수정사항을 스택에 잠시 저장했다가 나중에 다시 적용할 수 있다(브랜치가 달라져도 말이다).\n",
    "\n",
    "commit은 완성된 파일을 기준으로 commit해야 한다. 따라서 미완성본은 stash에 보관하고 나중에 완성해서 commit하는 것이 옳다."
   ]
  },
  {
   "cell_type": "markdown",
   "metadata": {},
   "source": [
    "### fast forward \n",
    "언제 일어나는가? : 현재 HEAD위치와 merge into되려는 branch가 일직선상에 있어야 한다.\n",
    "결과 : HEAD pointer만 변경\n",
    "\n",
    "### 3 way merge\n",
    "언제 일어나는가? : Y자 형태갈라진 상태에서, 합칠 떄\n",
    "결과 : 코드를 합쳐주고, 충돌은 내가 해결해야 한다. 그리고 새로운 commit이 생긴다.\n",
    "\n",
    "---"
   ]
  },
  {
   "cell_type": "markdown",
   "metadata": {},
   "source": [
    "github : social network형태!\n",
    "\n",
    "fork, pull request, clone : github만의 기능"
   ]
  },
  {
   "cell_type": "markdown",
   "metadata": {},
   "source": [
    "### fork : repo 퍼가기\n",
    "\n",
    "* Fork 를 안하면 수정 권한이 없다\n",
    "* 단순 Copy는 버전관리가 되지 않는다\n",
    "    1. 커밋 불가\n",
    "    2. 원본 Repository 와 비교가 안됨\n",
    "    3. 수정된 파일들을 보낼 수 없음\n",
    "* Fork 를 하면, 모든 권한 획득 & 마음껏 테스트 가능\n",
    "\n",
    "----"
   ]
  },
  {
   "cell_type": "markdown",
   "metadata": {},
   "source": [
    "### pull request : fork한 프로젝트 내가 수정하고, 수정사항 반영할 것을 요청하기\n",
    "\n",
    "Forked Repository 수정 사항을\n",
    "원본 Repository 에 제안 하는 행위\n",
    "\n",
    "내 repo에서 base repo에 merge시킴.\n",
    "\n",
    "---"
   ]
  },
  {
   "cell_type": "markdown",
   "metadata": {},
   "source": [
    "내가 repo fork받아서 수정한 이후에 base repo가 변하면,\n",
    "\n",
    "내가 보내는 pull request는 모두 기각되고 보낼 수도 없다.\n",
    "\n",
    "다시 새로운 repo에 fork받아서 수정해야한다. 비효율...!\n",
    "\n",
    "다른 방법으로는\n",
    "1. base repo에 대한 remote를 추가한다.\n",
    "2. <code>git pull</code>를 수행해서 변화된 부분만 받는다.\n",
    "3. 내 repo에 push한다.\n",
    "4. 이제는 pull request다시 가능하다.\n",
    "\n",
    "---"
   ]
  },
  {
   "cell_type": "markdown",
   "metadata": {},
   "source": [
    "Watch : repo가 바뀔 때마다 alarm이 오도록 Watch설정 가능\n",
    "\n",
    "Star : 좋아요랑 같음\n",
    "\n",
    "issue : 게시판, 주로 pull request전에 먼저 올림\n",
    "\n",
    "---"
   ]
  }
 ],
 "metadata": {
  "kernelspec": {
   "display_name": "Python 3",
   "language": "python",
   "name": "python3"
  },
  "language_info": {
   "codemirror_mode": {
    "name": "ipython",
    "version": 3
   },
   "file_extension": ".py",
   "mimetype": "text/x-python",
   "name": "python",
   "nbconvert_exporter": "python",
   "pygments_lexer": "ipython3",
   "version": "3.7.2"
  }
 },
 "nbformat": 4,
 "nbformat_minor": 2
}
